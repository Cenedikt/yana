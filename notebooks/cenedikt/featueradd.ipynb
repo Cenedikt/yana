{
 "cells": [
  {
   "attachments": {},
   "cell_type": "markdown",
   "metadata": {},
   "source": [
    "# 1 ADD features to depression_data_set"
   ]
  },
  {
   "attachments": {},
   "cell_type": "markdown",
   "metadata": {},
   "source": [
    "## 1.1 import "
   ]
  },
  {
   "cell_type": "code",
   "execution_count": 99,
   "metadata": {},
   "outputs": [],
   "source": [
    "import pandas as pd\n",
    "import numpy as np\n",
    "import random"
   ]
  },
  {
   "attachments": {},
   "cell_type": "markdown",
   "metadata": {},
   "source": [
    "## 1.2 load CSV"
   ]
  },
  {
   "cell_type": "code",
   "execution_count": 100,
   "metadata": {},
   "outputs": [],
   "source": [
    "path = '/home/cenedikt/code/Cenedikt/yana/yana/data/depression_dataset_reddit_cleaned.csv'"
   ]
  },
  {
   "cell_type": "code",
   "execution_count": 101,
   "metadata": {},
   "outputs": [],
   "source": [
    "data = pd.read_csv(path)"
   ]
  },
  {
   "cell_type": "code",
   "execution_count": 102,
   "metadata": {},
   "outputs": [
    {
     "data": {
      "text/html": [
       "<div>\n",
       "<style scoped>\n",
       "    .dataframe tbody tr th:only-of-type {\n",
       "        vertical-align: middle;\n",
       "    }\n",
       "\n",
       "    .dataframe tbody tr th {\n",
       "        vertical-align: top;\n",
       "    }\n",
       "\n",
       "    .dataframe thead th {\n",
       "        text-align: right;\n",
       "    }\n",
       "</style>\n",
       "<table border=\"1\" class=\"dataframe\">\n",
       "  <thead>\n",
       "    <tr style=\"text-align: right;\">\n",
       "      <th></th>\n",
       "      <th>clean_text</th>\n",
       "      <th>is_depression</th>\n",
       "    </tr>\n",
       "  </thead>\n",
       "  <tbody>\n",
       "    <tr>\n",
       "      <th>0</th>\n",
       "      <td>we understand that most people who reply immed...</td>\n",
       "      <td>1</td>\n",
       "    </tr>\n",
       "    <tr>\n",
       "      <th>1</th>\n",
       "      <td>welcome to r depression s check in post a plac...</td>\n",
       "      <td>1</td>\n",
       "    </tr>\n",
       "    <tr>\n",
       "      <th>2</th>\n",
       "      <td>anyone else instead of sleeping more when depr...</td>\n",
       "      <td>1</td>\n",
       "    </tr>\n",
       "    <tr>\n",
       "      <th>3</th>\n",
       "      <td>i ve kind of stuffed around a lot in my life d...</td>\n",
       "      <td>1</td>\n",
       "    </tr>\n",
       "    <tr>\n",
       "      <th>4</th>\n",
       "      <td>sleep is my greatest and most comforting escap...</td>\n",
       "      <td>1</td>\n",
       "    </tr>\n",
       "  </tbody>\n",
       "</table>\n",
       "</div>"
      ],
      "text/plain": [
       "                                          clean_text  is_depression\n",
       "0  we understand that most people who reply immed...              1\n",
       "1  welcome to r depression s check in post a plac...              1\n",
       "2  anyone else instead of sleeping more when depr...              1\n",
       "3  i ve kind of stuffed around a lot in my life d...              1\n",
       "4  sleep is my greatest and most comforting escap...              1"
      ]
     },
     "execution_count": 102,
     "metadata": {},
     "output_type": "execute_result"
    }
   ],
   "source": [
    "data.head()"
   ]
  },
  {
   "attachments": {},
   "cell_type": "markdown",
   "metadata": {},
   "source": [
    "## 1.3 add all new features"
   ]
  },
  {
   "attachments": {},
   "cell_type": "markdown",
   "metadata": {},
   "source": [
    "### 1.3.1 add Subreddit"
   ]
  },
  {
   "cell_type": "code",
   "execution_count": 103,
   "metadata": {},
   "outputs": [],
   "source": [
    "data['subreddit'] = 'depression_dataset_reddit'"
   ]
  },
  {
   "cell_type": "code",
   "execution_count": 104,
   "metadata": {},
   "outputs": [
    {
     "data": {
      "text/html": [
       "<div>\n",
       "<style scoped>\n",
       "    .dataframe tbody tr th:only-of-type {\n",
       "        vertical-align: middle;\n",
       "    }\n",
       "\n",
       "    .dataframe tbody tr th {\n",
       "        vertical-align: top;\n",
       "    }\n",
       "\n",
       "    .dataframe thead th {\n",
       "        text-align: right;\n",
       "    }\n",
       "</style>\n",
       "<table border=\"1\" class=\"dataframe\">\n",
       "  <thead>\n",
       "    <tr style=\"text-align: right;\">\n",
       "      <th></th>\n",
       "      <th>clean_text</th>\n",
       "      <th>is_depression</th>\n",
       "      <th>subreddit</th>\n",
       "    </tr>\n",
       "  </thead>\n",
       "  <tbody>\n",
       "    <tr>\n",
       "      <th>0</th>\n",
       "      <td>we understand that most people who reply immed...</td>\n",
       "      <td>1</td>\n",
       "      <td>depression_dataset_reddit</td>\n",
       "    </tr>\n",
       "    <tr>\n",
       "      <th>1</th>\n",
       "      <td>welcome to r depression s check in post a plac...</td>\n",
       "      <td>1</td>\n",
       "      <td>depression_dataset_reddit</td>\n",
       "    </tr>\n",
       "    <tr>\n",
       "      <th>2</th>\n",
       "      <td>anyone else instead of sleeping more when depr...</td>\n",
       "      <td>1</td>\n",
       "      <td>depression_dataset_reddit</td>\n",
       "    </tr>\n",
       "    <tr>\n",
       "      <th>3</th>\n",
       "      <td>i ve kind of stuffed around a lot in my life d...</td>\n",
       "      <td>1</td>\n",
       "      <td>depression_dataset_reddit</td>\n",
       "    </tr>\n",
       "    <tr>\n",
       "      <th>4</th>\n",
       "      <td>sleep is my greatest and most comforting escap...</td>\n",
       "      <td>1</td>\n",
       "      <td>depression_dataset_reddit</td>\n",
       "    </tr>\n",
       "  </tbody>\n",
       "</table>\n",
       "</div>"
      ],
      "text/plain": [
       "                                          clean_text  is_depression  \\\n",
       "0  we understand that most people who reply immed...              1   \n",
       "1  welcome to r depression s check in post a plac...              1   \n",
       "2  anyone else instead of sleeping more when depr...              1   \n",
       "3  i ve kind of stuffed around a lot in my life d...              1   \n",
       "4  sleep is my greatest and most comforting escap...              1   \n",
       "\n",
       "                   subreddit  \n",
       "0  depression_dataset_reddit  \n",
       "1  depression_dataset_reddit  \n",
       "2  depression_dataset_reddit  \n",
       "3  depression_dataset_reddit  \n",
       "4  depression_dataset_reddit  "
      ]
     },
     "execution_count": 104,
     "metadata": {},
     "output_type": "execute_result"
    }
   ],
   "source": [
    "data.head()"
   ]
  },
  {
   "attachments": {},
   "cell_type": "markdown",
   "metadata": {},
   "source": [
    "### 1.3.2 create random upvotes "
   ]
  },
  {
   "cell_type": "code",
   "execution_count": 105,
   "metadata": {},
   "outputs": [],
   "source": [
    "upvotes = np.random.randint(500000 ,size=(data.shape[0],1))"
   ]
  },
  {
   "cell_type": "code",
   "execution_count": 106,
   "metadata": {},
   "outputs": [],
   "source": [
    "data[['upvotes']] = upvotes"
   ]
  },
  {
   "cell_type": "code",
   "execution_count": 107,
   "metadata": {},
   "outputs": [
    {
     "data": {
      "text/html": [
       "<div>\n",
       "<style scoped>\n",
       "    .dataframe tbody tr th:only-of-type {\n",
       "        vertical-align: middle;\n",
       "    }\n",
       "\n",
       "    .dataframe tbody tr th {\n",
       "        vertical-align: top;\n",
       "    }\n",
       "\n",
       "    .dataframe thead th {\n",
       "        text-align: right;\n",
       "    }\n",
       "</style>\n",
       "<table border=\"1\" class=\"dataframe\">\n",
       "  <thead>\n",
       "    <tr style=\"text-align: right;\">\n",
       "      <th></th>\n",
       "      <th>clean_text</th>\n",
       "      <th>is_depression</th>\n",
       "      <th>subreddit</th>\n",
       "      <th>upvotes</th>\n",
       "    </tr>\n",
       "  </thead>\n",
       "  <tbody>\n",
       "    <tr>\n",
       "      <th>0</th>\n",
       "      <td>we understand that most people who reply immed...</td>\n",
       "      <td>1</td>\n",
       "      <td>depression_dataset_reddit</td>\n",
       "      <td>446898</td>\n",
       "    </tr>\n",
       "    <tr>\n",
       "      <th>1</th>\n",
       "      <td>welcome to r depression s check in post a plac...</td>\n",
       "      <td>1</td>\n",
       "      <td>depression_dataset_reddit</td>\n",
       "      <td>228559</td>\n",
       "    </tr>\n",
       "    <tr>\n",
       "      <th>2</th>\n",
       "      <td>anyone else instead of sleeping more when depr...</td>\n",
       "      <td>1</td>\n",
       "      <td>depression_dataset_reddit</td>\n",
       "      <td>102612</td>\n",
       "    </tr>\n",
       "    <tr>\n",
       "      <th>3</th>\n",
       "      <td>i ve kind of stuffed around a lot in my life d...</td>\n",
       "      <td>1</td>\n",
       "      <td>depression_dataset_reddit</td>\n",
       "      <td>359905</td>\n",
       "    </tr>\n",
       "    <tr>\n",
       "      <th>4</th>\n",
       "      <td>sleep is my greatest and most comforting escap...</td>\n",
       "      <td>1</td>\n",
       "      <td>depression_dataset_reddit</td>\n",
       "      <td>494691</td>\n",
       "    </tr>\n",
       "  </tbody>\n",
       "</table>\n",
       "</div>"
      ],
      "text/plain": [
       "                                          clean_text  is_depression  \\\n",
       "0  we understand that most people who reply immed...              1   \n",
       "1  welcome to r depression s check in post a plac...              1   \n",
       "2  anyone else instead of sleeping more when depr...              1   \n",
       "3  i ve kind of stuffed around a lot in my life d...              1   \n",
       "4  sleep is my greatest and most comforting escap...              1   \n",
       "\n",
       "                   subreddit  upvotes  \n",
       "0  depression_dataset_reddit   446898  \n",
       "1  depression_dataset_reddit   228559  \n",
       "2  depression_dataset_reddit   102612  \n",
       "3  depression_dataset_reddit   359905  \n",
       "4  depression_dataset_reddit   494691  "
      ]
     },
     "execution_count": 107,
     "metadata": {},
     "output_type": "execute_result"
    }
   ],
   "source": [
    "data.head()"
   ]
  },
  {
   "attachments": {},
   "cell_type": "markdown",
   "metadata": {},
   "source": [
    "### 1.3.3 add random title"
   ]
  },
  {
   "cell_type": "code",
   "execution_count": 154,
   "metadata": {},
   "outputs": [],
   "source": [
    "def random_titel (input='*'):\n",
    "    '''\n",
    "    returns a random titel out of a list \n",
    "    params input  value is not important \n",
    "    '''\n",
    "    titel_selection = ['Am I depressed?','Is it normal to feel sad all the time?', 'I am depressed', '']\n",
    "    titel = random.choice(titel_selection)\n",
    "    \n",
    "    return titel"
   ]
  },
  {
   "cell_type": "code",
   "execution_count": 155,
   "metadata": {},
   "outputs": [
    {
     "data": {
      "text/plain": [
       "'I am depressed'"
      ]
     },
     "execution_count": 155,
     "metadata": {},
     "output_type": "execute_result"
    }
   ],
   "source": [
    "random_title()"
   ]
  },
  {
   "cell_type": "code",
   "execution_count": 156,
   "metadata": {},
   "outputs": [],
   "source": [
    "data.title = data['title'].apply(random_title)"
   ]
  },
  {
   "cell_type": "code",
   "execution_count": 157,
   "metadata": {},
   "outputs": [
    {
     "data": {
      "text/html": [
       "<div>\n",
       "<style scoped>\n",
       "    .dataframe tbody tr th:only-of-type {\n",
       "        vertical-align: middle;\n",
       "    }\n",
       "\n",
       "    .dataframe tbody tr th {\n",
       "        vertical-align: top;\n",
       "    }\n",
       "\n",
       "    .dataframe thead th {\n",
       "        text-align: right;\n",
       "    }\n",
       "</style>\n",
       "<table border=\"1\" class=\"dataframe\">\n",
       "  <thead>\n",
       "    <tr style=\"text-align: right;\">\n",
       "      <th></th>\n",
       "      <th>clean_text</th>\n",
       "      <th>is_depression</th>\n",
       "      <th>subreddit</th>\n",
       "      <th>upvotes</th>\n",
       "      <th>title</th>\n",
       "      <th>authore</th>\n",
       "      <th>id</th>\n",
       "    </tr>\n",
       "  </thead>\n",
       "  <tbody>\n",
       "    <tr>\n",
       "      <th>0</th>\n",
       "      <td>we understand that most people who reply immed...</td>\n",
       "      <td>1</td>\n",
       "      <td>depression_dataset_reddit</td>\n",
       "      <td>446898</td>\n",
       "      <td></td>\n",
       "      <td>Unicore</td>\n",
       "      <td>w7e8x1</td>\n",
       "    </tr>\n",
       "    <tr>\n",
       "      <th>1</th>\n",
       "      <td>welcome to r depression s check in post a plac...</td>\n",
       "      <td>1</td>\n",
       "      <td>depression_dataset_reddit</td>\n",
       "      <td>228559</td>\n",
       "      <td>Is it normal to feel sad all the time?</td>\n",
       "      <td>batch-1218_berlin</td>\n",
       "      <td>65yiga</td>\n",
       "    </tr>\n",
       "    <tr>\n",
       "      <th>2</th>\n",
       "      <td>anyone else instead of sleeping more when depr...</td>\n",
       "      <td>1</td>\n",
       "      <td>depression_dataset_reddit</td>\n",
       "      <td>102612</td>\n",
       "      <td>I am depressed</td>\n",
       "      <td>batch-1218_berlin</td>\n",
       "      <td>i1ea9y</td>\n",
       "    </tr>\n",
       "    <tr>\n",
       "      <th>3</th>\n",
       "      <td>i ve kind of stuffed around a lot in my life d...</td>\n",
       "      <td>1</td>\n",
       "      <td>depression_dataset_reddit</td>\n",
       "      <td>359905</td>\n",
       "      <td>Am I depressed?</td>\n",
       "      <td>un1c0r3</td>\n",
       "      <td>f72345</td>\n",
       "    </tr>\n",
       "    <tr>\n",
       "      <th>4</th>\n",
       "      <td>sleep is my greatest and most comforting escap...</td>\n",
       "      <td>1</td>\n",
       "      <td>depression_dataset_reddit</td>\n",
       "      <td>494691</td>\n",
       "      <td>Am I depressed?</td>\n",
       "      <td>NotTheYellowFromTheEgg</td>\n",
       "      <td>nmetp7</td>\n",
       "    </tr>\n",
       "  </tbody>\n",
       "</table>\n",
       "</div>"
      ],
      "text/plain": [
       "                                          clean_text  is_depression  \\\n",
       "0  we understand that most people who reply immed...              1   \n",
       "1  welcome to r depression s check in post a plac...              1   \n",
       "2  anyone else instead of sleeping more when depr...              1   \n",
       "3  i ve kind of stuffed around a lot in my life d...              1   \n",
       "4  sleep is my greatest and most comforting escap...              1   \n",
       "\n",
       "                   subreddit  upvotes                                   title  \\\n",
       "0  depression_dataset_reddit   446898                                           \n",
       "1  depression_dataset_reddit   228559  Is it normal to feel sad all the time?   \n",
       "2  depression_dataset_reddit   102612                          I am depressed   \n",
       "3  depression_dataset_reddit   359905                         Am I depressed?   \n",
       "4  depression_dataset_reddit   494691                         Am I depressed?   \n",
       "\n",
       "                  authore      id  \n",
       "0                 Unicore  w7e8x1  \n",
       "1       batch-1218_berlin  65yiga  \n",
       "2       batch-1218_berlin  i1ea9y  \n",
       "3                 un1c0r3  f72345  \n",
       "4  NotTheYellowFromTheEgg  nmetp7  "
      ]
     },
     "execution_count": 157,
     "metadata": {},
     "output_type": "execute_result"
    }
   ],
   "source": [
    "data.head()"
   ]
  },
  {
   "attachments": {},
   "cell_type": "markdown",
   "metadata": {},
   "source": [
    "### 1.3.4 add random id"
   ]
  },
  {
   "attachments": {},
   "cell_type": "markdown",
   "metadata": {},
   "source": [
    "the id 6 chars longand consit from numbers and chars"
   ]
  },
  {
   "cell_type": "code",
   "execution_count": 136,
   "metadata": {},
   "outputs": [],
   "source": [
    "data['id'] = '*'"
   ]
  },
  {
   "cell_type": "code",
   "execution_count": 152,
   "metadata": {},
   "outputs": [],
   "source": [
    "def random_id (input='*'):\n",
    "    '''\n",
    "    it geneartes an random Id with number and chars ofthe lengt 6\n",
    "    params are not important\n",
    "    '''\n",
    "    number = '0123456789'\n",
    "    alpahabet = 'abcdefghijklmnopqrstuvwxyz'\n",
    "    length=6\n",
    "    \n",
    "    id = ''\n",
    "    for index in range(0,length,1):\n",
    "        random_state = random.choice([0,1])\n",
    "        if random_state == 0: \n",
    "            id += random.choice(number)\n",
    "        else :\n",
    "            id += random.choice(alpahabet)\n",
    "    return id"
   ]
  },
  {
   "cell_type": "code",
   "execution_count": 153,
   "metadata": {},
   "outputs": [],
   "source": [
    "data['id'] = data['id'].apply(random_id)"
   ]
  },
  {
   "cell_type": "code",
   "execution_count": 141,
   "metadata": {},
   "outputs": [
    {
     "data": {
      "text/html": [
       "<div>\n",
       "<style scoped>\n",
       "    .dataframe tbody tr th:only-of-type {\n",
       "        vertical-align: middle;\n",
       "    }\n",
       "\n",
       "    .dataframe tbody tr th {\n",
       "        vertical-align: top;\n",
       "    }\n",
       "\n",
       "    .dataframe thead th {\n",
       "        text-align: right;\n",
       "    }\n",
       "</style>\n",
       "<table border=\"1\" class=\"dataframe\">\n",
       "  <thead>\n",
       "    <tr style=\"text-align: right;\">\n",
       "      <th></th>\n",
       "      <th>clean_text</th>\n",
       "      <th>is_depression</th>\n",
       "      <th>subreddit</th>\n",
       "      <th>upvotes</th>\n",
       "      <th>title</th>\n",
       "      <th>authore</th>\n",
       "      <th>id</th>\n",
       "    </tr>\n",
       "  </thead>\n",
       "  <tbody>\n",
       "    <tr>\n",
       "      <th>0</th>\n",
       "      <td>we understand that most people who reply immed...</td>\n",
       "      <td>1</td>\n",
       "      <td>depression_dataset_reddit</td>\n",
       "      <td>446898</td>\n",
       "      <td></td>\n",
       "      <td></td>\n",
       "      <td>00w83q</td>\n",
       "    </tr>\n",
       "    <tr>\n",
       "      <th>1</th>\n",
       "      <td>welcome to r depression s check in post a plac...</td>\n",
       "      <td>1</td>\n",
       "      <td>depression_dataset_reddit</td>\n",
       "      <td>228559</td>\n",
       "      <td></td>\n",
       "      <td></td>\n",
       "      <td>e110wx</td>\n",
       "    </tr>\n",
       "    <tr>\n",
       "      <th>2</th>\n",
       "      <td>anyone else instead of sleeping more when depr...</td>\n",
       "      <td>1</td>\n",
       "      <td>depression_dataset_reddit</td>\n",
       "      <td>102612</td>\n",
       "      <td></td>\n",
       "      <td></td>\n",
       "      <td>11xcn9</td>\n",
       "    </tr>\n",
       "    <tr>\n",
       "      <th>3</th>\n",
       "      <td>i ve kind of stuffed around a lot in my life d...</td>\n",
       "      <td>1</td>\n",
       "      <td>depression_dataset_reddit</td>\n",
       "      <td>359905</td>\n",
       "      <td></td>\n",
       "      <td></td>\n",
       "      <td>8ub49g</td>\n",
       "    </tr>\n",
       "    <tr>\n",
       "      <th>4</th>\n",
       "      <td>sleep is my greatest and most comforting escap...</td>\n",
       "      <td>1</td>\n",
       "      <td>depression_dataset_reddit</td>\n",
       "      <td>494691</td>\n",
       "      <td></td>\n",
       "      <td></td>\n",
       "      <td>67i1jz</td>\n",
       "    </tr>\n",
       "  </tbody>\n",
       "</table>\n",
       "</div>"
      ],
      "text/plain": [
       "                                          clean_text  is_depression  \\\n",
       "0  we understand that most people who reply immed...              1   \n",
       "1  welcome to r depression s check in post a plac...              1   \n",
       "2  anyone else instead of sleeping more when depr...              1   \n",
       "3  i ve kind of stuffed around a lot in my life d...              1   \n",
       "4  sleep is my greatest and most comforting escap...              1   \n",
       "\n",
       "                   subreddit  upvotes title authore      id  \n",
       "0  depression_dataset_reddit   446898                00w83q  \n",
       "1  depression_dataset_reddit   228559                e110wx  \n",
       "2  depression_dataset_reddit   102612                11xcn9  \n",
       "3  depression_dataset_reddit   359905                8ub49g  \n",
       "4  depression_dataset_reddit   494691                67i1jz  "
      ]
     },
     "execution_count": 141,
     "metadata": {},
     "output_type": "execute_result"
    }
   ],
   "source": [
    "data.head()"
   ]
  },
  {
   "attachments": {},
   "cell_type": "markdown",
   "metadata": {},
   "source": [
    "### 1.3.5 add random author "
   ]
  },
  {
   "cell_type": "code",
   "execution_count": 148,
   "metadata": {},
   "outputs": [],
   "source": [
    "def random_author (input='*') :\n",
    "    '''\n",
    "    Randomly asisnes a user name to a post\n",
    "    parmas : are ignorable\n",
    "    '''\n",
    "    author_selection = ['Lamar43', 'Unicorn232', 'Unicore',\n",
    "                        'un1c0r3', 'sadshadows', 'CaptianUsless', \n",
    "                        'MRG3NTL3','NotTheYellowFromTheEgg','Sadtear', \n",
    "                        'darkbringer', 'sunshine', 'LeWagon2023',\n",
    "                        'batch-1218_berlin', 'Nasenbaer', 'user7434']\n",
    "    author = random.choice(author_selection)\n",
    "    \n",
    "    return author"
   ]
  },
  {
   "cell_type": "code",
   "execution_count": 149,
   "metadata": {},
   "outputs": [
    {
     "data": {
      "text/plain": [
       "'sunshine'"
      ]
     },
     "execution_count": 149,
     "metadata": {},
     "output_type": "execute_result"
    }
   ],
   "source": [
    "random_author()"
   ]
  },
  {
   "cell_type": "code",
   "execution_count": 150,
   "metadata": {},
   "outputs": [],
   "source": [
    "data['authore'] = '*'\n",
    "data['authore'] = data.authore.apply(random_author)"
   ]
  },
  {
   "cell_type": "code",
   "execution_count": 151,
   "metadata": {},
   "outputs": [
    {
     "data": {
      "text/html": [
       "<div>\n",
       "<style scoped>\n",
       "    .dataframe tbody tr th:only-of-type {\n",
       "        vertical-align: middle;\n",
       "    }\n",
       "\n",
       "    .dataframe tbody tr th {\n",
       "        vertical-align: top;\n",
       "    }\n",
       "\n",
       "    .dataframe thead th {\n",
       "        text-align: right;\n",
       "    }\n",
       "</style>\n",
       "<table border=\"1\" class=\"dataframe\">\n",
       "  <thead>\n",
       "    <tr style=\"text-align: right;\">\n",
       "      <th></th>\n",
       "      <th>clean_text</th>\n",
       "      <th>is_depression</th>\n",
       "      <th>subreddit</th>\n",
       "      <th>upvotes</th>\n",
       "      <th>title</th>\n",
       "      <th>authore</th>\n",
       "      <th>id</th>\n",
       "    </tr>\n",
       "  </thead>\n",
       "  <tbody>\n",
       "    <tr>\n",
       "      <th>0</th>\n",
       "      <td>we understand that most people who reply immed...</td>\n",
       "      <td>1</td>\n",
       "      <td>depression_dataset_reddit</td>\n",
       "      <td>446898</td>\n",
       "      <td></td>\n",
       "      <td>Unicore</td>\n",
       "      <td>00w83q</td>\n",
       "    </tr>\n",
       "    <tr>\n",
       "      <th>1</th>\n",
       "      <td>welcome to r depression s check in post a plac...</td>\n",
       "      <td>1</td>\n",
       "      <td>depression_dataset_reddit</td>\n",
       "      <td>228559</td>\n",
       "      <td></td>\n",
       "      <td>batch-1218_berlin</td>\n",
       "      <td>e110wx</td>\n",
       "    </tr>\n",
       "    <tr>\n",
       "      <th>2</th>\n",
       "      <td>anyone else instead of sleeping more when depr...</td>\n",
       "      <td>1</td>\n",
       "      <td>depression_dataset_reddit</td>\n",
       "      <td>102612</td>\n",
       "      <td></td>\n",
       "      <td>batch-1218_berlin</td>\n",
       "      <td>11xcn9</td>\n",
       "    </tr>\n",
       "    <tr>\n",
       "      <th>3</th>\n",
       "      <td>i ve kind of stuffed around a lot in my life d...</td>\n",
       "      <td>1</td>\n",
       "      <td>depression_dataset_reddit</td>\n",
       "      <td>359905</td>\n",
       "      <td></td>\n",
       "      <td>un1c0r3</td>\n",
       "      <td>8ub49g</td>\n",
       "    </tr>\n",
       "    <tr>\n",
       "      <th>4</th>\n",
       "      <td>sleep is my greatest and most comforting escap...</td>\n",
       "      <td>1</td>\n",
       "      <td>depression_dataset_reddit</td>\n",
       "      <td>494691</td>\n",
       "      <td></td>\n",
       "      <td>NotTheYellowFromTheEgg</td>\n",
       "      <td>67i1jz</td>\n",
       "    </tr>\n",
       "  </tbody>\n",
       "</table>\n",
       "</div>"
      ],
      "text/plain": [
       "                                          clean_text  is_depression  \\\n",
       "0  we understand that most people who reply immed...              1   \n",
       "1  welcome to r depression s check in post a plac...              1   \n",
       "2  anyone else instead of sleeping more when depr...              1   \n",
       "3  i ve kind of stuffed around a lot in my life d...              1   \n",
       "4  sleep is my greatest and most comforting escap...              1   \n",
       "\n",
       "                   subreddit  upvotes title                 authore      id  \n",
       "0  depression_dataset_reddit   446898                       Unicore  00w83q  \n",
       "1  depression_dataset_reddit   228559             batch-1218_berlin  e110wx  \n",
       "2  depression_dataset_reddit   102612             batch-1218_berlin  11xcn9  \n",
       "3  depression_dataset_reddit   359905                       un1c0r3  8ub49g  \n",
       "4  depression_dataset_reddit   494691        NotTheYellowFromTheEgg  67i1jz  "
      ]
     },
     "execution_count": 151,
     "metadata": {},
     "output_type": "execute_result"
    }
   ],
   "source": [
    "data.head()"
   ]
  },
  {
   "cell_type": "code",
   "execution_count": 158,
   "metadata": {},
   "outputs": [
    {
     "data": {
      "text/plain": [
       "(7731, 7)"
      ]
     },
     "execution_count": 158,
     "metadata": {},
     "output_type": "execute_result"
    }
   ],
   "source": [
    "data.shape"
   ]
  },
  {
   "cell_type": "code",
   "execution_count": null,
   "metadata": {},
   "outputs": [],
   "source": []
  }
 ],
 "metadata": {
  "kernelspec": {
   "display_name": "yana-env",
   "language": "python",
   "name": "python3"
  },
  "language_info": {
   "codemirror_mode": {
    "name": "ipython",
    "version": 3
   },
   "file_extension": ".py",
   "mimetype": "text/x-python",
   "name": "python",
   "nbconvert_exporter": "python",
   "pygments_lexer": "ipython3",
   "version": "3.11.3"
  },
  "orig_nbformat": 4
 },
 "nbformat": 4,
 "nbformat_minor": 2
}
