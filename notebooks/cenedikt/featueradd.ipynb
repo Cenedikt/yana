{
 "cells": [
  {
   "attachments": {},
   "cell_type": "markdown",
   "metadata": {},
   "source": [
    "# 1 ADD features to depression_data_set"
   ]
  },
  {
   "attachments": {},
   "cell_type": "markdown",
   "metadata": {},
   "source": [
    "## 1.1 import "
   ]
  },
  {
   "cell_type": "code",
   "execution_count": 32,
   "metadata": {},
   "outputs": [],
   "source": [
    "import pandas as pd\n",
    "import numpy as np\n",
    "import random"
   ]
  },
  {
   "attachments": {},
   "cell_type": "markdown",
   "metadata": {},
   "source": [
    "## 1.2 load CSV"
   ]
  },
  {
   "cell_type": "code",
   "execution_count": 33,
   "metadata": {},
   "outputs": [],
   "source": [
    "path = '/home/cenedikt/code/Cenedikt/yana/yana/data/depression_dataset_reddit_cleaned.csv'"
   ]
  },
  {
   "cell_type": "code",
   "execution_count": 53,
   "metadata": {},
   "outputs": [],
   "source": [
    "data = pd.read_csv(path)"
   ]
  },
  {
   "cell_type": "code",
   "execution_count": 54,
   "metadata": {},
   "outputs": [
    {
     "data": {
      "text/html": [
       "<div>\n",
       "<style scoped>\n",
       "    .dataframe tbody tr th:only-of-type {\n",
       "        vertical-align: middle;\n",
       "    }\n",
       "\n",
       "    .dataframe tbody tr th {\n",
       "        vertical-align: top;\n",
       "    }\n",
       "\n",
       "    .dataframe thead th {\n",
       "        text-align: right;\n",
       "    }\n",
       "</style>\n",
       "<table border=\"1\" class=\"dataframe\">\n",
       "  <thead>\n",
       "    <tr style=\"text-align: right;\">\n",
       "      <th></th>\n",
       "      <th>clean_text</th>\n",
       "      <th>is_depression</th>\n",
       "      <th>subreddit</th>\n",
       "      <th>upvotes</th>\n",
       "      <th>titel</th>\n",
       "      <th>id</th>\n",
       "      <th>authore</th>\n",
       "    </tr>\n",
       "  </thead>\n",
       "  <tbody>\n",
       "    <tr>\n",
       "      <th>0</th>\n",
       "      <td>we understand that most people who reply immed...</td>\n",
       "      <td>1</td>\n",
       "      <td>depression_dataset_reddit</td>\n",
       "      <td>11979</td>\n",
       "      <td>Self-Care for the Depressed Soul: Prioritizing...</td>\n",
       "      <td>72h66d</td>\n",
       "      <td>darkbringer</td>\n",
       "    </tr>\n",
       "    <tr>\n",
       "      <th>1</th>\n",
       "      <td>welcome to r depression s check in post a plac...</td>\n",
       "      <td>1</td>\n",
       "      <td>depression_dataset_reddit</td>\n",
       "      <td>444559</td>\n",
       "      <td>Self-Care for the Depressed Soul: Prioritizing...</td>\n",
       "      <td>mu5n28</td>\n",
       "      <td>SoothingSoul</td>\n",
       "    </tr>\n",
       "    <tr>\n",
       "      <th>2</th>\n",
       "      <td>anyone else instead of sleeping more when depr...</td>\n",
       "      <td>1</td>\n",
       "      <td>depression_dataset_reddit</td>\n",
       "      <td>436260</td>\n",
       "      <td>Together We're Stronger: Building a Supportive...</td>\n",
       "      <td>32zd5b</td>\n",
       "      <td>sadshadows</td>\n",
       "    </tr>\n",
       "    <tr>\n",
       "      <th>3</th>\n",
       "      <td>i ve kind of stuffed around a lot in my life d...</td>\n",
       "      <td>1</td>\n",
       "      <td>depression_dataset_reddit</td>\n",
       "      <td>477035</td>\n",
       "      <td>Navigating the Labyrinth: A Guide to Understan...</td>\n",
       "      <td>v66mez</td>\n",
       "      <td>CreativeDreamer</td>\n",
       "    </tr>\n",
       "    <tr>\n",
       "      <th>4</th>\n",
       "      <td>sleep is my greatest and most comforting escap...</td>\n",
       "      <td>1</td>\n",
       "      <td>depression_dataset_reddit</td>\n",
       "      <td>41075</td>\n",
       "      <td>Finding Peace in Chaos: Mindfulness and Depres...</td>\n",
       "      <td>p3q3kd</td>\n",
       "      <td>LaughingLotus</td>\n",
       "    </tr>\n",
       "  </tbody>\n",
       "</table>\n",
       "</div>"
      ],
      "text/plain": [
       "                                          clean_text  is_depression  \\\n",
       "0  we understand that most people who reply immed...              1   \n",
       "1  welcome to r depression s check in post a plac...              1   \n",
       "2  anyone else instead of sleeping more when depr...              1   \n",
       "3  i ve kind of stuffed around a lot in my life d...              1   \n",
       "4  sleep is my greatest and most comforting escap...              1   \n",
       "\n",
       "                   subreddit  upvotes  \\\n",
       "0  depression_dataset_reddit    11979   \n",
       "1  depression_dataset_reddit   444559   \n",
       "2  depression_dataset_reddit   436260   \n",
       "3  depression_dataset_reddit   477035   \n",
       "4  depression_dataset_reddit    41075   \n",
       "\n",
       "                                               titel      id          authore  \n",
       "0  Self-Care for the Depressed Soul: Prioritizing...  72h66d      darkbringer  \n",
       "1  Self-Care for the Depressed Soul: Prioritizing...  mu5n28     SoothingSoul  \n",
       "2  Together We're Stronger: Building a Supportive...  32zd5b       sadshadows  \n",
       "3  Navigating the Labyrinth: A Guide to Understan...  v66mez  CreativeDreamer  \n",
       "4  Finding Peace in Chaos: Mindfulness and Depres...  p3q3kd    LaughingLotus  "
      ]
     },
     "execution_count": 54,
     "metadata": {},
     "output_type": "execute_result"
    }
   ],
   "source": [
    "data.head()"
   ]
  },
  {
   "attachments": {},
   "cell_type": "markdown",
   "metadata": {},
   "source": [
    "## 1.3 add all new features"
   ]
  },
  {
   "attachments": {},
   "cell_type": "markdown",
   "metadata": {},
   "source": [
    "### 1.3.1 add Subreddit"
   ]
  },
  {
   "cell_type": "code",
   "execution_count": 36,
   "metadata": {},
   "outputs": [],
   "source": [
    "data['subreddit'] = 'depression_dataset_reddit'"
   ]
  },
  {
   "cell_type": "code",
   "execution_count": 37,
   "metadata": {},
   "outputs": [
    {
     "data": {
      "text/html": [
       "<div>\n",
       "<style scoped>\n",
       "    .dataframe tbody tr th:only-of-type {\n",
       "        vertical-align: middle;\n",
       "    }\n",
       "\n",
       "    .dataframe tbody tr th {\n",
       "        vertical-align: top;\n",
       "    }\n",
       "\n",
       "    .dataframe thead th {\n",
       "        text-align: right;\n",
       "    }\n",
       "</style>\n",
       "<table border=\"1\" class=\"dataframe\">\n",
       "  <thead>\n",
       "    <tr style=\"text-align: right;\">\n",
       "      <th></th>\n",
       "      <th>clean_text</th>\n",
       "      <th>is_depression</th>\n",
       "      <th>subreddit</th>\n",
       "    </tr>\n",
       "  </thead>\n",
       "  <tbody>\n",
       "    <tr>\n",
       "      <th>0</th>\n",
       "      <td>we understand that most people who reply immed...</td>\n",
       "      <td>1</td>\n",
       "      <td>depression_dataset_reddit</td>\n",
       "    </tr>\n",
       "    <tr>\n",
       "      <th>1</th>\n",
       "      <td>welcome to r depression s check in post a plac...</td>\n",
       "      <td>1</td>\n",
       "      <td>depression_dataset_reddit</td>\n",
       "    </tr>\n",
       "    <tr>\n",
       "      <th>2</th>\n",
       "      <td>anyone else instead of sleeping more when depr...</td>\n",
       "      <td>1</td>\n",
       "      <td>depression_dataset_reddit</td>\n",
       "    </tr>\n",
       "    <tr>\n",
       "      <th>3</th>\n",
       "      <td>i ve kind of stuffed around a lot in my life d...</td>\n",
       "      <td>1</td>\n",
       "      <td>depression_dataset_reddit</td>\n",
       "    </tr>\n",
       "    <tr>\n",
       "      <th>4</th>\n",
       "      <td>sleep is my greatest and most comforting escap...</td>\n",
       "      <td>1</td>\n",
       "      <td>depression_dataset_reddit</td>\n",
       "    </tr>\n",
       "  </tbody>\n",
       "</table>\n",
       "</div>"
      ],
      "text/plain": [
       "                                          clean_text  is_depression  \\\n",
       "0  we understand that most people who reply immed...              1   \n",
       "1  welcome to r depression s check in post a plac...              1   \n",
       "2  anyone else instead of sleeping more when depr...              1   \n",
       "3  i ve kind of stuffed around a lot in my life d...              1   \n",
       "4  sleep is my greatest and most comforting escap...              1   \n",
       "\n",
       "                   subreddit  \n",
       "0  depression_dataset_reddit  \n",
       "1  depression_dataset_reddit  \n",
       "2  depression_dataset_reddit  \n",
       "3  depression_dataset_reddit  \n",
       "4  depression_dataset_reddit  "
      ]
     },
     "execution_count": 37,
     "metadata": {},
     "output_type": "execute_result"
    }
   ],
   "source": [
    "data.head()"
   ]
  },
  {
   "attachments": {},
   "cell_type": "markdown",
   "metadata": {},
   "source": [
    "### 1.3.2 create random upvotes "
   ]
  },
  {
   "cell_type": "code",
   "execution_count": 38,
   "metadata": {},
   "outputs": [],
   "source": [
    "upvotes = np.random.randint(500000 ,size=(data.shape[0],1))"
   ]
  },
  {
   "cell_type": "code",
   "execution_count": 39,
   "metadata": {},
   "outputs": [],
   "source": [
    "data[['upvotes']] = upvotes"
   ]
  },
  {
   "cell_type": "code",
   "execution_count": 40,
   "metadata": {},
   "outputs": [
    {
     "data": {
      "text/html": [
       "<div>\n",
       "<style scoped>\n",
       "    .dataframe tbody tr th:only-of-type {\n",
       "        vertical-align: middle;\n",
       "    }\n",
       "\n",
       "    .dataframe tbody tr th {\n",
       "        vertical-align: top;\n",
       "    }\n",
       "\n",
       "    .dataframe thead th {\n",
       "        text-align: right;\n",
       "    }\n",
       "</style>\n",
       "<table border=\"1\" class=\"dataframe\">\n",
       "  <thead>\n",
       "    <tr style=\"text-align: right;\">\n",
       "      <th></th>\n",
       "      <th>clean_text</th>\n",
       "      <th>is_depression</th>\n",
       "      <th>subreddit</th>\n",
       "      <th>upvotes</th>\n",
       "    </tr>\n",
       "  </thead>\n",
       "  <tbody>\n",
       "    <tr>\n",
       "      <th>0</th>\n",
       "      <td>we understand that most people who reply immed...</td>\n",
       "      <td>1</td>\n",
       "      <td>depression_dataset_reddit</td>\n",
       "      <td>11979</td>\n",
       "    </tr>\n",
       "    <tr>\n",
       "      <th>1</th>\n",
       "      <td>welcome to r depression s check in post a plac...</td>\n",
       "      <td>1</td>\n",
       "      <td>depression_dataset_reddit</td>\n",
       "      <td>444559</td>\n",
       "    </tr>\n",
       "    <tr>\n",
       "      <th>2</th>\n",
       "      <td>anyone else instead of sleeping more when depr...</td>\n",
       "      <td>1</td>\n",
       "      <td>depression_dataset_reddit</td>\n",
       "      <td>436260</td>\n",
       "    </tr>\n",
       "    <tr>\n",
       "      <th>3</th>\n",
       "      <td>i ve kind of stuffed around a lot in my life d...</td>\n",
       "      <td>1</td>\n",
       "      <td>depression_dataset_reddit</td>\n",
       "      <td>477035</td>\n",
       "    </tr>\n",
       "    <tr>\n",
       "      <th>4</th>\n",
       "      <td>sleep is my greatest and most comforting escap...</td>\n",
       "      <td>1</td>\n",
       "      <td>depression_dataset_reddit</td>\n",
       "      <td>41075</td>\n",
       "    </tr>\n",
       "  </tbody>\n",
       "</table>\n",
       "</div>"
      ],
      "text/plain": [
       "                                          clean_text  is_depression  \\\n",
       "0  we understand that most people who reply immed...              1   \n",
       "1  welcome to r depression s check in post a plac...              1   \n",
       "2  anyone else instead of sleeping more when depr...              1   \n",
       "3  i ve kind of stuffed around a lot in my life d...              1   \n",
       "4  sleep is my greatest and most comforting escap...              1   \n",
       "\n",
       "                   subreddit  upvotes  \n",
       "0  depression_dataset_reddit    11979  \n",
       "1  depression_dataset_reddit   444559  \n",
       "2  depression_dataset_reddit   436260  \n",
       "3  depression_dataset_reddit   477035  \n",
       "4  depression_dataset_reddit    41075  "
      ]
     },
     "execution_count": 40,
     "metadata": {},
     "output_type": "execute_result"
    }
   ],
   "source": [
    "data.head()"
   ]
  },
  {
   "attachments": {},
   "cell_type": "markdown",
   "metadata": {},
   "source": [
    "### 1.3.3 add random title"
   ]
  },
  {
   "cell_type": "code",
   "execution_count": 41,
   "metadata": {},
   "outputs": [],
   "source": [
    "def random_titel (input='*'):\n",
    "    '''\n",
    "    returns a random titel out of a list \n",
    "    params input  value is not important \n",
    "    '''\n",
    "    titel_selection = ['Am I depressed?',\n",
    "                               'Is it normal to feel sad all the time?',\n",
    "                               'I am depressed',\n",
    "                               \"Breaking Free from the Darkness: My Journey with Depression\",\n",
    "                                \"Hope in the Shadows: Overcoming Depression and Finding Joy\",\n",
    "                                \"Understanding the Invisible Battle: Sharing My Experience with Depression\",\n",
    "                                \"Healing from Within: Strategies for Coping with Depression\",\n",
    "                                \"Depression Doesn't Define Me: Embracing Self-Worth and Recovery\",\n",
    "                                \"The Power of Support: Building a Strong Community for Depression\",\n",
    "                                \"From Despair to Empowerment: Regaining Control over Depression\",\n",
    "                                \"Discovering the Light: Stories of Triumph over Depression\",\n",
    "                                \"Coping with Depression: Tools and Techniques for Everyday Life\",\n",
    "                                \"Living with Depression: Navigating the Ups and Downs\",\n",
    "                                \"Finding Strength in Vulnerability: Embracing Mental Health Battles\",\n",
    "                                \"Navigating the Labyrinth: A Guide to Understanding Depression\",\n",
    "                                \"Redefining Happiness: Finding Joy amidst the Darkness of Depression\",\n",
    "                                \"The Road to Recovery: One Step at a Time\",\n",
    "                                \"Breaking Stigma, Building Hope: Raising Awareness about Depression\",\n",
    "                                \"Self-Care for the Depressed Soul: Prioritizing Mental Health\",\n",
    "                                \"Overcoming the Black Dog: Tales of Triumph over Depression\",\n",
    "                                \"Embracing the Journey: Life Lessons from Living with Depression\",\n",
    "                                \"Finding Light in the Darkest Moments: Hope for Depression\",\n",
    "                                \"The Battle Within: Exploring the Depths of Depression\",\n",
    "                                \"Depression and Relationships: Nurturing Connections through Difficult Times\",\n",
    "                                \"Unmasking Depression: Sharing Stories to Break the Silence\",\n",
    "                                \"Resilience and Recovery: Rising Above Depression\",\n",
    "                                \"Breaking the Chains: Empowering Yourself against Depression\",\n",
    "                                \"Depression and Creativity: Channeling Pain into Artistic Expression\",\n",
    "                                \"Thriving, Not Just Surviving: Stories of Resilience against Depression\",\n",
    "                                \"Shattering the Stigma: Open Conversations about Depression\",\n",
    "                                \"Depression and Self-Compassion: Learning to Love Yourself Again\",\n",
    "                                \"Climbing Out of the Abyss: Overcoming Depression's Grip\",\n",
    "                                \"Finding Hope in Unexpected Places: Anecdotes of Depression Recovery\",\n",
    "                                \"The Ripple Effect: How Supporting Others with Depression Helps Us Heal\",\n",
    "                                \"Healing through Words: Journaling as a Tool for Depression Recovery\",\n",
    "                                \"Breaking Down Barriers: Seeking Help for Depression\",\n",
    "                                \"Embracing the Gray Skies: Finding Beauty in Depression\",\n",
    "                                \"The Power of Gratitude: Countering Depression with Appreciation\",\n",
    "                                \"Depression and Exercise: Harnessing the Benefits of Physical Activity\",\n",
    "                                \"Finding Peace in Chaos: Mindfulness and Depression\",\n",
    "                                \"Depression in the Digital Age: Navigating Social Media's Impact\",\n",
    "                                \"Breaking Free from the Mask: Living Authentically with Depression\",\n",
    "                                \"Together We're Stronger: Building a Supportive Community for Depression\",\n",
    "                                ]\n",
    "    titel = random.choice(titel_selection)\n",
    "    \n",
    "    return titel"
   ]
  },
  {
   "cell_type": "code",
   "execution_count": 42,
   "metadata": {},
   "outputs": [],
   "source": [
    "data['titel'] = '*'\n",
    "\n",
    "data['titel'] = data['titel'].apply(random_titel)"
   ]
  },
  {
   "cell_type": "code",
   "execution_count": 43,
   "metadata": {},
   "outputs": [
    {
     "data": {
      "text/html": [
       "<div>\n",
       "<style scoped>\n",
       "    .dataframe tbody tr th:only-of-type {\n",
       "        vertical-align: middle;\n",
       "    }\n",
       "\n",
       "    .dataframe tbody tr th {\n",
       "        vertical-align: top;\n",
       "    }\n",
       "\n",
       "    .dataframe thead th {\n",
       "        text-align: right;\n",
       "    }\n",
       "</style>\n",
       "<table border=\"1\" class=\"dataframe\">\n",
       "  <thead>\n",
       "    <tr style=\"text-align: right;\">\n",
       "      <th></th>\n",
       "      <th>clean_text</th>\n",
       "      <th>is_depression</th>\n",
       "      <th>subreddit</th>\n",
       "      <th>upvotes</th>\n",
       "      <th>titel</th>\n",
       "    </tr>\n",
       "  </thead>\n",
       "  <tbody>\n",
       "    <tr>\n",
       "      <th>0</th>\n",
       "      <td>we understand that most people who reply immed...</td>\n",
       "      <td>1</td>\n",
       "      <td>depression_dataset_reddit</td>\n",
       "      <td>11979</td>\n",
       "      <td>Self-Care for the Depressed Soul: Prioritizing...</td>\n",
       "    </tr>\n",
       "    <tr>\n",
       "      <th>1</th>\n",
       "      <td>welcome to r depression s check in post a plac...</td>\n",
       "      <td>1</td>\n",
       "      <td>depression_dataset_reddit</td>\n",
       "      <td>444559</td>\n",
       "      <td>Self-Care for the Depressed Soul: Prioritizing...</td>\n",
       "    </tr>\n",
       "    <tr>\n",
       "      <th>2</th>\n",
       "      <td>anyone else instead of sleeping more when depr...</td>\n",
       "      <td>1</td>\n",
       "      <td>depression_dataset_reddit</td>\n",
       "      <td>436260</td>\n",
       "      <td>Together We're Stronger: Building a Supportive...</td>\n",
       "    </tr>\n",
       "    <tr>\n",
       "      <th>3</th>\n",
       "      <td>i ve kind of stuffed around a lot in my life d...</td>\n",
       "      <td>1</td>\n",
       "      <td>depression_dataset_reddit</td>\n",
       "      <td>477035</td>\n",
       "      <td>Navigating the Labyrinth: A Guide to Understan...</td>\n",
       "    </tr>\n",
       "    <tr>\n",
       "      <th>4</th>\n",
       "      <td>sleep is my greatest and most comforting escap...</td>\n",
       "      <td>1</td>\n",
       "      <td>depression_dataset_reddit</td>\n",
       "      <td>41075</td>\n",
       "      <td>Finding Peace in Chaos: Mindfulness and Depres...</td>\n",
       "    </tr>\n",
       "  </tbody>\n",
       "</table>\n",
       "</div>"
      ],
      "text/plain": [
       "                                          clean_text  is_depression  \\\n",
       "0  we understand that most people who reply immed...              1   \n",
       "1  welcome to r depression s check in post a plac...              1   \n",
       "2  anyone else instead of sleeping more when depr...              1   \n",
       "3  i ve kind of stuffed around a lot in my life d...              1   \n",
       "4  sleep is my greatest and most comforting escap...              1   \n",
       "\n",
       "                   subreddit  upvotes  \\\n",
       "0  depression_dataset_reddit    11979   \n",
       "1  depression_dataset_reddit   444559   \n",
       "2  depression_dataset_reddit   436260   \n",
       "3  depression_dataset_reddit   477035   \n",
       "4  depression_dataset_reddit    41075   \n",
       "\n",
       "                                               titel  \n",
       "0  Self-Care for the Depressed Soul: Prioritizing...  \n",
       "1  Self-Care for the Depressed Soul: Prioritizing...  \n",
       "2  Together We're Stronger: Building a Supportive...  \n",
       "3  Navigating the Labyrinth: A Guide to Understan...  \n",
       "4  Finding Peace in Chaos: Mindfulness and Depres...  "
      ]
     },
     "execution_count": 43,
     "metadata": {},
     "output_type": "execute_result"
    }
   ],
   "source": [
    "data.head()"
   ]
  },
  {
   "attachments": {},
   "cell_type": "markdown",
   "metadata": {},
   "source": [
    "### 1.3.4 add random id"
   ]
  },
  {
   "attachments": {},
   "cell_type": "markdown",
   "metadata": {},
   "source": [
    "the id 6 chars longand consit from numbers and chars"
   ]
  },
  {
   "cell_type": "code",
   "execution_count": 44,
   "metadata": {},
   "outputs": [],
   "source": [
    "data['id'] = '*'"
   ]
  },
  {
   "cell_type": "code",
   "execution_count": 45,
   "metadata": {},
   "outputs": [],
   "source": [
    "def random_id (input='*'):\n",
    "    '''\n",
    "    it geneartes an random Id with number and chars ofthe lengt 6\n",
    "    params are not important\n",
    "    '''\n",
    "    number = '0123456789'\n",
    "    alpahabet = 'abcdefghijklmnopqrstuvwxyz'\n",
    "    length=6\n",
    "    \n",
    "    id = ''\n",
    "    for index in range(0,length,1):\n",
    "        random_state = random.choice([0,1])\n",
    "        if random_state == 0: \n",
    "            id += random.choice(number)\n",
    "        else :\n",
    "            id += random.choice(alpahabet)\n",
    "    return id"
   ]
  },
  {
   "cell_type": "code",
   "execution_count": 46,
   "metadata": {},
   "outputs": [],
   "source": [
    "data['id'] = data['id'].apply(random_id)"
   ]
  },
  {
   "cell_type": "code",
   "execution_count": 47,
   "metadata": {},
   "outputs": [
    {
     "data": {
      "text/html": [
       "<div>\n",
       "<style scoped>\n",
       "    .dataframe tbody tr th:only-of-type {\n",
       "        vertical-align: middle;\n",
       "    }\n",
       "\n",
       "    .dataframe tbody tr th {\n",
       "        vertical-align: top;\n",
       "    }\n",
       "\n",
       "    .dataframe thead th {\n",
       "        text-align: right;\n",
       "    }\n",
       "</style>\n",
       "<table border=\"1\" class=\"dataframe\">\n",
       "  <thead>\n",
       "    <tr style=\"text-align: right;\">\n",
       "      <th></th>\n",
       "      <th>clean_text</th>\n",
       "      <th>is_depression</th>\n",
       "      <th>subreddit</th>\n",
       "      <th>upvotes</th>\n",
       "      <th>titel</th>\n",
       "      <th>id</th>\n",
       "    </tr>\n",
       "  </thead>\n",
       "  <tbody>\n",
       "    <tr>\n",
       "      <th>0</th>\n",
       "      <td>we understand that most people who reply immed...</td>\n",
       "      <td>1</td>\n",
       "      <td>depression_dataset_reddit</td>\n",
       "      <td>11979</td>\n",
       "      <td>Self-Care for the Depressed Soul: Prioritizing...</td>\n",
       "      <td>72h66d</td>\n",
       "    </tr>\n",
       "    <tr>\n",
       "      <th>1</th>\n",
       "      <td>welcome to r depression s check in post a plac...</td>\n",
       "      <td>1</td>\n",
       "      <td>depression_dataset_reddit</td>\n",
       "      <td>444559</td>\n",
       "      <td>Self-Care for the Depressed Soul: Prioritizing...</td>\n",
       "      <td>mu5n28</td>\n",
       "    </tr>\n",
       "    <tr>\n",
       "      <th>2</th>\n",
       "      <td>anyone else instead of sleeping more when depr...</td>\n",
       "      <td>1</td>\n",
       "      <td>depression_dataset_reddit</td>\n",
       "      <td>436260</td>\n",
       "      <td>Together We're Stronger: Building a Supportive...</td>\n",
       "      <td>32zd5b</td>\n",
       "    </tr>\n",
       "    <tr>\n",
       "      <th>3</th>\n",
       "      <td>i ve kind of stuffed around a lot in my life d...</td>\n",
       "      <td>1</td>\n",
       "      <td>depression_dataset_reddit</td>\n",
       "      <td>477035</td>\n",
       "      <td>Navigating the Labyrinth: A Guide to Understan...</td>\n",
       "      <td>v66mez</td>\n",
       "    </tr>\n",
       "    <tr>\n",
       "      <th>4</th>\n",
       "      <td>sleep is my greatest and most comforting escap...</td>\n",
       "      <td>1</td>\n",
       "      <td>depression_dataset_reddit</td>\n",
       "      <td>41075</td>\n",
       "      <td>Finding Peace in Chaos: Mindfulness and Depres...</td>\n",
       "      <td>p3q3kd</td>\n",
       "    </tr>\n",
       "  </tbody>\n",
       "</table>\n",
       "</div>"
      ],
      "text/plain": [
       "                                          clean_text  is_depression  \\\n",
       "0  we understand that most people who reply immed...              1   \n",
       "1  welcome to r depression s check in post a plac...              1   \n",
       "2  anyone else instead of sleeping more when depr...              1   \n",
       "3  i ve kind of stuffed around a lot in my life d...              1   \n",
       "4  sleep is my greatest and most comforting escap...              1   \n",
       "\n",
       "                   subreddit  upvotes  \\\n",
       "0  depression_dataset_reddit    11979   \n",
       "1  depression_dataset_reddit   444559   \n",
       "2  depression_dataset_reddit   436260   \n",
       "3  depression_dataset_reddit   477035   \n",
       "4  depression_dataset_reddit    41075   \n",
       "\n",
       "                                               titel      id  \n",
       "0  Self-Care for the Depressed Soul: Prioritizing...  72h66d  \n",
       "1  Self-Care for the Depressed Soul: Prioritizing...  mu5n28  \n",
       "2  Together We're Stronger: Building a Supportive...  32zd5b  \n",
       "3  Navigating the Labyrinth: A Guide to Understan...  v66mez  \n",
       "4  Finding Peace in Chaos: Mindfulness and Depres...  p3q3kd  "
      ]
     },
     "execution_count": 47,
     "metadata": {},
     "output_type": "execute_result"
    }
   ],
   "source": [
    "data.head()"
   ]
  },
  {
   "attachments": {},
   "cell_type": "markdown",
   "metadata": {},
   "source": [
    "### 1.3.5 add random author "
   ]
  },
  {
   "cell_type": "code",
   "execution_count": 48,
   "metadata": {},
   "outputs": [],
   "source": [
    "def random_author (input='*') :\n",
    "    '''\n",
    "    Randomly asisnes a user name to a post\n",
    "    parmas : are ignorable\n",
    "    '''\n",
    "    author_selection = ['Lamar43', 'Unicorn232', 'Unicore',\n",
    "                                'un1c0r3', 'sadshadows', 'CaptianUsless',\n",
    "                                'MRG3NTL3','NotTheYellowFromTheEgg','Sadtear',\n",
    "                                'darkbringer', 'sunshine', 'LeWagon2023',\n",
    "                                'batch-1218_berlin', 'Nasenbaer', 'user7434'\n",
    "                                'MysticMind29','StarGazer99','LunaDreamer',\n",
    "                                'Wanderlust84','BlissfulSerenity','EnigmaSeeker',\n",
    "                                'WhimsicalWanderer','ZenMaster42','EclecticSoul',\n",
    "                                'SunshineSmiles','CuriousCat123','DreamWeaver22',\n",
    "                                'SereneSerenade','MidnightWhisperer','LaughingLotus',\n",
    "                                'OceanBreeze88','HarmoniousHeart','MindfulExplorer',\n",
    "                                'RadiantSpirit','SparkleSoul','PeacefulJourney',\n",
    "                                'EnchantedWoods','SerendipitySeeker','RainbowDreamer',\n",
    "                                'TranquilThoughts','WhisperingWillow','FreeSpirit89',\n",
    "                                'EverlastingHope','SerotoninSurfer','TranquilityNow',\n",
    "                                'JoyfulJourneyer','DancingDandelion','GratefulHeart88',\n",
    "                                'SoothingSoul','CreativeDreamer','CalmCrafter',\n",
    "                                'ZenithZen','RadiantSmiles','SoulfulWonder',\n",
    "                                'PeacefulMinds'\n",
    "                                ]\n",
    "    author = random.choice(author_selection)\n",
    "    \n",
    "    return author"
   ]
  },
  {
   "cell_type": "code",
   "execution_count": 49,
   "metadata": {},
   "outputs": [
    {
     "data": {
      "text/plain": [
       "'EclecticSoul'"
      ]
     },
     "execution_count": 49,
     "metadata": {},
     "output_type": "execute_result"
    }
   ],
   "source": [
    "random_author()"
   ]
  },
  {
   "cell_type": "code",
   "execution_count": 50,
   "metadata": {},
   "outputs": [],
   "source": [
    "data['authore'] = '*'\n",
    "data['authore'] = data.authore.apply(random_author)"
   ]
  },
  {
   "cell_type": "code",
   "execution_count": 51,
   "metadata": {},
   "outputs": [
    {
     "data": {
      "text/html": [
       "<div>\n",
       "<style scoped>\n",
       "    .dataframe tbody tr th:only-of-type {\n",
       "        vertical-align: middle;\n",
       "    }\n",
       "\n",
       "    .dataframe tbody tr th {\n",
       "        vertical-align: top;\n",
       "    }\n",
       "\n",
       "    .dataframe thead th {\n",
       "        text-align: right;\n",
       "    }\n",
       "</style>\n",
       "<table border=\"1\" class=\"dataframe\">\n",
       "  <thead>\n",
       "    <tr style=\"text-align: right;\">\n",
       "      <th></th>\n",
       "      <th>clean_text</th>\n",
       "      <th>is_depression</th>\n",
       "      <th>subreddit</th>\n",
       "      <th>upvotes</th>\n",
       "      <th>titel</th>\n",
       "      <th>id</th>\n",
       "      <th>authore</th>\n",
       "    </tr>\n",
       "  </thead>\n",
       "  <tbody>\n",
       "    <tr>\n",
       "      <th>0</th>\n",
       "      <td>we understand that most people who reply immed...</td>\n",
       "      <td>1</td>\n",
       "      <td>depression_dataset_reddit</td>\n",
       "      <td>11979</td>\n",
       "      <td>Self-Care for the Depressed Soul: Prioritizing...</td>\n",
       "      <td>72h66d</td>\n",
       "      <td>darkbringer</td>\n",
       "    </tr>\n",
       "    <tr>\n",
       "      <th>1</th>\n",
       "      <td>welcome to r depression s check in post a plac...</td>\n",
       "      <td>1</td>\n",
       "      <td>depression_dataset_reddit</td>\n",
       "      <td>444559</td>\n",
       "      <td>Self-Care for the Depressed Soul: Prioritizing...</td>\n",
       "      <td>mu5n28</td>\n",
       "      <td>SoothingSoul</td>\n",
       "    </tr>\n",
       "    <tr>\n",
       "      <th>2</th>\n",
       "      <td>anyone else instead of sleeping more when depr...</td>\n",
       "      <td>1</td>\n",
       "      <td>depression_dataset_reddit</td>\n",
       "      <td>436260</td>\n",
       "      <td>Together We're Stronger: Building a Supportive...</td>\n",
       "      <td>32zd5b</td>\n",
       "      <td>sadshadows</td>\n",
       "    </tr>\n",
       "    <tr>\n",
       "      <th>3</th>\n",
       "      <td>i ve kind of stuffed around a lot in my life d...</td>\n",
       "      <td>1</td>\n",
       "      <td>depression_dataset_reddit</td>\n",
       "      <td>477035</td>\n",
       "      <td>Navigating the Labyrinth: A Guide to Understan...</td>\n",
       "      <td>v66mez</td>\n",
       "      <td>CreativeDreamer</td>\n",
       "    </tr>\n",
       "    <tr>\n",
       "      <th>4</th>\n",
       "      <td>sleep is my greatest and most comforting escap...</td>\n",
       "      <td>1</td>\n",
       "      <td>depression_dataset_reddit</td>\n",
       "      <td>41075</td>\n",
       "      <td>Finding Peace in Chaos: Mindfulness and Depres...</td>\n",
       "      <td>p3q3kd</td>\n",
       "      <td>LaughingLotus</td>\n",
       "    </tr>\n",
       "  </tbody>\n",
       "</table>\n",
       "</div>"
      ],
      "text/plain": [
       "                                          clean_text  is_depression  \\\n",
       "0  we understand that most people who reply immed...              1   \n",
       "1  welcome to r depression s check in post a plac...              1   \n",
       "2  anyone else instead of sleeping more when depr...              1   \n",
       "3  i ve kind of stuffed around a lot in my life d...              1   \n",
       "4  sleep is my greatest and most comforting escap...              1   \n",
       "\n",
       "                   subreddit  upvotes  \\\n",
       "0  depression_dataset_reddit    11979   \n",
       "1  depression_dataset_reddit   444559   \n",
       "2  depression_dataset_reddit   436260   \n",
       "3  depression_dataset_reddit   477035   \n",
       "4  depression_dataset_reddit    41075   \n",
       "\n",
       "                                               titel      id          authore  \n",
       "0  Self-Care for the Depressed Soul: Prioritizing...  72h66d      darkbringer  \n",
       "1  Self-Care for the Depressed Soul: Prioritizing...  mu5n28     SoothingSoul  \n",
       "2  Together We're Stronger: Building a Supportive...  32zd5b       sadshadows  \n",
       "3  Navigating the Labyrinth: A Guide to Understan...  v66mez  CreativeDreamer  \n",
       "4  Finding Peace in Chaos: Mindfulness and Depres...  p3q3kd    LaughingLotus  "
      ]
     },
     "execution_count": 51,
     "metadata": {},
     "output_type": "execute_result"
    }
   ],
   "source": [
    "data.head()"
   ]
  },
  {
   "attachments": {},
   "cell_type": "markdown",
   "metadata": {},
   "source": [
    "# Save the DataFrame as a CSV file"
   ]
  },
  {
   "cell_type": "code",
   "execution_count": 52,
   "metadata": {},
   "outputs": [],
   "source": [
    "data.to_csv(path, index=False)"
   ]
  }
 ],
 "metadata": {
  "kernelspec": {
   "display_name": "yana-env",
   "language": "python",
   "name": "python3"
  },
  "language_info": {
   "codemirror_mode": {
    "name": "ipython",
    "version": 3
   },
   "file_extension": ".py",
   "mimetype": "text/x-python",
   "name": "python",
   "nbconvert_exporter": "python",
   "pygments_lexer": "ipython3",
   "version": "3.11.3"
  },
  "orig_nbformat": 4
 },
 "nbformat": 4,
 "nbformat_minor": 2
}
