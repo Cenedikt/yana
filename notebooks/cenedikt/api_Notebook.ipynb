{
 "cells": [
  {
   "attachments": {},
   "cell_type": "markdown",
   "metadata": {},
   "source": [
    "# 1 Api request for post from Reddit with praw"
   ]
  },
  {
   "attachments": {},
   "cell_type": "markdown",
   "metadata": {},
   "source": [
    "## 1.1 imports"
   ]
  },
  {
   "cell_type": "code",
   "execution_count": 84,
   "metadata": {},
   "outputs": [],
   "source": [
    "import praw           \n",
    "import pandas as pd\n",
    "from yana.params import *"
   ]
  },
  {
   "attachments": {},
   "cell_type": "markdown",
   "metadata": {},
   "source": [
    "## 1.2 Authentification from the API"
   ]
  },
  {
   "cell_type": "code",
   "execution_count": 85,
   "metadata": {},
   "outputs": [
    {
     "name": "stdout",
     "output_type": "stream",
     "text": [
      "https://www.reddit.com/api/v1/authorize?client_id=azcpew4IUjb24q9tL3r2qA&duration=permanent&redirect_uri=http%3A%2F%2Flocalhost%3A8080&response_type=code&scope=identity&state=...\n"
     ]
    }
   ],
   "source": [
    "reddit = praw.Reddit(\n",
    "    client_id= CLIENT_ID,\n",
    "    client_secret= CLIENT_SECRET,\n",
    "    redirect_uri= REDIRECT_URI,\n",
    "    user_agent= USER_AGENT,    \n",
    ")\n",
    "print(reddit.auth.url(scopes=[\"identity\"], state=\"...\", duration=\"permanent\"))"
   ]
  },
  {
   "attachments": {},
   "cell_type": "markdown",
   "metadata": {},
   "source": [
    "## 1.3 create request\n",
    "from subbredit 'askatherapist'"
   ]
  },
  {
   "cell_type": "code",
   "execution_count": 86,
   "metadata": {},
   "outputs": [],
   "source": [
    "test_subreddit = reddit.subreddit('whatsbotheringyou')\n",
    "test_subreddit\n",
    "\n",
    "top_askatherapist = test_subreddit.top(limit=10)"
   ]
  },
  {
   "attachments": {},
   "cell_type": "markdown",
   "metadata": {},
   "source": [
    "## 1.4 Trasfrom request into DF"
   ]
  },
  {
   "cell_type": "code",
   "execution_count": 87,
   "metadata": {},
   "outputs": [],
   "source": [
    "posts = {}\n",
    "\n"
   ]
  },
  {
   "cell_type": "code",
   "execution_count": 88,
   "metadata": {},
   "outputs": [],
   "source": [
    "index = 0\n",
    "for post in top_askatherapist :\n",
    "    posts[index]= [\n",
    "        post.id,\n",
    "        post.author,\n",
    "        post.title,\n",
    "        post.subreddit.display_name,\n",
    "        post.selftext,\n",
    "        post.ups,\n",
    "        post.permalink\n",
    "    ]\n",
    "    index +=1"
   ]
  },
  {
   "cell_type": "code",
   "execution_count": 89,
   "metadata": {},
   "outputs": [],
   "source": [
    "df = pd.DataFrame.from_dict(posts,orient='index' ,columns=['id','author','title','subreddit','selftext','ups','permalink'])"
   ]
  },
  {
   "cell_type": "code",
   "execution_count": 90,
   "metadata": {},
   "outputs": [
    {
     "data": {
      "text/html": [
       "<div>\n",
       "<style scoped>\n",
       "    .dataframe tbody tr th:only-of-type {\n",
       "        vertical-align: middle;\n",
       "    }\n",
       "\n",
       "    .dataframe tbody tr th {\n",
       "        vertical-align: top;\n",
       "    }\n",
       "\n",
       "    .dataframe thead th {\n",
       "        text-align: right;\n",
       "    }\n",
       "</style>\n",
       "<table border=\"1\" class=\"dataframe\">\n",
       "  <thead>\n",
       "    <tr style=\"text-align: right;\">\n",
       "      <th></th>\n",
       "      <th>id</th>\n",
       "      <th>author</th>\n",
       "      <th>title</th>\n",
       "      <th>subreddit</th>\n",
       "      <th>selftext</th>\n",
       "      <th>ups</th>\n",
       "      <th>permalink</th>\n",
       "    </tr>\n",
       "  </thead>\n",
       "  <tbody>\n",
       "    <tr>\n",
       "      <th>0</th>\n",
       "      <td>mo0fd8</td>\n",
       "      <td>_longmire_</td>\n",
       "      <td>Matt Gaetz's Twitter is creeping me out an pis...</td>\n",
       "      <td>whatsbotheringyou</td>\n",
       "      <td>I'm sorry to inflict this post on the members ...</td>\n",
       "      <td>92</td>\n",
       "      <td>/r/whatsbotheringyou/comments/mo0fd8/matt_gaet...</td>\n",
       "    </tr>\n",
       "    <tr>\n",
       "      <th>1</th>\n",
       "      <td>1jy7px</td>\n",
       "      <td>None</td>\n",
       "      <td>I was raped and I don't know to fix it.</td>\n",
       "      <td>whatsbotheringyou</td>\n",
       "      <td>I recently went away on a family holiday. My c...</td>\n",
       "      <td>83</td>\n",
       "      <td>/r/whatsbotheringyou/comments/1jy7px/i_was_rap...</td>\n",
       "    </tr>\n",
       "    <tr>\n",
       "      <th>2</th>\n",
       "      <td>eyi23g</td>\n",
       "      <td>electricamethyst</td>\n",
       "      <td>Today marks 4 years.</td>\n",
       "      <td>whatsbotheringyou</td>\n",
       "      <td>Today marks 4 years since my 6 month old son p...</td>\n",
       "      <td>74</td>\n",
       "      <td>/r/whatsbotheringyou/comments/eyi23g/today_mar...</td>\n",
       "    </tr>\n",
       "    <tr>\n",
       "      <th>3</th>\n",
       "      <td>i7srl9</td>\n",
       "      <td>cmathdog</td>\n",
       "      <td>Would love to quit my job and live in a seclud...</td>\n",
       "      <td>whatsbotheringyou</td>\n",
       "      <td>I currently work a full time 8-5 job and I hat...</td>\n",
       "      <td>66</td>\n",
       "      <td>/r/whatsbotheringyou/comments/i7srl9/would_lov...</td>\n",
       "    </tr>\n",
       "    <tr>\n",
       "      <th>4</th>\n",
       "      <td>e8ifrw</td>\n",
       "      <td>Envrin</td>\n",
       "      <td>2 years of hard about to be meaningless due to...</td>\n",
       "      <td>whatsbotheringyou</td>\n",
       "      <td>&amp;#x200B;\\n\\nWent blind three years ago -- noth...</td>\n",
       "      <td>71</td>\n",
       "      <td>/r/whatsbotheringyou/comments/e8ifrw/2_years_o...</td>\n",
       "    </tr>\n",
       "    <tr>\n",
       "      <th>5</th>\n",
       "      <td>1k3sis</td>\n",
       "      <td>i_am__thewalrus</td>\n",
       "      <td>Girlfriend of Last 5 Years Passed Away</td>\n",
       "      <td>whatsbotheringyou</td>\n",
       "      <td>Hello everyone. Long time reddit user here, fi...</td>\n",
       "      <td>59</td>\n",
       "      <td>/r/whatsbotheringyou/comments/1k3sis/girlfrien...</td>\n",
       "    </tr>\n",
       "    <tr>\n",
       "      <th>6</th>\n",
       "      <td>1jww8q</td>\n",
       "      <td>oatmeal5432</td>\n",
       "      <td>Got drunk and acted very unlike myself with a ...</td>\n",
       "      <td>whatsbotheringyou</td>\n",
       "      <td>I was at my friend's house for the first time ...</td>\n",
       "      <td>60</td>\n",
       "      <td>/r/whatsbotheringyou/comments/1jww8q/got_drunk...</td>\n",
       "    </tr>\n",
       "    <tr>\n",
       "      <th>7</th>\n",
       "      <td>1x1q9h</td>\n",
       "      <td>miamcfly</td>\n",
       "      <td>That most guys on Reddit refuse to accept that...</td>\n",
       "      <td>whatsbotheringyou</td>\n",
       "      <td>Almost every time I or someone else mentions a...</td>\n",
       "      <td>62</td>\n",
       "      <td>/r/whatsbotheringyou/comments/1x1q9h/that_most...</td>\n",
       "    </tr>\n",
       "    <tr>\n",
       "      <th>8</th>\n",
       "      <td>1jwup5</td>\n",
       "      <td>granbrry</td>\n",
       "      <td>Feeling very alone and abandoned</td>\n",
       "      <td>whatsbotheringyou</td>\n",
       "      <td>I feel very depressed and alone at the moment....</td>\n",
       "      <td>60</td>\n",
       "      <td>/r/whatsbotheringyou/comments/1jwup5/feeling_v...</td>\n",
       "    </tr>\n",
       "    <tr>\n",
       "      <th>9</th>\n",
       "      <td>1m5z9d</td>\n",
       "      <td>None</td>\n",
       "      <td>I let my fiancee down. She needed me, and I di...</td>\n",
       "      <td>whatsbotheringyou</td>\n",
       "      <td>Truly gone. She didn't dump me. I didn't get h...</td>\n",
       "      <td>55</td>\n",
       "      <td>/r/whatsbotheringyou/comments/1m5z9d/i_let_my_...</td>\n",
       "    </tr>\n",
       "  </tbody>\n",
       "</table>\n",
       "</div>"
      ],
      "text/plain": [
       "       id            author  \\\n",
       "0  mo0fd8        _longmire_   \n",
       "1  1jy7px              None   \n",
       "2  eyi23g  electricamethyst   \n",
       "3  i7srl9          cmathdog   \n",
       "4  e8ifrw            Envrin   \n",
       "5  1k3sis   i_am__thewalrus   \n",
       "6  1jww8q       oatmeal5432   \n",
       "7  1x1q9h          miamcfly   \n",
       "8  1jwup5          granbrry   \n",
       "9  1m5z9d              None   \n",
       "\n",
       "                                               title          subreddit  \\\n",
       "0  Matt Gaetz's Twitter is creeping me out an pis...  whatsbotheringyou   \n",
       "1            I was raped and I don't know to fix it.  whatsbotheringyou   \n",
       "2                               Today marks 4 years.  whatsbotheringyou   \n",
       "3  Would love to quit my job and live in a seclud...  whatsbotheringyou   \n",
       "4  2 years of hard about to be meaningless due to...  whatsbotheringyou   \n",
       "5             Girlfriend of Last 5 Years Passed Away  whatsbotheringyou   \n",
       "6  Got drunk and acted very unlike myself with a ...  whatsbotheringyou   \n",
       "7  That most guys on Reddit refuse to accept that...  whatsbotheringyou   \n",
       "8                   Feeling very alone and abandoned  whatsbotheringyou   \n",
       "9  I let my fiancee down. She needed me, and I di...  whatsbotheringyou   \n",
       "\n",
       "                                            selftext  ups  \\\n",
       "0  I'm sorry to inflict this post on the members ...   92   \n",
       "1  I recently went away on a family holiday. My c...   83   \n",
       "2  Today marks 4 years since my 6 month old son p...   74   \n",
       "3  I currently work a full time 8-5 job and I hat...   66   \n",
       "4  &#x200B;\\n\\nWent blind three years ago -- noth...   71   \n",
       "5  Hello everyone. Long time reddit user here, fi...   59   \n",
       "6  I was at my friend's house for the first time ...   60   \n",
       "7  Almost every time I or someone else mentions a...   62   \n",
       "8  I feel very depressed and alone at the moment....   60   \n",
       "9  Truly gone. She didn't dump me. I didn't get h...   55   \n",
       "\n",
       "                                           permalink  \n",
       "0  /r/whatsbotheringyou/comments/mo0fd8/matt_gaet...  \n",
       "1  /r/whatsbotheringyou/comments/1jy7px/i_was_rap...  \n",
       "2  /r/whatsbotheringyou/comments/eyi23g/today_mar...  \n",
       "3  /r/whatsbotheringyou/comments/i7srl9/would_lov...  \n",
       "4  /r/whatsbotheringyou/comments/e8ifrw/2_years_o...  \n",
       "5  /r/whatsbotheringyou/comments/1k3sis/girlfrien...  \n",
       "6  /r/whatsbotheringyou/comments/1jww8q/got_drunk...  \n",
       "7  /r/whatsbotheringyou/comments/1x1q9h/that_most...  \n",
       "8  /r/whatsbotheringyou/comments/1jwup5/feeling_v...  \n",
       "9  /r/whatsbotheringyou/comments/1m5z9d/i_let_my_...  "
      ]
     },
     "execution_count": 90,
     "metadata": {},
     "output_type": "execute_result"
    }
   ],
   "source": [
    "df"
   ]
  },
  {
   "cell_type": "code",
   "execution_count": 74,
   "metadata": {},
   "outputs": [
    {
     "data": {
      "text/html": [
       "<div>\n",
       "<style scoped>\n",
       "    .dataframe tbody tr th:only-of-type {\n",
       "        vertical-align: middle;\n",
       "    }\n",
       "\n",
       "    .dataframe tbody tr th {\n",
       "        vertical-align: top;\n",
       "    }\n",
       "\n",
       "    .dataframe thead th {\n",
       "        text-align: right;\n",
       "    }\n",
       "</style>\n",
       "<table border=\"1\" class=\"dataframe\">\n",
       "  <thead>\n",
       "    <tr style=\"text-align: right;\">\n",
       "      <th></th>\n",
       "      <th>id</th>\n",
       "      <th>author</th>\n",
       "      <th>title</th>\n",
       "      <th>subreddit</th>\n",
       "      <th>selftext</th>\n",
       "      <th>ups</th>\n",
       "      <th>permalink</th>\n",
       "    </tr>\n",
       "  </thead>\n",
       "  <tbody>\n",
       "    <tr>\n",
       "      <th>0</th>\n",
       "      <td>mo0fd8</td>\n",
       "      <td>_longmire_</td>\n",
       "      <td>Matt Gaetz's Twitter is creeping me out an pis...</td>\n",
       "      <td>whatsbotheringyou</td>\n",
       "      <td>I'm sorry to inflict this post on the members ...</td>\n",
       "      <td>92</td>\n",
       "      <td>/r/whatsbotheringyou/comments/mo0fd8/matt_gaet...</td>\n",
       "    </tr>\n",
       "    <tr>\n",
       "      <th>1</th>\n",
       "      <td>1jy7px</td>\n",
       "      <td>None</td>\n",
       "      <td>I was raped and I don't know to fix it.</td>\n",
       "      <td>whatsbotheringyou</td>\n",
       "      <td>I recently went away on a family holiday. My c...</td>\n",
       "      <td>83</td>\n",
       "      <td>/r/whatsbotheringyou/comments/1jy7px/i_was_rap...</td>\n",
       "    </tr>\n",
       "    <tr>\n",
       "      <th>2</th>\n",
       "      <td>eyi23g</td>\n",
       "      <td>electricamethyst</td>\n",
       "      <td>Today marks 4 years.</td>\n",
       "      <td>whatsbotheringyou</td>\n",
       "      <td>Today marks 4 years since my 6 month old son p...</td>\n",
       "      <td>75</td>\n",
       "      <td>/r/whatsbotheringyou/comments/eyi23g/today_mar...</td>\n",
       "    </tr>\n",
       "    <tr>\n",
       "      <th>3</th>\n",
       "      <td>i7srl9</td>\n",
       "      <td>cmathdog</td>\n",
       "      <td>Would love to quit my job and live in a seclud...</td>\n",
       "      <td>whatsbotheringyou</td>\n",
       "      <td>I currently work a full time 8-5 job and I hat...</td>\n",
       "      <td>67</td>\n",
       "      <td>/r/whatsbotheringyou/comments/i7srl9/would_lov...</td>\n",
       "    </tr>\n",
       "    <tr>\n",
       "      <th>4</th>\n",
       "      <td>e8ifrw</td>\n",
       "      <td>Envrin</td>\n",
       "      <td>2 years of hard about to be meaningless due to...</td>\n",
       "      <td>whatsbotheringyou</td>\n",
       "      <td>&amp;#x200B;\\n\\nWent blind three years ago -- noth...</td>\n",
       "      <td>70</td>\n",
       "      <td>/r/whatsbotheringyou/comments/e8ifrw/2_years_o...</td>\n",
       "    </tr>\n",
       "  </tbody>\n",
       "</table>\n",
       "</div>"
      ],
      "text/plain": [
       "       id            author  \\\n",
       "0  mo0fd8        _longmire_   \n",
       "1  1jy7px              None   \n",
       "2  eyi23g  electricamethyst   \n",
       "3  i7srl9          cmathdog   \n",
       "4  e8ifrw            Envrin   \n",
       "\n",
       "                                               title          subreddit  \\\n",
       "0  Matt Gaetz's Twitter is creeping me out an pis...  whatsbotheringyou   \n",
       "1            I was raped and I don't know to fix it.  whatsbotheringyou   \n",
       "2                               Today marks 4 years.  whatsbotheringyou   \n",
       "3  Would love to quit my job and live in a seclud...  whatsbotheringyou   \n",
       "4  2 years of hard about to be meaningless due to...  whatsbotheringyou   \n",
       "\n",
       "                                            selftext  ups  \\\n",
       "0  I'm sorry to inflict this post on the members ...   92   \n",
       "1  I recently went away on a family holiday. My c...   83   \n",
       "2  Today marks 4 years since my 6 month old son p...   75   \n",
       "3  I currently work a full time 8-5 job and I hat...   67   \n",
       "4  &#x200B;\\n\\nWent blind three years ago -- noth...   70   \n",
       "\n",
       "                                           permalink  \n",
       "0  /r/whatsbotheringyou/comments/mo0fd8/matt_gaet...  \n",
       "1  /r/whatsbotheringyou/comments/1jy7px/i_was_rap...  \n",
       "2  /r/whatsbotheringyou/comments/eyi23g/today_mar...  \n",
       "3  /r/whatsbotheringyou/comments/i7srl9/would_lov...  \n",
       "4  /r/whatsbotheringyou/comments/e8ifrw/2_years_o...  "
      ]
     },
     "execution_count": 74,
     "metadata": {},
     "output_type": "execute_result"
    }
   ],
   "source": [
    "df.head()"
   ]
  },
  {
   "cell_type": "code",
   "execution_count": 75,
   "metadata": {},
   "outputs": [
    {
     "name": "stdout",
     "output_type": "stream",
     "text": [
      "Used requests: {1}\n"
     ]
    }
   ],
   "source": [
    "used_requests = reddit.auth.limits['used']\n",
    "print(f\"Used requests:\", {used_requests})"
   ]
  },
  {
   "cell_type": "code",
   "execution_count": null,
   "metadata": {},
   "outputs": [],
   "source": [
    "df "
   ]
  },
  {
   "attachments": {},
   "cell_type": "markdown",
   "metadata": {},
   "source": [
    "# 2 Some test withe full build"
   ]
  },
  {
   "cell_type": "code",
   "execution_count": 76,
   "metadata": {},
   "outputs": [
    {
     "data": {
      "text/html": [
       "<div>\n",
       "<style scoped>\n",
       "    .dataframe tbody tr th:only-of-type {\n",
       "        vertical-align: middle;\n",
       "    }\n",
       "\n",
       "    .dataframe tbody tr th {\n",
       "        vertical-align: top;\n",
       "    }\n",
       "\n",
       "    .dataframe thead th {\n",
       "        text-align: right;\n",
       "    }\n",
       "</style>\n",
       "<table border=\"1\" class=\"dataframe\">\n",
       "  <thead>\n",
       "    <tr style=\"text-align: right;\">\n",
       "      <th></th>\n",
       "      <th>id</th>\n",
       "      <th>author</th>\n",
       "      <th>title</th>\n",
       "      <th>subreddit</th>\n",
       "      <th>selftext</th>\n",
       "      <th>ups</th>\n",
       "      <th>permalink</th>\n",
       "    </tr>\n",
       "  </thead>\n",
       "  <tbody>\n",
       "    <tr>\n",
       "      <th>0</th>\n",
       "      <td>mo0fd8</td>\n",
       "      <td>_longmire_</td>\n",
       "      <td>Matt Gaetz's Twitter is creeping me out an pis...</td>\n",
       "      <td>whatsbotheringyou</td>\n",
       "      <td>I'm sorry to inflict this post on the members ...</td>\n",
       "      <td>94</td>\n",
       "      <td>/r/whatsbotheringyou/comments/mo0fd8/matt_gaet...</td>\n",
       "    </tr>\n",
       "    <tr>\n",
       "      <th>1</th>\n",
       "      <td>1jy7px</td>\n",
       "      <td>None</td>\n",
       "      <td>I was raped and I don't know to fix it.</td>\n",
       "      <td>whatsbotheringyou</td>\n",
       "      <td>I recently went away on a family holiday. My c...</td>\n",
       "      <td>86</td>\n",
       "      <td>/r/whatsbotheringyou/comments/1jy7px/i_was_rap...</td>\n",
       "    </tr>\n",
       "    <tr>\n",
       "      <th>2</th>\n",
       "      <td>eyi23g</td>\n",
       "      <td>electricamethyst</td>\n",
       "      <td>Today marks 4 years.</td>\n",
       "      <td>whatsbotheringyou</td>\n",
       "      <td>Today marks 4 years since my 6 month old son p...</td>\n",
       "      <td>75</td>\n",
       "      <td>/r/whatsbotheringyou/comments/eyi23g/today_mar...</td>\n",
       "    </tr>\n",
       "    <tr>\n",
       "      <th>3</th>\n",
       "      <td>i7srl9</td>\n",
       "      <td>cmathdog</td>\n",
       "      <td>Would love to quit my job and live in a seclud...</td>\n",
       "      <td>whatsbotheringyou</td>\n",
       "      <td>I currently work a full time 8-5 job and I hat...</td>\n",
       "      <td>65</td>\n",
       "      <td>/r/whatsbotheringyou/comments/i7srl9/would_lov...</td>\n",
       "    </tr>\n",
       "    <tr>\n",
       "      <th>4</th>\n",
       "      <td>e8ifrw</td>\n",
       "      <td>Envrin</td>\n",
       "      <td>2 years of hard about to be meaningless due to...</td>\n",
       "      <td>whatsbotheringyou</td>\n",
       "      <td>&amp;#x200B;\\n\\nWent blind three years ago -- noth...</td>\n",
       "      <td>64</td>\n",
       "      <td>/r/whatsbotheringyou/comments/e8ifrw/2_years_o...</td>\n",
       "    </tr>\n",
       "  </tbody>\n",
       "</table>\n",
       "</div>"
      ],
      "text/plain": [
       "       id            author  \\\n",
       "0  mo0fd8        _longmire_   \n",
       "1  1jy7px              None   \n",
       "2  eyi23g  electricamethyst   \n",
       "3  i7srl9          cmathdog   \n",
       "4  e8ifrw            Envrin   \n",
       "\n",
       "                                               title          subreddit  \\\n",
       "0  Matt Gaetz's Twitter is creeping me out an pis...  whatsbotheringyou   \n",
       "1            I was raped and I don't know to fix it.  whatsbotheringyou   \n",
       "2                               Today marks 4 years.  whatsbotheringyou   \n",
       "3  Would love to quit my job and live in a seclud...  whatsbotheringyou   \n",
       "4  2 years of hard about to be meaningless due to...  whatsbotheringyou   \n",
       "\n",
       "                                            selftext  ups  \\\n",
       "0  I'm sorry to inflict this post on the members ...   94   \n",
       "1  I recently went away on a family holiday. My c...   86   \n",
       "2  Today marks 4 years since my 6 month old son p...   75   \n",
       "3  I currently work a full time 8-5 job and I hat...   65   \n",
       "4  &#x200B;\\n\\nWent blind three years ago -- noth...   64   \n",
       "\n",
       "                                           permalink  \n",
       "0  /r/whatsbotheringyou/comments/mo0fd8/matt_gaet...  \n",
       "1  /r/whatsbotheringyou/comments/1jy7px/i_was_rap...  \n",
       "2  /r/whatsbotheringyou/comments/eyi23g/today_mar...  \n",
       "3  /r/whatsbotheringyou/comments/i7srl9/would_lov...  \n",
       "4  /r/whatsbotheringyou/comments/e8ifrw/2_years_o...  "
      ]
     },
     "execution_count": 76,
     "metadata": {},
     "output_type": "execute_result"
    }
   ],
   "source": [
    "for subs in SUBREDDITS:\n",
    "    test_subreddit = reddit.subreddit(subs)\n",
    "    top_askatherapist = test_subreddit.top(limit=10)\n",
    "    posts = {}\n",
    "    index = 0\n",
    "    for post in top_askatherapist :\n",
    "        posts[index]= [\n",
    "            post.id,\n",
    "            post.author,\n",
    "            post.title,\n",
    "            post.subreddit.display_name,\n",
    "            post.selftext,\n",
    "            post.ups,\n",
    "            post.permalink\n",
    "        ]\n",
    "        index +=1\n",
    "        \n",
    "df_ = pd.DataFrame.from_dict(posts,orient='index' ,columns=['id','author','title','subreddit','selftext','ups','permalink'])\n",
    "df_.head() "
   ]
  },
  {
   "attachments": {},
   "cell_type": "markdown",
   "metadata": {},
   "source": [
    "# 3 test withe the daata"
   ]
  },
  {
   "cell_type": "code",
   "execution_count": 91,
   "metadata": {},
   "outputs": [
    {
     "data": {
      "text/plain": [
       "\"Matt Gaetz's Twitter is creeping me out an pissing me off\""
      ]
     },
     "execution_count": 91,
     "metadata": {},
     "output_type": "execute_result"
    }
   ],
   "source": [
    "df.title[0]"
   ]
  },
  {
   "cell_type": "code",
   "execution_count": 92,
   "metadata": {},
   "outputs": [
    {
     "data": {
      "text/plain": [
       "57"
      ]
     },
     "execution_count": 92,
     "metadata": {},
     "output_type": "execute_result"
    }
   ],
   "source": [
    "len(df.title[0])"
   ]
  },
  {
   "cell_type": "code",
   "execution_count": 93,
   "metadata": {},
   "outputs": [
    {
     "data": {
      "text/plain": [
       "'I\\'m sorry to inflict this post on the members and mods of this subreddit, but so far no subreddit will accept my post without premoderation, which I am not willing to go through. To the mods here -- if this post isn\\'t acceptable here, I understand. Feel free to delete it, no hard feelings.\\n\\nNote: I specifically address concerns about innocent-until-proven guilty, court of public opinion, etc. in a longer note at the end of the post. If your reaction to this post is to want to talk about those kind of issues, I\\'d ask that you at least read that first. It is 100% not my intention to spur harassment or brigading, so please don\\'t. This post is mostly apolitical in the typical sense.\\n\\nWhy\\'s this bothering me? I\\'m close to people who were abused. I was tuned out of the news for a long time and tuned back in at the wrong time.\\n\\n`----------------------------`\\n\\nHis strange language about women and sex in response to jokingly being called called \"horny\" for Marjorie Taylor Greene: He responded with a really awkward tirade about reducing women to their \"sexual utility\" and the very poorly phrased observation: \"the only basis a man would have to promote/encourage a woman is *sex hurts & degrades all women*.\"    \\nhttps://twitter.com/mattgaetz/status/1327317476447821828?s=20  \\n  \\nHis oddly specific use of prostitution slang. He wants to talk about Political Action Committees (PACs) but it comes out as something about \"turning tricks\" and \"picking up money in the nightstand\".    \\nhttps://twitter.com/mattgaetz/status/1233133350996652034?s=20  \\n\\n`----------------------------`\\n  \\nHe\\'s posted seemingly dozens of selfie pics of himself with youths at various elementary schools and high schools and other events. Rarely adults in the frame. Look, he\\'s a politician. Politicians need to pay attention to important community resources like schools. Politicians need to do outreach and are expected to. Schools are underfunded. I get it. But still. These are only some of them. Anything that looks like a school is high school or lower. I did not find any pictures at colleges, regardless of if those pictures had students.\\n  \\nhttps://twitter.com/mattgaetz/status/897946853437833217?s=20   \\nhttps://twitter.com/mattgaetz/status/1088847351052156928?s=20            \\nhttps://twitter.com/mattgaetz/status/1230922629684568071?s=20        \\nhttps://twitter.com/mattgaetz/status/900055100672151552?s=20       \\nhttps://twitter.com/mattgaetz/status/882016506317549568?s=20            \\nhttps://twitter.com/mattgaetz/status/878673399891079170?s=20   \\nhttps://twitter.com/mattgaetz/status/875044002546016263?s=20   \\nhttps://twitter.com/mattgaetz/status/1019740460351356928?s=20        \\nhttps://twitter.com/mattgaetz/status/852221961287720961?s=20       \\nhttps://twitter.com/mattgaetz/status/660462201434714112?s=20     \\nhttps://twitter.com/mattgaetz/status/539610642236571649?s=20     \\nhttps://twitter.com/mattgaetz/status/756229651656220672?s=20    \\nhttps://twitter.com/mattgaetz/status/838483960288198661?s=20       \\nhttps://twitter.com/mattgaetz/status/825736137499099137?s=20       \\nhttps://twitter.com/mattgaetz/status/825145874208653313?s=20   \\nhttps://twitter.com/mattgaetz/status/879760517488881664?s=20  \\nhttps://twitter.com/mattgaetz/status/786005212767158273?s=20   \\nhttps://twitter.com/mattgaetz/status/676533357203836929?s=20   \\nhttps://twitter.com/mattgaetz/status/527100041673310211?s=20   \\nhttps://twitter.com/mattgaetz/status/1233896043202383876?s=20                \\nhttps://twitter.com/mattgaetz/status/1098634569065078784?s=20       \\n\\n`----------------------------`  \\n\\nAnd finally, no serious romantic relationships on his Twitter except starting in late 2020 when his fiancee appears out of nowhere and becomes very prominently featured, around the time when he was petitioning for a pardon. Is this evidence of anything? Nope. Could it be explained by perfectly mundane things? Yep.\\n\\n`----------------------------`\\n\\nI never payed much attention to Matt Gaetz because I was, like many others -- late months of 2020 and early months of 2021 -- completely oversaturated with the news about all the shitty things his political sphere was doing and saying to my country. That, mixed with the stress of the pandemic, led me to a point where I needed to disconnect from news media and social media. Fast-forward to current day and things seem to be going better. Early results on the vaccine are sounding good. So I was feeling recharged enough to reconnect a little bit. I might have picked a bad time. Matt Gaetz\\'s apparent hypocricy really upset me. A lot. I do not like hypocricy and I do not like people who take advantage of vulnerable people. So I started semi-obsessively going through MG\\'s public tweets. And I increasingly didn\\'t like what I found.  \\n  \\nI am a firm believer in the principle of \"innocent until proven guilty\" (IUPG). I often refer people to William Blackstone\\'s 1776 work on English commonlaw: \"It is better that ten guilty persons escape than that one innocent suffer.\" However, my firmest belief in IUPG is centered mostly on the domain of criminal law and criminal justice. I do believe IUPG should be kept in mind in the \"court of public opinion\". However -- just like it makes sense to me that the standards of guilt are lower in civil court than in criminal court -- it makes sense to me that the standards of guilt are lower in the court of public opinion than in criminal court. I don\\'t know whether that\\'s fair or just and it\\'s not my intention to argue for or against this, I\\'m just pointing out the reality of how things are.  I am not saying he\\'s guilty in any court: criminal, civil, or public. I\\'m just trying to justify this kind of focused analysis of his public presentation.\\n  \\nI know reddit has rules about harassment which basically boil down to: don\\'t harass people. Don\\'t post personal information. My intention is not to harass. Gaetz is a public figure, a public servant, his tweets are public, and he\\'s in the national news. I regret posting direct links to Gaetz\\'s pictures of private citizens, but that\\'s kind of the point of my post. I feel the standards for harassment are a little different for someone in his position than your average private citizen. I wouldn\\'t ever make a post like this about a private citizen, even if -- especially if -- they were accused of similar things, said similar things, or had exhibited similar behaviors. We hold politicians to higher standards than other people and we ought to. It is not my intention to inspire brigading or harassment, please don\\'t. Thanks.'"
      ]
     },
     "execution_count": 93,
     "metadata": {},
     "output_type": "execute_result"
    }
   ],
   "source": [
    "df.selftext[0]"
   ]
  },
  {
   "cell_type": "code",
   "execution_count": 94,
   "metadata": {},
   "outputs": [
    {
     "data": {
      "text/plain": [
       "6558"
      ]
     },
     "execution_count": 94,
     "metadata": {},
     "output_type": "execute_result"
    }
   ],
   "source": [
    "len(df.selftext[0])"
   ]
  },
  {
   "cell_type": "code",
   "execution_count": 115,
   "metadata": {},
   "outputs": [
    {
     "data": {
      "text/plain": [
       "0    I'm sorry to inflict this post on the members ...\n",
       "1    I recently went away on a family holiday. My c...\n",
       "2    Today marks 4 years since my 6 month old son p...\n",
       "3    I currently work a full time 8-5 job and I hat...\n",
       "4    &#x200B;\\n\\nWent blind three years ago -- noth...\n",
       "5    Hello everyone. Long time reddit user here, fi...\n",
       "6    I was at my friend's house for the first time ...\n",
       "7    Almost every time I or someone else mentions a...\n",
       "8    I feel very depressed and alone at the moment....\n",
       "9    Truly gone. She didn't dump me. I didn't get h...\n",
       "Name: selftext, dtype: object"
      ]
     },
     "execution_count": 115,
     "metadata": {},
     "output_type": "execute_result"
    }
   ],
   "source": [
    "df.selftext   "
   ]
  },
  {
   "cell_type": "code",
   "execution_count": 125,
   "metadata": {},
   "outputs": [
    {
     "name": "stdout",
     "output_type": "stream",
     "text": [
      "0 6558 57\n",
      "1 3918 39\n",
      "2 411 20\n",
      "3 785 76\n",
      "4 1658 73\n",
      "5 2429 38\n",
      "6 2240 95\n",
      "7 982 81\n",
      "8 1524 32\n",
      "9 351 89\n"
     ]
    }
   ],
   "source": [
    "for index, row in df.iterrows():\n",
    "    selftext = row['selftext']\n",
    "    title = row['title']\n",
    "    print(f'{index} {len(selftext)} {len(title)}')\n",
    "    if selftext =='':\n",
    "        if len(title) <= 72 :\n",
    "            df_ = df.drop(index)\n",
    "    elif len(selftext) <= 72 :\n",
    "        df_ = df.drop(index)\n",
    "    "
   ]
  },
  {
   "cell_type": "code",
   "execution_count": 124,
   "metadata": {},
   "outputs": [
    {
     "data": {
      "text/html": [
       "<div>\n",
       "<style scoped>\n",
       "    .dataframe tbody tr th:only-of-type {\n",
       "        vertical-align: middle;\n",
       "    }\n",
       "\n",
       "    .dataframe tbody tr th {\n",
       "        vertical-align: top;\n",
       "    }\n",
       "\n",
       "    .dataframe thead th {\n",
       "        text-align: right;\n",
       "    }\n",
       "</style>\n",
       "<table border=\"1\" class=\"dataframe\">\n",
       "  <thead>\n",
       "    <tr style=\"text-align: right;\">\n",
       "      <th></th>\n",
       "      <th>id</th>\n",
       "      <th>author</th>\n",
       "      <th>title</th>\n",
       "      <th>subreddit</th>\n",
       "      <th>selftext</th>\n",
       "      <th>ups</th>\n",
       "      <th>permalink</th>\n",
       "    </tr>\n",
       "  </thead>\n",
       "  <tbody>\n",
       "    <tr>\n",
       "      <th>0</th>\n",
       "      <td>mo0fd8</td>\n",
       "      <td>_longmire_</td>\n",
       "      <td>Matt Gaetz's Twitter is creeping me out an pis...</td>\n",
       "      <td>whatsbotheringyou</td>\n",
       "      <td>I'm sorry to inflict this post on the members ...</td>\n",
       "      <td>92</td>\n",
       "      <td>/r/whatsbotheringyou/comments/mo0fd8/matt_gaet...</td>\n",
       "    </tr>\n",
       "    <tr>\n",
       "      <th>1</th>\n",
       "      <td>1jy7px</td>\n",
       "      <td>None</td>\n",
       "      <td>I was raped and I don't know to fix it.</td>\n",
       "      <td>whatsbotheringyou</td>\n",
       "      <td>I recently went away on a family holiday. My c...</td>\n",
       "      <td>83</td>\n",
       "      <td>/r/whatsbotheringyou/comments/1jy7px/i_was_rap...</td>\n",
       "    </tr>\n",
       "    <tr>\n",
       "      <th>2</th>\n",
       "      <td>eyi23g</td>\n",
       "      <td>electricamethyst</td>\n",
       "      <td>Today marks 4 years.</td>\n",
       "      <td>whatsbotheringyou</td>\n",
       "      <td>Today marks 4 years since my 6 month old son p...</td>\n",
       "      <td>74</td>\n",
       "      <td>/r/whatsbotheringyou/comments/eyi23g/today_mar...</td>\n",
       "    </tr>\n",
       "    <tr>\n",
       "      <th>3</th>\n",
       "      <td>i7srl9</td>\n",
       "      <td>cmathdog</td>\n",
       "      <td>Would love to quit my job and live in a seclud...</td>\n",
       "      <td>whatsbotheringyou</td>\n",
       "      <td>I currently work a full time 8-5 job and I hat...</td>\n",
       "      <td>66</td>\n",
       "      <td>/r/whatsbotheringyou/comments/i7srl9/would_lov...</td>\n",
       "    </tr>\n",
       "    <tr>\n",
       "      <th>4</th>\n",
       "      <td>e8ifrw</td>\n",
       "      <td>Envrin</td>\n",
       "      <td>2 years of hard about to be meaningless due to...</td>\n",
       "      <td>whatsbotheringyou</td>\n",
       "      <td>&amp;#x200B;\\n\\nWent blind three years ago -- noth...</td>\n",
       "      <td>71</td>\n",
       "      <td>/r/whatsbotheringyou/comments/e8ifrw/2_years_o...</td>\n",
       "    </tr>\n",
       "    <tr>\n",
       "      <th>5</th>\n",
       "      <td>1k3sis</td>\n",
       "      <td>i_am__thewalrus</td>\n",
       "      <td>Girlfriend of Last 5 Years Passed Away</td>\n",
       "      <td>whatsbotheringyou</td>\n",
       "      <td>Hello everyone. Long time reddit user here, fi...</td>\n",
       "      <td>59</td>\n",
       "      <td>/r/whatsbotheringyou/comments/1k3sis/girlfrien...</td>\n",
       "    </tr>\n",
       "    <tr>\n",
       "      <th>6</th>\n",
       "      <td>1jww8q</td>\n",
       "      <td>oatmeal5432</td>\n",
       "      <td>Got drunk and acted very unlike myself with a ...</td>\n",
       "      <td>whatsbotheringyou</td>\n",
       "      <td>I was at my friend's house for the first time ...</td>\n",
       "      <td>60</td>\n",
       "      <td>/r/whatsbotheringyou/comments/1jww8q/got_drunk...</td>\n",
       "    </tr>\n",
       "    <tr>\n",
       "      <th>7</th>\n",
       "      <td>1x1q9h</td>\n",
       "      <td>miamcfly</td>\n",
       "      <td>That most guys on Reddit refuse to accept that...</td>\n",
       "      <td>whatsbotheringyou</td>\n",
       "      <td>Almost every time I or someone else mentions a...</td>\n",
       "      <td>62</td>\n",
       "      <td>/r/whatsbotheringyou/comments/1x1q9h/that_most...</td>\n",
       "    </tr>\n",
       "    <tr>\n",
       "      <th>8</th>\n",
       "      <td>1jwup5</td>\n",
       "      <td>granbrry</td>\n",
       "      <td>Feeling very alone and abandoned</td>\n",
       "      <td>whatsbotheringyou</td>\n",
       "      <td>I feel very depressed and alone at the moment....</td>\n",
       "      <td>60</td>\n",
       "      <td>/r/whatsbotheringyou/comments/1jwup5/feeling_v...</td>\n",
       "    </tr>\n",
       "    <tr>\n",
       "      <th>9</th>\n",
       "      <td>1m5z9d</td>\n",
       "      <td>None</td>\n",
       "      <td>I let my fiancee down. She needed me, and I di...</td>\n",
       "      <td>whatsbotheringyou</td>\n",
       "      <td>Truly gone. She didn't dump me. I didn't get h...</td>\n",
       "      <td>55</td>\n",
       "      <td>/r/whatsbotheringyou/comments/1m5z9d/i_let_my_...</td>\n",
       "    </tr>\n",
       "  </tbody>\n",
       "</table>\n",
       "</div>"
      ],
      "text/plain": [
       "       id            author  \\\n",
       "0  mo0fd8        _longmire_   \n",
       "1  1jy7px              None   \n",
       "2  eyi23g  electricamethyst   \n",
       "3  i7srl9          cmathdog   \n",
       "4  e8ifrw            Envrin   \n",
       "5  1k3sis   i_am__thewalrus   \n",
       "6  1jww8q       oatmeal5432   \n",
       "7  1x1q9h          miamcfly   \n",
       "8  1jwup5          granbrry   \n",
       "9  1m5z9d              None   \n",
       "\n",
       "                                               title          subreddit  \\\n",
       "0  Matt Gaetz's Twitter is creeping me out an pis...  whatsbotheringyou   \n",
       "1            I was raped and I don't know to fix it.  whatsbotheringyou   \n",
       "2                               Today marks 4 years.  whatsbotheringyou   \n",
       "3  Would love to quit my job and live in a seclud...  whatsbotheringyou   \n",
       "4  2 years of hard about to be meaningless due to...  whatsbotheringyou   \n",
       "5             Girlfriend of Last 5 Years Passed Away  whatsbotheringyou   \n",
       "6  Got drunk and acted very unlike myself with a ...  whatsbotheringyou   \n",
       "7  That most guys on Reddit refuse to accept that...  whatsbotheringyou   \n",
       "8                   Feeling very alone and abandoned  whatsbotheringyou   \n",
       "9  I let my fiancee down. She needed me, and I di...  whatsbotheringyou   \n",
       "\n",
       "                                            selftext  ups  \\\n",
       "0  I'm sorry to inflict this post on the members ...   92   \n",
       "1  I recently went away on a family holiday. My c...   83   \n",
       "2  Today marks 4 years since my 6 month old son p...   74   \n",
       "3  I currently work a full time 8-5 job and I hat...   66   \n",
       "4  &#x200B;\\n\\nWent blind three years ago -- noth...   71   \n",
       "5  Hello everyone. Long time reddit user here, fi...   59   \n",
       "6  I was at my friend's house for the first time ...   60   \n",
       "7  Almost every time I or someone else mentions a...   62   \n",
       "8  I feel very depressed and alone at the moment....   60   \n",
       "9  Truly gone. She didn't dump me. I didn't get h...   55   \n",
       "\n",
       "                                           permalink  \n",
       "0  /r/whatsbotheringyou/comments/mo0fd8/matt_gaet...  \n",
       "1  /r/whatsbotheringyou/comments/1jy7px/i_was_rap...  \n",
       "2  /r/whatsbotheringyou/comments/eyi23g/today_mar...  \n",
       "3  /r/whatsbotheringyou/comments/i7srl9/would_lov...  \n",
       "4  /r/whatsbotheringyou/comments/e8ifrw/2_years_o...  \n",
       "5  /r/whatsbotheringyou/comments/1k3sis/girlfrien...  \n",
       "6  /r/whatsbotheringyou/comments/1jww8q/got_drunk...  \n",
       "7  /r/whatsbotheringyou/comments/1x1q9h/that_most...  \n",
       "8  /r/whatsbotheringyou/comments/1jwup5/feeling_v...  \n",
       "9  /r/whatsbotheringyou/comments/1m5z9d/i_let_my_...  "
      ]
     },
     "execution_count": 124,
     "metadata": {},
     "output_type": "execute_result"
    }
   ],
   "source": [
    "df_"
   ]
  },
  {
   "cell_type": "code",
   "execution_count": null,
   "metadata": {},
   "outputs": [],
   "source": []
  }
 ],
 "metadata": {
  "kernelspec": {
   "display_name": "yana-env",
   "language": "python",
   "name": "python3"
  },
  "language_info": {
   "codemirror_mode": {
    "name": "ipython",
    "version": 3
   },
   "file_extension": ".py",
   "mimetype": "text/x-python",
   "name": "python",
   "nbconvert_exporter": "python",
   "pygments_lexer": "ipython3",
   "version": "3.11.3"
  },
  "orig_nbformat": 4
 },
 "nbformat": 4,
 "nbformat_minor": 2
}
