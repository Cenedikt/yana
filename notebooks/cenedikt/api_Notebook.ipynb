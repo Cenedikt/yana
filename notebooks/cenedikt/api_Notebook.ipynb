{
 "cells": [
  {
   "attachments": {},
   "cell_type": "markdown",
   "metadata": {},
   "source": [
    "# 1 Api request for post from Reddit with praw"
   ]
  },
  {
   "attachments": {},
   "cell_type": "markdown",
   "metadata": {},
   "source": [
    "## 1.1 imports"
   ]
  },
  {
   "cell_type": "code",
   "execution_count": 1,
   "metadata": {},
   "outputs": [],
   "source": [
    "import praw           \n",
    "import pandas as pd\n",
    "import pandas_gbq\n",
    "from yana.params import *"
   ]
  },
  {
   "attachments": {},
   "cell_type": "markdown",
   "metadata": {},
   "source": [
    "## 1.2 Authentification from the API"
   ]
  },
  {
   "cell_type": "code",
   "execution_count": 2,
   "metadata": {},
   "outputs": [
    {
     "name": "stdout",
     "output_type": "stream",
     "text": [
      "https://www.reddit.com/api/v1/authorize?client_id=azcpew4IUjb24q9tL3r2qA&duration=permanent&redirect_uri=http%3A%2F%2Flocalhost%3A8080&response_type=code&scope=identity&state=...\n"
     ]
    }
   ],
   "source": [
    "reddit = praw.Reddit(\n",
    "    client_id= CLIENT_ID,\n",
    "    client_secret= CLIENT_SECRET,\n",
    "    redirect_uri= REDIRECT_URI,\n",
    "    user_agent= USER_AGENT,    \n",
    ")\n",
    "print(reddit.auth.url(scopes=[\"identity\"], state=\"...\", duration=\"permanent\"))"
   ]
  },
  {
   "attachments": {},
   "cell_type": "markdown",
   "metadata": {},
   "source": [
    "## 1.3 create request\n",
    "from subbredit 'askatherapist'"
   ]
  },
  {
   "cell_type": "code",
   "execution_count": 3,
   "metadata": {},
   "outputs": [],
   "source": [
    "test_subreddit = reddit.subreddit('whatsbotheringyou')\n",
    "test_subreddit\n",
    "\n",
    "top_askatherapist = test_subreddit.top(limit=10)"
   ]
  },
  {
   "attachments": {},
   "cell_type": "markdown",
   "metadata": {},
   "source": [
    "## 1.4 Trasfrom request into DF"
   ]
  },
  {
   "cell_type": "code",
   "execution_count": 4,
   "metadata": {},
   "outputs": [],
   "source": [
    "posts = {}\n",
    "\n"
   ]
  },
  {
   "cell_type": "code",
   "execution_count": 5,
   "metadata": {},
   "outputs": [],
   "source": [
    "index = 0\n",
    "for post in top_askatherapist :\n",
    "    posts[index]= [\n",
    "        post.id,\n",
    "        post.author,\n",
    "        post.title,\n",
    "        post.subreddit.display_name,\n",
    "        post.selftext,\n",
    "        post.ups,\n",
    "        post.permalink\n",
    "    ]\n",
    "    index +=1"
   ]
  },
  {
   "cell_type": "code",
   "execution_count": 6,
   "metadata": {},
   "outputs": [],
   "source": [
    "df = pd.DataFrame.from_dict(posts,orient='index' ,columns=['id','author','title','subreddit','selftext','ups','permalink'])"
   ]
  },
  {
   "cell_type": "code",
   "execution_count": 7,
   "metadata": {},
   "outputs": [
    {
     "data": {
      "text/html": [
       "<div>\n",
       "<style scoped>\n",
       "    .dataframe tbody tr th:only-of-type {\n",
       "        vertical-align: middle;\n",
       "    }\n",
       "\n",
       "    .dataframe tbody tr th {\n",
       "        vertical-align: top;\n",
       "    }\n",
       "\n",
       "    .dataframe thead th {\n",
       "        text-align: right;\n",
       "    }\n",
       "</style>\n",
       "<table border=\"1\" class=\"dataframe\">\n",
       "  <thead>\n",
       "    <tr style=\"text-align: right;\">\n",
       "      <th></th>\n",
       "      <th>id</th>\n",
       "      <th>author</th>\n",
       "      <th>title</th>\n",
       "      <th>subreddit</th>\n",
       "      <th>selftext</th>\n",
       "      <th>ups</th>\n",
       "      <th>permalink</th>\n",
       "    </tr>\n",
       "  </thead>\n",
       "  <tbody>\n",
       "    <tr>\n",
       "      <th>0</th>\n",
       "      <td>mo0fd8</td>\n",
       "      <td>_longmire_</td>\n",
       "      <td>Matt Gaetz's Twitter is creeping me out an pis...</td>\n",
       "      <td>whatsbotheringyou</td>\n",
       "      <td>I'm sorry to inflict this post on the members ...</td>\n",
       "      <td>93</td>\n",
       "      <td>/r/whatsbotheringyou/comments/mo0fd8/matt_gaet...</td>\n",
       "    </tr>\n",
       "    <tr>\n",
       "      <th>1</th>\n",
       "      <td>1jy7px</td>\n",
       "      <td>None</td>\n",
       "      <td>I was raped and I don't know to fix it.</td>\n",
       "      <td>whatsbotheringyou</td>\n",
       "      <td>I recently went away on a family holiday. My c...</td>\n",
       "      <td>84</td>\n",
       "      <td>/r/whatsbotheringyou/comments/1jy7px/i_was_rap...</td>\n",
       "    </tr>\n",
       "    <tr>\n",
       "      <th>2</th>\n",
       "      <td>eyi23g</td>\n",
       "      <td>electricamethyst</td>\n",
       "      <td>Today marks 4 years.</td>\n",
       "      <td>whatsbotheringyou</td>\n",
       "      <td>Today marks 4 years since my 6 month old son p...</td>\n",
       "      <td>74</td>\n",
       "      <td>/r/whatsbotheringyou/comments/eyi23g/today_mar...</td>\n",
       "    </tr>\n",
       "    <tr>\n",
       "      <th>3</th>\n",
       "      <td>i7srl9</td>\n",
       "      <td>cmathdog</td>\n",
       "      <td>Would love to quit my job and live in a seclud...</td>\n",
       "      <td>whatsbotheringyou</td>\n",
       "      <td>I currently work a full time 8-5 job and I hat...</td>\n",
       "      <td>67</td>\n",
       "      <td>/r/whatsbotheringyou/comments/i7srl9/would_lov...</td>\n",
       "    </tr>\n",
       "    <tr>\n",
       "      <th>4</th>\n",
       "      <td>e8ifrw</td>\n",
       "      <td>Envrin</td>\n",
       "      <td>2 years of hard about to be meaningless due to...</td>\n",
       "      <td>whatsbotheringyou</td>\n",
       "      <td>&amp;#x200B;\\n\\nWent blind three years ago -- noth...</td>\n",
       "      <td>65</td>\n",
       "      <td>/r/whatsbotheringyou/comments/e8ifrw/2_years_o...</td>\n",
       "    </tr>\n",
       "    <tr>\n",
       "      <th>5</th>\n",
       "      <td>1k3sis</td>\n",
       "      <td>i_am__thewalrus</td>\n",
       "      <td>Girlfriend of Last 5 Years Passed Away</td>\n",
       "      <td>whatsbotheringyou</td>\n",
       "      <td>Hello everyone. Long time reddit user here, fi...</td>\n",
       "      <td>62</td>\n",
       "      <td>/r/whatsbotheringyou/comments/1k3sis/girlfrien...</td>\n",
       "    </tr>\n",
       "    <tr>\n",
       "      <th>6</th>\n",
       "      <td>1jww8q</td>\n",
       "      <td>oatmeal5432</td>\n",
       "      <td>Got drunk and acted very unlike myself with a ...</td>\n",
       "      <td>whatsbotheringyou</td>\n",
       "      <td>I was at my friend's house for the first time ...</td>\n",
       "      <td>63</td>\n",
       "      <td>/r/whatsbotheringyou/comments/1jww8q/got_drunk...</td>\n",
       "    </tr>\n",
       "    <tr>\n",
       "      <th>7</th>\n",
       "      <td>1x1q9h</td>\n",
       "      <td>miamcfly</td>\n",
       "      <td>That most guys on Reddit refuse to accept that...</td>\n",
       "      <td>whatsbotheringyou</td>\n",
       "      <td>Almost every time I or someone else mentions a...</td>\n",
       "      <td>64</td>\n",
       "      <td>/r/whatsbotheringyou/comments/1x1q9h/that_most...</td>\n",
       "    </tr>\n",
       "    <tr>\n",
       "      <th>8</th>\n",
       "      <td>1jwup5</td>\n",
       "      <td>granbrry</td>\n",
       "      <td>Feeling very alone and abandoned</td>\n",
       "      <td>whatsbotheringyou</td>\n",
       "      <td>I feel very depressed and alone at the moment....</td>\n",
       "      <td>63</td>\n",
       "      <td>/r/whatsbotheringyou/comments/1jwup5/feeling_v...</td>\n",
       "    </tr>\n",
       "    <tr>\n",
       "      <th>9</th>\n",
       "      <td>1m5z9d</td>\n",
       "      <td>None</td>\n",
       "      <td>I let my fiancee down. She needed me, and I di...</td>\n",
       "      <td>whatsbotheringyou</td>\n",
       "      <td>Truly gone. She didn't dump me. I didn't get h...</td>\n",
       "      <td>58</td>\n",
       "      <td>/r/whatsbotheringyou/comments/1m5z9d/i_let_my_...</td>\n",
       "    </tr>\n",
       "  </tbody>\n",
       "</table>\n",
       "</div>"
      ],
      "text/plain": [
       "       id            author  \\\n",
       "0  mo0fd8        _longmire_   \n",
       "1  1jy7px              None   \n",
       "2  eyi23g  electricamethyst   \n",
       "3  i7srl9          cmathdog   \n",
       "4  e8ifrw            Envrin   \n",
       "5  1k3sis   i_am__thewalrus   \n",
       "6  1jww8q       oatmeal5432   \n",
       "7  1x1q9h          miamcfly   \n",
       "8  1jwup5          granbrry   \n",
       "9  1m5z9d              None   \n",
       "\n",
       "                                               title          subreddit  \\\n",
       "0  Matt Gaetz's Twitter is creeping me out an pis...  whatsbotheringyou   \n",
       "1            I was raped and I don't know to fix it.  whatsbotheringyou   \n",
       "2                               Today marks 4 years.  whatsbotheringyou   \n",
       "3  Would love to quit my job and live in a seclud...  whatsbotheringyou   \n",
       "4  2 years of hard about to be meaningless due to...  whatsbotheringyou   \n",
       "5             Girlfriend of Last 5 Years Passed Away  whatsbotheringyou   \n",
       "6  Got drunk and acted very unlike myself with a ...  whatsbotheringyou   \n",
       "7  That most guys on Reddit refuse to accept that...  whatsbotheringyou   \n",
       "8                   Feeling very alone and abandoned  whatsbotheringyou   \n",
       "9  I let my fiancee down. She needed me, and I di...  whatsbotheringyou   \n",
       "\n",
       "                                            selftext  ups  \\\n",
       "0  I'm sorry to inflict this post on the members ...   93   \n",
       "1  I recently went away on a family holiday. My c...   84   \n",
       "2  Today marks 4 years since my 6 month old son p...   74   \n",
       "3  I currently work a full time 8-5 job and I hat...   67   \n",
       "4  &#x200B;\\n\\nWent blind three years ago -- noth...   65   \n",
       "5  Hello everyone. Long time reddit user here, fi...   62   \n",
       "6  I was at my friend's house for the first time ...   63   \n",
       "7  Almost every time I or someone else mentions a...   64   \n",
       "8  I feel very depressed and alone at the moment....   63   \n",
       "9  Truly gone. She didn't dump me. I didn't get h...   58   \n",
       "\n",
       "                                           permalink  \n",
       "0  /r/whatsbotheringyou/comments/mo0fd8/matt_gaet...  \n",
       "1  /r/whatsbotheringyou/comments/1jy7px/i_was_rap...  \n",
       "2  /r/whatsbotheringyou/comments/eyi23g/today_mar...  \n",
       "3  /r/whatsbotheringyou/comments/i7srl9/would_lov...  \n",
       "4  /r/whatsbotheringyou/comments/e8ifrw/2_years_o...  \n",
       "5  /r/whatsbotheringyou/comments/1k3sis/girlfrien...  \n",
       "6  /r/whatsbotheringyou/comments/1jww8q/got_drunk...  \n",
       "7  /r/whatsbotheringyou/comments/1x1q9h/that_most...  \n",
       "8  /r/whatsbotheringyou/comments/1jwup5/feeling_v...  \n",
       "9  /r/whatsbotheringyou/comments/1m5z9d/i_let_my_...  "
      ]
     },
     "execution_count": 7,
     "metadata": {},
     "output_type": "execute_result"
    }
   ],
   "source": [
    "df"
   ]
  },
  {
   "cell_type": "code",
   "execution_count": 8,
   "metadata": {},
   "outputs": [
    {
     "data": {
      "text/html": [
       "<div>\n",
       "<style scoped>\n",
       "    .dataframe tbody tr th:only-of-type {\n",
       "        vertical-align: middle;\n",
       "    }\n",
       "\n",
       "    .dataframe tbody tr th {\n",
       "        vertical-align: top;\n",
       "    }\n",
       "\n",
       "    .dataframe thead th {\n",
       "        text-align: right;\n",
       "    }\n",
       "</style>\n",
       "<table border=\"1\" class=\"dataframe\">\n",
       "  <thead>\n",
       "    <tr style=\"text-align: right;\">\n",
       "      <th></th>\n",
       "      <th>id</th>\n",
       "      <th>author</th>\n",
       "      <th>title</th>\n",
       "      <th>subreddit</th>\n",
       "      <th>selftext</th>\n",
       "      <th>ups</th>\n",
       "      <th>permalink</th>\n",
       "    </tr>\n",
       "  </thead>\n",
       "  <tbody>\n",
       "    <tr>\n",
       "      <th>0</th>\n",
       "      <td>mo0fd8</td>\n",
       "      <td>_longmire_</td>\n",
       "      <td>Matt Gaetz's Twitter is creeping me out an pis...</td>\n",
       "      <td>whatsbotheringyou</td>\n",
       "      <td>I'm sorry to inflict this post on the members ...</td>\n",
       "      <td>93</td>\n",
       "      <td>/r/whatsbotheringyou/comments/mo0fd8/matt_gaet...</td>\n",
       "    </tr>\n",
       "    <tr>\n",
       "      <th>1</th>\n",
       "      <td>1jy7px</td>\n",
       "      <td>None</td>\n",
       "      <td>I was raped and I don't know to fix it.</td>\n",
       "      <td>whatsbotheringyou</td>\n",
       "      <td>I recently went away on a family holiday. My c...</td>\n",
       "      <td>84</td>\n",
       "      <td>/r/whatsbotheringyou/comments/1jy7px/i_was_rap...</td>\n",
       "    </tr>\n",
       "    <tr>\n",
       "      <th>2</th>\n",
       "      <td>eyi23g</td>\n",
       "      <td>electricamethyst</td>\n",
       "      <td>Today marks 4 years.</td>\n",
       "      <td>whatsbotheringyou</td>\n",
       "      <td>Today marks 4 years since my 6 month old son p...</td>\n",
       "      <td>74</td>\n",
       "      <td>/r/whatsbotheringyou/comments/eyi23g/today_mar...</td>\n",
       "    </tr>\n",
       "    <tr>\n",
       "      <th>3</th>\n",
       "      <td>i7srl9</td>\n",
       "      <td>cmathdog</td>\n",
       "      <td>Would love to quit my job and live in a seclud...</td>\n",
       "      <td>whatsbotheringyou</td>\n",
       "      <td>I currently work a full time 8-5 job and I hat...</td>\n",
       "      <td>67</td>\n",
       "      <td>/r/whatsbotheringyou/comments/i7srl9/would_lov...</td>\n",
       "    </tr>\n",
       "    <tr>\n",
       "      <th>4</th>\n",
       "      <td>e8ifrw</td>\n",
       "      <td>Envrin</td>\n",
       "      <td>2 years of hard about to be meaningless due to...</td>\n",
       "      <td>whatsbotheringyou</td>\n",
       "      <td>&amp;#x200B;\\n\\nWent blind three years ago -- noth...</td>\n",
       "      <td>65</td>\n",
       "      <td>/r/whatsbotheringyou/comments/e8ifrw/2_years_o...</td>\n",
       "    </tr>\n",
       "  </tbody>\n",
       "</table>\n",
       "</div>"
      ],
      "text/plain": [
       "       id            author  \\\n",
       "0  mo0fd8        _longmire_   \n",
       "1  1jy7px              None   \n",
       "2  eyi23g  electricamethyst   \n",
       "3  i7srl9          cmathdog   \n",
       "4  e8ifrw            Envrin   \n",
       "\n",
       "                                               title          subreddit  \\\n",
       "0  Matt Gaetz's Twitter is creeping me out an pis...  whatsbotheringyou   \n",
       "1            I was raped and I don't know to fix it.  whatsbotheringyou   \n",
       "2                               Today marks 4 years.  whatsbotheringyou   \n",
       "3  Would love to quit my job and live in a seclud...  whatsbotheringyou   \n",
       "4  2 years of hard about to be meaningless due to...  whatsbotheringyou   \n",
       "\n",
       "                                            selftext  ups  \\\n",
       "0  I'm sorry to inflict this post on the members ...   93   \n",
       "1  I recently went away on a family holiday. My c...   84   \n",
       "2  Today marks 4 years since my 6 month old son p...   74   \n",
       "3  I currently work a full time 8-5 job and I hat...   67   \n",
       "4  &#x200B;\\n\\nWent blind three years ago -- noth...   65   \n",
       "\n",
       "                                           permalink  \n",
       "0  /r/whatsbotheringyou/comments/mo0fd8/matt_gaet...  \n",
       "1  /r/whatsbotheringyou/comments/1jy7px/i_was_rap...  \n",
       "2  /r/whatsbotheringyou/comments/eyi23g/today_mar...  \n",
       "3  /r/whatsbotheringyou/comments/i7srl9/would_lov...  \n",
       "4  /r/whatsbotheringyou/comments/e8ifrw/2_years_o...  "
      ]
     },
     "execution_count": 8,
     "metadata": {},
     "output_type": "execute_result"
    }
   ],
   "source": [
    "df.head()"
   ]
  },
  {
   "cell_type": "code",
   "execution_count": 9,
   "metadata": {},
   "outputs": [
    {
     "name": "stdout",
     "output_type": "stream",
     "text": [
      "Used requests: {1}\n"
     ]
    }
   ],
   "source": [
    "used_requests = reddit.auth.limits['used']\n",
    "print(f\"Used requests:\", {used_requests})"
   ]
  },
  {
   "attachments": {},
   "cell_type": "markdown",
   "metadata": {},
   "source": []
  },
  {
   "cell_type": "code",
   "execution_count": 10,
   "metadata": {},
   "outputs": [
    {
     "data": {
      "text/html": [
       "<div>\n",
       "<style scoped>\n",
       "    .dataframe tbody tr th:only-of-type {\n",
       "        vertical-align: middle;\n",
       "    }\n",
       "\n",
       "    .dataframe tbody tr th {\n",
       "        vertical-align: top;\n",
       "    }\n",
       "\n",
       "    .dataframe thead th {\n",
       "        text-align: right;\n",
       "    }\n",
       "</style>\n",
       "<table border=\"1\" class=\"dataframe\">\n",
       "  <thead>\n",
       "    <tr style=\"text-align: right;\">\n",
       "      <th></th>\n",
       "      <th>id</th>\n",
       "      <th>author</th>\n",
       "      <th>title</th>\n",
       "      <th>subreddit</th>\n",
       "      <th>selftext</th>\n",
       "      <th>ups</th>\n",
       "      <th>permalink</th>\n",
       "    </tr>\n",
       "  </thead>\n",
       "  <tbody>\n",
       "    <tr>\n",
       "      <th>0</th>\n",
       "      <td>mo0fd8</td>\n",
       "      <td>_longmire_</td>\n",
       "      <td>Matt Gaetz's Twitter is creeping me out an pis...</td>\n",
       "      <td>whatsbotheringyou</td>\n",
       "      <td>I'm sorry to inflict this post on the members ...</td>\n",
       "      <td>94</td>\n",
       "      <td>/r/whatsbotheringyou/comments/mo0fd8/matt_gaet...</td>\n",
       "    </tr>\n",
       "    <tr>\n",
       "      <th>1</th>\n",
       "      <td>1jy7px</td>\n",
       "      <td>None</td>\n",
       "      <td>I was raped and I don't know to fix it.</td>\n",
       "      <td>whatsbotheringyou</td>\n",
       "      <td>I recently went away on a family holiday. My c...</td>\n",
       "      <td>85</td>\n",
       "      <td>/r/whatsbotheringyou/comments/1jy7px/i_was_rap...</td>\n",
       "    </tr>\n",
       "    <tr>\n",
       "      <th>2</th>\n",
       "      <td>eyi23g</td>\n",
       "      <td>electricamethyst</td>\n",
       "      <td>Today marks 4 years.</td>\n",
       "      <td>whatsbotheringyou</td>\n",
       "      <td>Today marks 4 years since my 6 month old son p...</td>\n",
       "      <td>72</td>\n",
       "      <td>/r/whatsbotheringyou/comments/eyi23g/today_mar...</td>\n",
       "    </tr>\n",
       "    <tr>\n",
       "      <th>3</th>\n",
       "      <td>i7srl9</td>\n",
       "      <td>cmathdog</td>\n",
       "      <td>Would love to quit my job and live in a seclud...</td>\n",
       "      <td>whatsbotheringyou</td>\n",
       "      <td>I currently work a full time 8-5 job and I hat...</td>\n",
       "      <td>65</td>\n",
       "      <td>/r/whatsbotheringyou/comments/i7srl9/would_lov...</td>\n",
       "    </tr>\n",
       "    <tr>\n",
       "      <th>4</th>\n",
       "      <td>e8ifrw</td>\n",
       "      <td>Envrin</td>\n",
       "      <td>2 years of hard about to be meaningless due to...</td>\n",
       "      <td>whatsbotheringyou</td>\n",
       "      <td>&amp;#x200B;\\n\\nWent blind three years ago -- noth...</td>\n",
       "      <td>68</td>\n",
       "      <td>/r/whatsbotheringyou/comments/e8ifrw/2_years_o...</td>\n",
       "    </tr>\n",
       "  </tbody>\n",
       "</table>\n",
       "</div>"
      ],
      "text/plain": [
       "       id            author  \\\n",
       "0  mo0fd8        _longmire_   \n",
       "1  1jy7px              None   \n",
       "2  eyi23g  electricamethyst   \n",
       "3  i7srl9          cmathdog   \n",
       "4  e8ifrw            Envrin   \n",
       "\n",
       "                                               title          subreddit  \\\n",
       "0  Matt Gaetz's Twitter is creeping me out an pis...  whatsbotheringyou   \n",
       "1            I was raped and I don't know to fix it.  whatsbotheringyou   \n",
       "2                               Today marks 4 years.  whatsbotheringyou   \n",
       "3  Would love to quit my job and live in a seclud...  whatsbotheringyou   \n",
       "4  2 years of hard about to be meaningless due to...  whatsbotheringyou   \n",
       "\n",
       "                                            selftext  ups  \\\n",
       "0  I'm sorry to inflict this post on the members ...   94   \n",
       "1  I recently went away on a family holiday. My c...   85   \n",
       "2  Today marks 4 years since my 6 month old son p...   72   \n",
       "3  I currently work a full time 8-5 job and I hat...   65   \n",
       "4  &#x200B;\\n\\nWent blind three years ago -- noth...   68   \n",
       "\n",
       "                                           permalink  \n",
       "0  /r/whatsbotheringyou/comments/mo0fd8/matt_gaet...  \n",
       "1  /r/whatsbotheringyou/comments/1jy7px/i_was_rap...  \n",
       "2  /r/whatsbotheringyou/comments/eyi23g/today_mar...  \n",
       "3  /r/whatsbotheringyou/comments/i7srl9/would_lov...  \n",
       "4  /r/whatsbotheringyou/comments/e8ifrw/2_years_o...  "
      ]
     },
     "execution_count": 10,
     "metadata": {},
     "output_type": "execute_result"
    }
   ],
   "source": [
    "for subs in SUBREDDITS:\n",
    "    test_subreddit = reddit.subreddit(subs)\n",
    "    top_askatherapist = test_subreddit.top(limit=10)\n",
    "    posts = {}\n",
    "    index = 0\n",
    "    for post in top_askatherapist :\n",
    "        posts[index]= [\n",
    "            post.id,\n",
    "            post.author,\n",
    "            post.title,\n",
    "            post.subreddit.display_name,\n",
    "            post.selftext,\n",
    "            post.ups,\n",
    "            post.permalink\n",
    "        ]\n",
    "        index +=1\n",
    "        \n",
    "df_ = pd.DataFrame.from_dict(posts,orient='index' ,columns=['id','author','title','subreddit','selftext','ups','permalink'])\n",
    "df_.head() "
   ]
  },
  {
   "cell_type": "code",
   "execution_count": 11,
   "metadata": {},
   "outputs": [
    {
     "data": {
      "text/plain": [
       "Index(['id', 'author', 'title', 'subreddit', 'selftext', 'ups', 'permalink'], dtype='object')"
      ]
     },
     "execution_count": 11,
     "metadata": {},
     "output_type": "execute_result"
    }
   ],
   "source": [
    "df.columns"
   ]
  },
  {
   "cell_type": "code",
   "execution_count": 12,
   "metadata": {},
   "outputs": [
    {
     "name": "stdout",
     "output_type": "stream",
     "text": [
      "<class 'pandas.core.frame.DataFrame'>\n",
      "Index: 10 entries, 0 to 9\n",
      "Data columns (total 7 columns):\n",
      " #   Column     Non-Null Count  Dtype \n",
      "---  ------     --------------  ----- \n",
      " 0   id         10 non-null     object\n",
      " 1   author     8 non-null      object\n",
      " 2   title      10 non-null     object\n",
      " 3   subreddit  10 non-null     object\n",
      " 4   selftext   10 non-null     object\n",
      " 5   ups        10 non-null     int64 \n",
      " 6   permalink  10 non-null     object\n",
      "dtypes: int64(1), object(6)\n",
      "memory usage: 640.0+ bytes\n"
     ]
    }
   ],
   "source": [
    "df.info()"
   ]
  },
  {
   "cell_type": "code",
   "execution_count": 13,
   "metadata": {},
   "outputs": [
    {
     "name": "stdout",
     "output_type": "stream",
     "text": [
      "yana-gcp\n"
     ]
    }
   ],
   "source": [
    "print(GCP_PROJECT_ID)"
   ]
  },
  {
   "cell_type": "code",
   "execution_count": 20,
   "metadata": {},
   "outputs": [],
   "source": [
    "df.author = df.author.map(lambda x : str(x))"
   ]
  },
  {
   "cell_type": "code",
   "execution_count": 17,
   "metadata": {},
   "outputs": [
    {
     "name": "stdout",
     "output_type": "stream",
     "text": [
      "<class 'str'>\n",
      "<class 'praw.models.reddit.redditor.Redditor'>\n",
      "<class 'str'>\n",
      "<class 'str'>\n",
      "<class 'numpy.int64'>\n",
      "<class 'str'>\n"
     ]
    }
   ],
   "source": [
    "print(type(df.id[0]))\n",
    "print(type(df.author[0]))\n",
    "print(type(df.title[0]))\n",
    "print(type(df.subreddit[0]))\n",
    "print(type(df.ups[0]))\n",
    "print(type(df.permalink[0]))"
   ]
  },
  {
   "cell_type": "code",
   "execution_count": 21,
   "metadata": {},
   "outputs": [],
   "source": [
    "pandas_gbq.to_gbq(df, f'{GCP_PROJECT_ID}.{BQ_DATASET}.posts', project_id=GCP_PROJECT_ID, if_exists='replace')"
   ]
  },
  {
   "cell_type": "code",
   "execution_count": null,
   "metadata": {},
   "outputs": [],
   "source": []
  }
 ],
 "metadata": {
  "kernelspec": {
   "display_name": "yana-env",
   "language": "python",
   "name": "python3"
  },
  "language_info": {
   "codemirror_mode": {
    "name": "ipython",
    "version": 3
   },
   "file_extension": ".py",
   "mimetype": "text/x-python",
   "name": "python",
   "nbconvert_exporter": "python",
   "pygments_lexer": "ipython3",
   "version": "3.11.3"
  },
  "orig_nbformat": 4
 },
 "nbformat": 4,
 "nbformat_minor": 2
}
