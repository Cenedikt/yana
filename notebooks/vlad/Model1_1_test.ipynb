{
 "cells": [
  {
   "cell_type": "code",
   "execution_count": 2,
   "metadata": {},
   "outputs": [
    {
     "ename": "ModuleNotFoundError",
     "evalue": "No module named 'scripts'",
     "output_type": "error",
     "traceback": [
      "\u001b[0;31m---------------------------------------------------------------------------\u001b[0m",
      "\u001b[0;31mModuleNotFoundError\u001b[0m                       Traceback (most recent call last)",
      "\u001b[1;32m/Users/vladnicolescu/code/Cenedikt/yana/notebooks/vlad/Model1_1_test.ipynb Cell 1\u001b[0m in \u001b[0;36m1\n\u001b[0;32m----> <a href='vscode-notebook-cell:/Users/vladnicolescu/code/Cenedikt/yana/notebooks/vlad/Model1_1_test.ipynb#W0sZmlsZQ%3D%3D?line=0'>1</a>\u001b[0m \u001b[39mfrom\u001b[39;00m \u001b[39mscripts\u001b[39;00m\u001b[39m.\u001b[39;00m\u001b[39mmodels\u001b[39;00m \u001b[39mimport\u001b[39;00m Model1_1\n\u001b[1;32m      <a href='vscode-notebook-cell:/Users/vladnicolescu/code/Cenedikt/yana/notebooks/vlad/Model1_1_test.ipynb#W0sZmlsZQ%3D%3D?line=1'>2</a>\u001b[0m \u001b[39mfrom\u001b[39;00m \u001b[39mscripts\u001b[39;00m\u001b[39m.\u001b[39;00m\u001b[39mmodels\u001b[39;00m \u001b[39mimport\u001b[39;00m Model1_2\n\u001b[1;32m      <a href='vscode-notebook-cell:/Users/vladnicolescu/code/Cenedikt/yana/notebooks/vlad/Model1_1_test.ipynb#W0sZmlsZQ%3D%3D?line=2'>3</a>\u001b[0m \u001b[39mimport\u001b[39;00m \u001b[39mpandas\u001b[39;00m \u001b[39mas\u001b[39;00m \u001b[39mpd\u001b[39;00m\n",
      "\u001b[0;31mModuleNotFoundError\u001b[0m: No module named 'scripts'"
     ]
    }
   ],
   "source": [
    "from scripts.models import Model1_1\n",
    "from scripts.models import Model1_2\n",
    "import pandas as pd\n",
    "%load_ext autoreload\n",
    "%autoreload 2"
   ]
  },
  {
   "cell_type": "code",
   "execution_count": 47,
   "metadata": {},
   "outputs": [
    {
     "data": {
      "text/plain": [
       "0       we understand that most people who reply immed...\n",
       "1       welcome to r depression s check in post a plac...\n",
       "2       anyone else instead of sleeping more when depr...\n",
       "3       i ve kind of stuffed around a lot in my life d...\n",
       "4       sleep is my greatest and most comforting escap...\n",
       "                              ...                        \n",
       "7726                                         is that snow\n",
       "7727                   moulin rouge mad me cry once again\n",
       "7728    trying to shout but can t find people on the list\n",
       "7729    ughh can t find my red sox hat got ta wear thi...\n",
       "7730    slept wonderfully finally tried swatching for ...\n",
       "Name: clean_text, Length: 7731, dtype: string"
      ]
     },
     "execution_count": 47,
     "metadata": {},
     "output_type": "execute_result"
    }
   ],
   "source": [
    "data = pd.read_csv('../yana/data/depression_dataset_reddit_cleaned.csv')\n",
    "posts = data['clean_text'].astype('string')\n",
    "posts\n"
   ]
  },
  {
   "cell_type": "code",
   "execution_count": 48,
   "metadata": {},
   "outputs": [
    {
     "data": {
      "application/vnd.jupyter.widget-view+json": {
       "model_id": "008bb67100844de5b9625f1876667306",
       "version_major": 2,
       "version_minor": 0
      },
      "text/plain": [
       "Batches:   0%|          | 0/242 [00:00<?, ?it/s]"
      ]
     },
     "metadata": {},
     "output_type": "display_data"
    },
    {
     "name": "stdout",
     "output_type": "stream",
     "text": [
      "Your input has been embedded successfully!\n",
      "Embedding saved as yana/yana/data/embedding.pt\n"
     ]
    },
    {
     "data": {
      "text/plain": [
       "tensor([[-0.0560, -0.0088,  0.0684,  ...,  0.0045, -0.1185, -0.0517],\n",
       "        [-0.0167, -0.0067, -0.0248,  ...,  0.0668,  0.0125,  0.0055],\n",
       "        [ 0.0283,  0.0244, -0.0135,  ..., -0.0075, -0.0551, -0.0100],\n",
       "        ...,\n",
       "        [-0.0885, -0.0944, -0.0231,  ..., -0.0491, -0.0314,  0.0526],\n",
       "        [-0.1021,  0.0540,  0.0344,  ..., -0.0032, -0.0157, -0.0173],\n",
       "        [-0.0226,  0.0094,  0.0114,  ..., -0.1071, -0.1296,  0.0458]])"
      ]
     },
     "execution_count": 48,
     "metadata": {},
     "output_type": "execute_result"
    }
   ],
   "source": [
    "model = Model1_1()\n",
    "\n",
    "model.embed(posts,save=True)"
   ]
  },
  {
   "cell_type": "code",
   "execution_count": 61,
   "metadata": {},
   "outputs": [
    {
     "data": {
      "application/vnd.jupyter.widget-view+json": {
       "model_id": "b6d568e03409488d9d0e759e725c2437",
       "version_major": 2,
       "version_minor": 0
      },
      "text/plain": [
       "Batches:   0%|          | 0/1 [00:00<?, ?it/s]"
      ]
     },
     "metadata": {},
     "output_type": "display_data"
    },
    {
     "name": "stdout",
     "output_type": "stream",
     "text": [
      "Your input has been embedded successfully!\n",
      "Your query was: I feel depressed and lonely, anyone else in this situation?\n",
      "\n",
      "Here are your closest matches:\n",
      "\n",
      "1: feel lonely feel alone feel restless angry annoyed jealous just like everything s a let down have no friend no significant other family is somewhat sad and broken no job no confidence i m just here living every f cking day over and over again some people from my family can be cold not understanding i hate depending on them for stuff and hoping to get help when they don t even want to i want to be independent and i m sick of it already can t talk to some of these people about serious topic or about truth because they don t want to hear it or won t listen nothing make me feel happy and all i ever hear is all i do is drink or go out and yeah i do cause this shit is sad and it s only time that it s not and i wan na meet people and idk it s just hard i m tired of sitting there in my feeling\n",
      "\n",
      "\n",
      "2: i feel lonely today\n",
      "\n",
      "\n",
      "3: i am so tired of having depression i hate how hard it is to get up and do the most basic thing day out of the week i don t even eat dinner because i can t get out of bed i m tired of having to put in the extra effort to hide it at work and in front of my family i ve been single for a year and a half after a year and a half long relationship but my social anxiety ha gotten so bad i can t even put myself out there i m so lonely but too afraid to make an attempt i don t think i could ever actually kill myself but i think about how much easier it would be if i wasn t alive a lot more than i used to\n",
      "\n",
      "\n",
      "4: doe someone feel the same i don t want to be alone with this feeling it s misery\n",
      "\n",
      "\n",
      "5: anyone else just done i m at a point in life where nothing is going bad and i understand i m blessed to be in such position but at the same time nothing going good my friend group have dissipated i rarely hang out with people everyday is just a repeat of the last what do i do it s getting lonely\n",
      "\n",
      "\n"
     ]
    },
    {
     "data": {
      "text/plain": [
       "['feel lonely feel alone feel restless angry annoyed jealous just like everything s a let down have no friend no significant other family is somewhat sad and broken no job no confidence i m just here living every f cking day over and over again some people from my family can be cold not understanding i hate depending on them for stuff and hoping to get help when they don t even want to i want to be independent and i m sick of it already can t talk to some of these people about serious topic or about truth because they don t want to hear it or won t listen nothing make me feel happy and all i ever hear is all i do is drink or go out and yeah i do cause this shit is sad and it s only time that it s not and i wan na meet people and idk it s just hard i m tired of sitting there in my feeling',\n",
       " 'i feel lonely today',\n",
       " 'i am so tired of having depression i hate how hard it is to get up and do the most basic thing day out of the week i don t even eat dinner because i can t get out of bed i m tired of having to put in the extra effort to hide it at work and in front of my family i ve been single for a year and a half after a year and a half long relationship but my social anxiety ha gotten so bad i can t even put myself out there i m so lonely but too afraid to make an attempt i don t think i could ever actually kill myself but i think about how much easier it would be if i wasn t alive a lot more than i used to',\n",
       " 'doe someone feel the same i don t want to be alone with this feeling it s misery',\n",
       " 'anyone else just done i m at a point in life where nothing is going bad and i understand i m blessed to be in such position but at the same time nothing going good my friend group have dissipated i rarely hang out with people everyday is just a repeat of the last what do i do it s getting lonely']"
      ]
     },
     "execution_count": 61,
     "metadata": {},
     "output_type": "execute_result"
    }
   ],
   "source": [
    "query = \"I feel depressed and lonely, anyone else in this situation?\"\n",
    "model.search(query,results = 5)"
   ]
  },
  {
   "cell_type": "code",
   "execution_count": 109,
   "metadata": {},
   "outputs": [
    {
     "data": {
      "text/plain": [
       "(True, True, True)"
      ]
     },
     "execution_count": 109,
     "metadata": {},
     "output_type": "execute_result"
    }
   ],
   "source": [
    "from string import punctuation\n",
    "\n",
    "def spinWords(sentence):\n",
    "    newsentence = []\n",
    "    words = sentence.split()\n",
    "\n",
    "    # Split words into characters\n",
    "    for word in words:\n",
    "        characters = [char for char in word]\n",
    "        \n",
    "        # Check if word ends in punctuation and temporarily remove it\n",
    "        joinlater = ''\n",
    "        if characters[-1] in punctuation:\n",
    "                joinlater = characters.pop()\n",
    "        \n",
    "        # Reverse 5+letter words and add back punctuation if applicable        \n",
    "        if len(characters)>=5:\n",
    "            characters.reverse()\n",
    "            characters.append(joinlater)\n",
    "            word_reversed = ''.join(characters)\n",
    "            newsentence.append(word_reversed) # Append reversed word back to new sentence\n",
    "        \n",
    "        # All other words remain unchanged    \n",
    "        else:\n",
    "            newsentence.append(word)\n",
    "            \n",
    "    return ' '.join(newsentence)\n",
    "        \n",
    "            \n",
    "            \n",
    "\n",
    "spinWords(\"Hey fellow Le Wagon alumni\") == \"Hey wollef Le nogaW inmula\", spinWords(\"Rake it until you make it\") == \"Rake it litnu you make it\", spinWords(\"Change your life, learn to code\") == \"egnahC your life, nrael to code\""
   ]
  },
  {
   "cell_type": "code",
   "execution_count": 138,
   "metadata": {},
   "outputs": [
    {
     "data": {
      "application/vnd.jupyter.widget-view+json": {
       "model_id": "15dffad50371478c974b46fbb645d41d",
       "version_major": 2,
       "version_minor": 0
      },
      "text/plain": [
       "Batches:   0%|          | 0/1 [00:00<?, ?it/s]"
      ]
     },
     "metadata": {},
     "output_type": "display_data"
    },
    {
     "name": "stdout",
     "output_type": "stream",
     "text": [
      "Your input has been embedded successfully!\n",
      "Your query was: My girlfriend left me and I lost my point in life. Without here, I dont know what to do or where to go. What should I do?\n",
      "\n",
      "Here are your closest matches:\n",
      "\n",
      "1: cliche i know but my girlfriend left me we had been together for about and a half year our anniversary wa coming up in july when we met i wa depressed and had been planning suicide she pulled me out of that and gave me purpose and happiness now that she s gone i realize i ve been living my life for her and now that i m alone i don t know what to do with myself i have no other want than her and it feel like she s the only person or thing that can make me happy again i ve lost all interest in my hobby and i have no motivation for school which i only started so i could make money for the family i had dreamed we would have i feel like i m right back where i wa when she met me alone and depressed with no motivation and no desire to continue\n",
      "\n",
      "\n",
      "2: i have been living my sadness for a year i lost my wife and i don t want to continue here i want to see her again i want to be with her i am trying to continue my life but i miss her so much\n",
      "\n",
      "\n",
      "3: i f met my girlfriend on a game called genshin impact she is amazing really kind to me and is the first person who ha made me feel loved in a really long time the problem is that i still deal with suicidal thought worse now than any point before in my life and what hurt all the more is that i don t want to disappear from her i quite frequently find myself cry because of the thought of her losing me i ve felt incredibly lonely for most of my life that i can remember i used to feel like nobody would miss me if i died now i know there s someone who would really miss me and it hurt a lot i don t want to talk to her about this mainly because i feel like my bad mental health already affect her too much and i really don t like making her upset i wa on the verge of getting to therapy but then money trouble hit my family i feel hopeless and i wish i didn t meet her so i could just end it without feeling terrible\n",
      "\n",
      "\n",
      "4: the one reason i ve decided to stay alive ha left me she said that the way i acted wa too much and she had cut me out of her life completely she wa the only reason i d keep trying but now she s all gone there s no point to anything anymore i m so tired of trying i miss her so much i m diagnosed with depression ptsd and bipolar type ii i m on anti depressant on a dosage considered to be high for adult it doe nothing for me i can t find the energy to do anything anymore my mom said she s going to leave because i m too much for her to deal with now i doubt she will see this but if she doe i love you so much i know people say it get better and i ll find someone else she s the only person who loved me unconditionally and showed me that the world isn t a bad a it seems now she s gone i ll be leaving at 00 thanks to whoever stayed with me on my journey\n",
      "\n",
      "\n",
      "5: a girl i absolutely love left me and doesnt want me to be apart of her life at all anymore due to too many argument in the relationship she lost her trust in me but i cant seem to get all the memory of u out of my head i love her and it hasnt gotten any easier i just dont know if i can handle the pain much longer\n",
      "\n",
      "\n",
      "6: i put a resolution that if i didn t get a relationship by the time i m 0 i m going to kill myself at the end of the year i m 9 i turn 0 in mount i found someone but i really screwed everything up because i feel i don t deserve to be happy with anyone and this feeling like i should just end it all is still here on how a screwed everything up is i wasn t there when she needed me most when her mother died i talked to a few others and they think it s because i couldn t handle my mother s own mortality when this happened i retreated into myself and closed everyone out and barely spoke with anyone i don t know if i can make it much longer because i love her with everything i have and her heart is broken because of me i hurt her i can t fix it and i can t handle that\n",
      "\n",
      "\n",
      "7: i lost everything i have no friend anymore what even is the point anymore there nothing i wan na live for anymore i just wish my life felt worth living my chest hurt so bad i wish i wa enough for myself\n",
      "\n",
      "\n",
      "8: i dont want to write this because i feel like im disrespecting the people that actual suffered from suicide but i dont want to live without her she want no contact at all and she wa all that made me happy i miss her\n",
      "\n",
      "\n",
      "9: i just fucking hate my self i m turning into a fucking loser i ve recently pushed my girlfriend away by being a fucking depressed loser i fucked it all up just by not trying hard enough and i hate myself for it she wa the only person who actually loved me and now she doesn t want to see me anymore i don t know why i m surprised how could i be able to maintain a serious relationship when i can t even show up to work on time i never thought i would ever find love but i did and i fucked it all up fucked up the only good thing i had in my life work suck life suck and i m just soooo fucking over it i m not cut out for the ups and down of life i m just not cut out for life in general i m a fucking lost depressed loser that at the end of the day ha nothing to be proud of tonight i really just want to kill myself and end this hell i don t think i can take this shit anymore man\n",
      "\n",
      "\n",
      "10: i wa having fun earlier playing video game nothing on my mind but a soon a i stop i snap back to reality and think about her and what we used to be it s been like week of our breakup and day of no contact she say that there might not be another chance for u even in friendship i love her and idk what to do with the pain and guilt i have depression and anxiety on top of that and my therapist said that im feeling this way due to trauma of rejection i didnt have a good past a i wa taken away from my abusive parent at year old being with her made me feel normal like i didnt have these feeling but now that shes out of my life theyve come back but worse i dont know how to keep living the only thing keeping me alive are my current foster family and friend i feel so sad all the time\n",
      "\n",
      "\n",
      "Initiating large language model...\n",
      "{'score': 1.8726918824540917e-06, 'start': 4876, 'end': 4938, 'answer': 'cut out for life in general i m a fucking lost depressed loser'}\n"
     ]
    },
    {
     "data": {
      "text/plain": [
       "{'score': 1.8726918824540917e-06,\n",
       " 'start': 4876,\n",
       " 'end': 4938,\n",
       " 'answer': 'cut out for life in general i m a fucking lost depressed loser'}"
      ]
     },
     "execution_count": 138,
     "metadata": {},
     "output_type": "execute_result"
    }
   ],
   "source": [
    "model = Model1_2()\n",
    "\n",
    "\n",
    "query1 = 'I need help with managing my depression. I am alredy on medication but it does not work as it did in the beginning. Should I change it, or stop medicating altogether?'\n",
    "query = 'My girlfriend left me and I lost my point in life. Without here, I dont know what to do or where to go. What should I do?'\n",
    "model.advice(query)"
   ]
  }
 ],
 "metadata": {
  "kernelspec": {
   "display_name": "yana-env",
   "language": "python",
   "name": "python3"
  },
  "language_info": {
   "codemirror_mode": {
    "name": "ipython",
    "version": 3
   },
   "file_extension": ".py",
   "mimetype": "text/x-python",
   "name": "python",
   "nbconvert_exporter": "python",
   "pygments_lexer": "ipython3",
   "version": "3.11.3"
  },
  "orig_nbformat": 4
 },
 "nbformat": 4,
 "nbformat_minor": 2
}
