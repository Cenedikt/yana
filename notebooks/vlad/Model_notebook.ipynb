{
 "cells": [
  {
   "cell_type": "markdown",
   "id": "c79206d4",
   "metadata": {},
   "source": [
    "# Model Prototype"
   ]
  },
  {
   "cell_type": "markdown",
   "id": "3e48b6be",
   "metadata": {},
   "source": [
    "## Load the dummy data (Kaggle dataset)"
   ]
  },
  {
   "cell_type": "code",
   "execution_count": 1,
   "id": "198f9b6f",
   "metadata": {},
   "outputs": [],
   "source": [
    "import pandas as pd\n",
    "import numpy as np\n",
    "import time"
   ]
  },
  {
   "cell_type": "code",
   "execution_count": 2,
   "id": "115ab86a",
   "metadata": {},
   "outputs": [],
   "source": [
    "filepath = '../../raw_data/depression_dataset_reddit_cleaned.csv'\n",
    "data = pd.read_csv(filepath)"
   ]
  },
  {
   "cell_type": "code",
   "execution_count": 3,
   "id": "e6e89646",
   "metadata": {},
   "outputs": [
    {
     "data": {
      "text/html": [
       "<div>\n",
       "<style scoped>\n",
       "    .dataframe tbody tr th:only-of-type {\n",
       "        vertical-align: middle;\n",
       "    }\n",
       "\n",
       "    .dataframe tbody tr th {\n",
       "        vertical-align: top;\n",
       "    }\n",
       "\n",
       "    .dataframe thead th {\n",
       "        text-align: right;\n",
       "    }\n",
       "</style>\n",
       "<table border=\"1\" class=\"dataframe\">\n",
       "  <thead>\n",
       "    <tr style=\"text-align: right;\">\n",
       "      <th></th>\n",
       "      <th>clean_text</th>\n",
       "      <th>is_depression</th>\n",
       "    </tr>\n",
       "  </thead>\n",
       "  <tbody>\n",
       "    <tr>\n",
       "      <th>0</th>\n",
       "      <td>we understand that most people who reply immed...</td>\n",
       "      <td>1</td>\n",
       "    </tr>\n",
       "    <tr>\n",
       "      <th>1</th>\n",
       "      <td>welcome to r depression s check in post a plac...</td>\n",
       "      <td>1</td>\n",
       "    </tr>\n",
       "    <tr>\n",
       "      <th>2</th>\n",
       "      <td>anyone else instead of sleeping more when depr...</td>\n",
       "      <td>1</td>\n",
       "    </tr>\n",
       "    <tr>\n",
       "      <th>3</th>\n",
       "      <td>i ve kind of stuffed around a lot in my life d...</td>\n",
       "      <td>1</td>\n",
       "    </tr>\n",
       "    <tr>\n",
       "      <th>4</th>\n",
       "      <td>sleep is my greatest and most comforting escap...</td>\n",
       "      <td>1</td>\n",
       "    </tr>\n",
       "  </tbody>\n",
       "</table>\n",
       "</div>"
      ],
      "text/plain": [
       "                                          clean_text  is_depression\n",
       "0  we understand that most people who reply immed...              1\n",
       "1  welcome to r depression s check in post a plac...              1\n",
       "2  anyone else instead of sleeping more when depr...              1\n",
       "3  i ve kind of stuffed around a lot in my life d...              1\n",
       "4  sleep is my greatest and most comforting escap...              1"
      ]
     },
     "execution_count": 3,
     "metadata": {},
     "output_type": "execute_result"
    }
   ],
   "source": [
    "data.head()"
   ]
  },
  {
   "cell_type": "code",
   "execution_count": 4,
   "id": "586f8d47",
   "metadata": {},
   "outputs": [
    {
     "data": {
      "text/plain": [
       "0    we understand that most people who reply immed...\n",
       "1    welcome to r depression s check in post a plac...\n",
       "2    anyone else instead of sleeping more when depr...\n",
       "3    i ve kind of stuffed around a lot in my life d...\n",
       "4    sleep is my greatest and most comforting escap...\n",
       "Name: clean_text, dtype: string"
      ]
     },
     "execution_count": 4,
     "metadata": {},
     "output_type": "execute_result"
    }
   ],
   "source": [
    "posts = data['clean_text'].astype('string')\n",
    "posts.head()"
   ]
  },
  {
   "cell_type": "code",
   "execution_count": 11,
   "id": "0db1ee9a",
   "metadata": {},
   "outputs": [
    {
     "name": "stdout",
     "output_type": "stream",
     "text": [
      "i regret backing out of committing suicide pretty often i ve done it three time now overdosed once from the outside i know for a fact i look like a whiny teen i ve been told so many many time i m just tired of relapse i m tired of constantly putting everything i have into being better only to barely get anywhere and then being exhausted i m tired of being yelled at for thing i can t control and being told the same pathetic motivational quote like they ever mean anything i m tired of people praying for me saying i need to ask god for help god wasn t there for me when i wa being sexually assaulted god wasn t there for me when my mom got blackout drunk and beat my sister in front of me god wasn t there when i wa left alone for week because my dad would rather be anywhere else i don t care what people say god isn t real there is no divine protection and there is no savior there s life and death what happens in between is your problem i m tired of being labeled a mental case i m tired of seeing hallucination having flashback and i m tired of feeling manic i m tired of relying on prescription drug to be good enough for society i wish i had done in then because i have thing to live for now i have responsibility and thing that mean something to me it s like a dog having a bone dangled just far enough to where they can t get it i ve come to term that i ll never be what my parent wanted me to be and that my sister took on that role for me at a young age a nurse at dating to marry with a nice house in a nice neighborhood i m struggling to even have the will to get up and enroll myself in community college it s pathetic i work but i work at a sport bar and because of my disability my hour keep getting cut turn out nobody want to hire someone who can t be around many people or loud noise that go into a manic episode if triggered the more i think about what i am the more depressed i get without the medication i d most likely be labeled insane and put in a glorified prison again i take a lot of drug and still see and hear the shit that i do and i don t remember half of my life when i wa off of them i keep getting told that it s my fault by my mom and she is basically begging me to do something but nothing i ever do is good enough so why keep trying i don t know it s not logical to commit suicide at this point but i can t deny that i secretly hope a semi turn my car into a crushed can on my way to work ptsd severe depression crippling anxiety and psychotic disorder are not a good mix especially when you re lucid i don t know if i have a future i ve proven safe for society with reasonable accommodation but at what point doe it even matter anymore the fact that i need a crutch immediately set me apart and people notice\n"
     ]
    }
   ],
   "source": [
    "print(posts[50])"
   ]
  },
  {
   "cell_type": "markdown",
   "id": "1174ead8",
   "metadata": {},
   "source": [
    "## Sentence Transformers"
   ]
  },
  {
   "cell_type": "code",
   "execution_count": 5,
   "id": "cb36c3ca",
   "metadata": {},
   "outputs": [
    {
     "name": "stdout",
     "output_type": "stream",
     "text": [
      "Requirement already satisfied: sentence-transformers in /Users/vladnicolescu/.pyenv/versions/3.11.3/envs/yana-env/lib/python3.11/site-packages (2.2.2)\n",
      "Requirement already satisfied: transformers<5.0.0,>=4.6.0 in /Users/vladnicolescu/.pyenv/versions/3.11.3/envs/yana-env/lib/python3.11/site-packages (from sentence-transformers) (4.29.2)\n",
      "Requirement already satisfied: tqdm in /Users/vladnicolescu/.pyenv/versions/3.11.3/envs/yana-env/lib/python3.11/site-packages (from sentence-transformers) (4.64.1)\n",
      "Requirement already satisfied: torch>=1.6.0 in /Users/vladnicolescu/.pyenv/versions/3.11.3/envs/yana-env/lib/python3.11/site-packages (from sentence-transformers) (2.0.1)\n",
      "Requirement already satisfied: torchvision in /Users/vladnicolescu/.pyenv/versions/3.11.3/envs/yana-env/lib/python3.11/site-packages (from sentence-transformers) (0.15.2)\n",
      "Requirement already satisfied: numpy in /Users/vladnicolescu/.pyenv/versions/3.11.3/envs/yana-env/lib/python3.11/site-packages (from sentence-transformers) (1.23.4)\n",
      "Requirement already satisfied: scikit-learn in /Users/vladnicolescu/.pyenv/versions/3.11.3/envs/yana-env/lib/python3.11/site-packages (from sentence-transformers) (1.2.2)\n",
      "Requirement already satisfied: scipy in /Users/vladnicolescu/.pyenv/versions/3.11.3/envs/yana-env/lib/python3.11/site-packages (from sentence-transformers) (1.10.0)\n",
      "Requirement already satisfied: nltk in /Users/vladnicolescu/.pyenv/versions/3.11.3/envs/yana-env/lib/python3.11/site-packages (from sentence-transformers) (3.7)\n",
      "Requirement already satisfied: sentencepiece in /Users/vladnicolescu/.pyenv/versions/3.11.3/envs/yana-env/lib/python3.11/site-packages (from sentence-transformers) (0.1.99)\n",
      "Requirement already satisfied: huggingface-hub>=0.4.0 in /Users/vladnicolescu/.pyenv/versions/3.11.3/envs/yana-env/lib/python3.11/site-packages (from sentence-transformers) (0.15.1)\n",
      "Requirement already satisfied: filelock in /Users/vladnicolescu/.pyenv/versions/3.11.3/envs/yana-env/lib/python3.11/site-packages (from huggingface-hub>=0.4.0->sentence-transformers) (3.12.0)\n",
      "Requirement already satisfied: fsspec in /Users/vladnicolescu/.pyenv/versions/3.11.3/envs/yana-env/lib/python3.11/site-packages (from huggingface-hub>=0.4.0->sentence-transformers) (2023.5.0)\n",
      "Requirement already satisfied: requests in /Users/vladnicolescu/.pyenv/versions/3.11.3/envs/yana-env/lib/python3.11/site-packages (from huggingface-hub>=0.4.0->sentence-transformers) (2.28.1)\n",
      "Requirement already satisfied: pyyaml>=5.1 in /Users/vladnicolescu/.pyenv/versions/3.11.3/envs/yana-env/lib/python3.11/site-packages (from huggingface-hub>=0.4.0->sentence-transformers) (5.4.1)\n",
      "Requirement already satisfied: typing-extensions>=3.7.4.3 in /Users/vladnicolescu/.pyenv/versions/3.11.3/envs/yana-env/lib/python3.11/site-packages (from huggingface-hub>=0.4.0->sentence-transformers) (4.4.0)\n",
      "Requirement already satisfied: packaging>=20.9 in /Users/vladnicolescu/.pyenv/versions/3.11.3/envs/yana-env/lib/python3.11/site-packages (from huggingface-hub>=0.4.0->sentence-transformers) (23.1)\n",
      "Requirement already satisfied: sympy in /Users/vladnicolescu/.pyenv/versions/3.11.3/envs/yana-env/lib/python3.11/site-packages (from torch>=1.6.0->sentence-transformers) (1.12)\n",
      "Requirement already satisfied: networkx in /Users/vladnicolescu/.pyenv/versions/3.11.3/envs/yana-env/lib/python3.11/site-packages (from torch>=1.6.0->sentence-transformers) (2.8.7)\n",
      "Requirement already satisfied: jinja2 in /Users/vladnicolescu/.pyenv/versions/3.11.3/envs/yana-env/lib/python3.11/site-packages (from torch>=1.6.0->sentence-transformers) (3.1.2)\n",
      "Requirement already satisfied: regex!=2019.12.17 in /Users/vladnicolescu/.pyenv/versions/3.11.3/envs/yana-env/lib/python3.11/site-packages (from transformers<5.0.0,>=4.6.0->sentence-transformers) (2022.9.13)\n",
      "Requirement already satisfied: tokenizers!=0.11.3,<0.14,>=0.11.1 in /Users/vladnicolescu/.pyenv/versions/3.11.3/envs/yana-env/lib/python3.11/site-packages (from transformers<5.0.0,>=4.6.0->sentence-transformers) (0.13.3)\n",
      "Requirement already satisfied: click in /Users/vladnicolescu/.pyenv/versions/3.11.3/envs/yana-env/lib/python3.11/site-packages (from nltk->sentence-transformers) (8.1.3)\n",
      "Requirement already satisfied: joblib in /Users/vladnicolescu/.pyenv/versions/3.11.3/envs/yana-env/lib/python3.11/site-packages (from nltk->sentence-transformers) (1.1.1)\n",
      "Requirement already satisfied: threadpoolctl>=2.0.0 in /Users/vladnicolescu/.pyenv/versions/3.11.3/envs/yana-env/lib/python3.11/site-packages (from scikit-learn->sentence-transformers) (3.1.0)\n",
      "Requirement already satisfied: pillow!=8.3.*,>=5.3.0 in /Users/vladnicolescu/.pyenv/versions/3.11.3/envs/yana-env/lib/python3.11/site-packages (from torchvision->sentence-transformers) (9.1.1)\n",
      "Requirement already satisfied: MarkupSafe>=2.0 in /Users/vladnicolescu/.pyenv/versions/3.11.3/envs/yana-env/lib/python3.11/site-packages (from jinja2->torch>=1.6.0->sentence-transformers) (2.1.1)\n",
      "Requirement already satisfied: charset-normalizer<3,>=2 in /Users/vladnicolescu/.pyenv/versions/3.11.3/envs/yana-env/lib/python3.11/site-packages (from requests->huggingface-hub>=0.4.0->sentence-transformers) (2.1.1)\n",
      "Requirement already satisfied: idna<4,>=2.5 in /Users/vladnicolescu/.pyenv/versions/3.11.3/envs/yana-env/lib/python3.11/site-packages (from requests->huggingface-hub>=0.4.0->sentence-transformers) (3.4)\n",
      "Requirement already satisfied: urllib3<1.27,>=1.21.1 in /Users/vladnicolescu/.pyenv/versions/3.11.3/envs/yana-env/lib/python3.11/site-packages (from requests->huggingface-hub>=0.4.0->sentence-transformers) (1.26.12)\n",
      "Requirement already satisfied: certifi>=2017.4.17 in /Users/vladnicolescu/.pyenv/versions/3.11.3/envs/yana-env/lib/python3.11/site-packages (from requests->huggingface-hub>=0.4.0->sentence-transformers) (2022.9.24)\n",
      "Requirement already satisfied: mpmath>=0.19 in /Users/vladnicolescu/.pyenv/versions/3.11.3/envs/yana-env/lib/python3.11/site-packages (from sympy->torch>=1.6.0->sentence-transformers) (1.3.0)\n",
      "Note: you may need to restart the kernel to use updated packages.\n"
     ]
    }
   ],
   "source": [
    "pip install -U sentence-transformers"
   ]
  },
  {
   "cell_type": "markdown",
   "id": "00ce3a07",
   "metadata": {},
   "source": [
    "## Compute embeddings"
   ]
  },
  {
   "cell_type": "code",
   "execution_count": 19,
   "id": "8d2660b1",
   "metadata": {},
   "outputs": [
    {
     "name": "stdout",
     "output_type": "stream",
     "text": [
      "CPU times: user 3 µs, sys: 2 µs, total: 5 µs\n",
      "Wall time: 6.91 µs\n"
     ]
    },
    {
     "data": {
      "application/vnd.jupyter.widget-view+json": {
       "model_id": "d1384fc3f862497c8c783aff6c645216",
       "version_major": 2,
       "version_minor": 0
      },
      "text/plain": [
       "Batches:   0%|          | 0/242 [00:00<?, ?it/s]"
      ]
     },
     "metadata": {},
     "output_type": "display_data"
    },
    {
     "name": "stdout",
     "output_type": "stream",
     "text": [
      "tensor([[ 0.0638, -0.0125, -0.0307,  ..., -0.0044, -0.0522, -0.0125],\n",
      "        [ 0.0827,  0.0057, -0.0087,  ..., -0.0202, -0.0179, -0.0351],\n",
      "        [ 0.0154,  0.0238,  0.0288,  ..., -0.0317, -0.0333, -0.0507],\n",
      "        ...,\n",
      "        [ 0.0436, -0.0684,  0.0138,  ...,  0.0633, -0.0058,  0.0044],\n",
      "        [-0.0545,  0.0449,  0.0043,  ..., -0.0083, -0.0503,  0.0007],\n",
      "        [-0.0201, -0.0345, -0.0187,  ...,  0.0359, -0.0433, -0.0107]])\n"
     ]
    }
   ],
   "source": [
    "from sentence_transformers import SentenceTransformer\n",
    "\n",
    "%time\n",
    "model = SentenceTransformer('sentence-transformers/all-mpnet-base-v2')\n",
    "embeddings = model.encode(posts,show_progress_bar=True,convert_to_tensor=True)\n",
    "print(embeddings)"
   ]
  },
  {
   "cell_type": "markdown",
   "id": "afc1ebb1",
   "metadata": {},
   "source": [
    "**Save embeddings as .csv**"
   ]
  },
  {
   "cell_type": "code",
   "execution_count": 20,
   "id": "5d5f5ab7",
   "metadata": {},
   "outputs": [],
   "source": [
    "pd.DataFrame(embeddings).to_csv(\"../../raw_data/kaggle_embeddings.csv\")"
   ]
  },
  {
   "cell_type": "markdown",
   "id": "c63a4d79",
   "metadata": {},
   "source": [
    "**Semantic search V1**"
   ]
  },
  {
   "cell_type": "code",
   "execution_count": 52,
   "id": "b59e3989",
   "metadata": {},
   "outputs": [
    {
     "data": {
      "application/vnd.jupyter.widget-view+json": {
       "model_id": "ba7a027fc3fe405789487795017fbae3",
       "version_major": 2,
       "version_minor": 0
      },
      "text/plain": [
       "Batches:   0%|          | 0/1 [00:00<?, ?it/s]"
      ]
     },
     "metadata": {},
     "output_type": "display_data"
    },
    {
     "name": "stdout",
     "output_type": "stream",
     "text": [
      "Your query was: The problem is that I see no greater meaning to all of this, why bother at all? Has anyone found a way to live without natural purpose?\n",
      "\n",
      "Here are your closest matches:\n",
      "\n",
      "1: i feel like all of this is part of a bigger plan not that i believe in god or anything i believe that what we are experiencing right this moment is reliving our past we are living a fulfilling life there somewhere in the future i m not sure what the endgame is but being curious about it it s the only thing preventing me from burying myself six foot under i d like to find out if my older self is alive and well i feel him watching me from the distance\n",
      "\n",
      "\n",
      "2: it s so pointless for me to still be alive my life is worthless why am i still here\n",
      "\n",
      "\n",
      "3: i don t see the meaning of life in general or the purpose of my own life i ve been clinically depressed and in and out of therapy for seven year now which is of my life which make me feel sad i ve reached this point where i don t even have the desire to take an active role in anything that happens to me or in my choice i feel very passive like i m just sort of letting my life lead me instead of leading it i feel dormant like i m just existing and i d barely even call myself alive everyone around me ha relationship thing to look forward to goal to meet etc yet i m only year old and i cant find even one attainable thing that i have the desire to accomplish i know i m not supposed to compare because everyone is different and blah blah blah but i m jealous of others who are driven and motivated i m unhappy and unfulfilled but simultaneously i m burnt out from constantly trying to work on myself get better and look for thing that will help change my mentality i really don t know what i should do next that is if i can bring myself to do anything at all\n",
      "\n",
      "\n",
      "4: life is just working hard at school so you can work hard at college so you can work hard at an unpaid internship so you can work hard at an unfulfilling job so you can have a nice funeral when you finally kick the bucket whats the point the only thing keeping me from offing myself is the fact that my girlfriend would be devastated and the off chance that it could fail and leave me permanently injured why do we a a specie continue to exist in this hellscape despite it inherent pointlessness\n",
      "\n",
      "\n",
      "5: everyone ha a particular reason for existence everyone ha a motivation an incentive to move forward in their life life is undoubtedly an amazing gift bestowed by the creator and death is perhaps the biggest nightmare but to some it s the opposite sometimes everything seems meaningless someone like me who is afraid to take even the smallest step that involves pain actually doesn t deserve to live let alone succeed besides what are the odds that i will succeed the feasibility of succeeding seems to be lessening a every single moment is fading away they won t return back i am not writing these word emotionally i am completely within my sense thing lately have been very tough and i know how doe a precarious life can eventually lead to depression and suicidal thought\n",
      "\n",
      "\n"
     ]
    }
   ],
   "source": [
    "from sentence_transformers.util import semantic_search\n",
    "\n",
    "# MODEL V1.1\n",
    "\n",
    "\n",
    "# Test query\n",
    "query = \"The problem is that I see no greater meaning to all of this, why bother at all? Has anyone found a way to live without natural purpose?\"\n",
    "\n",
    "# Perform search\n",
    "query_embedding_t = (model.encode(query,show_progress_bar=True,convert_to_tensor=True))\n",
    "pred = semantic_search(query_embeddings=query_embedding_t, corpus_embeddings=corpus_embeddings_t,top_k=5)\n",
    "\n",
    "\n",
    "# Retrieve closest sentences\n",
    "print(f'Your query was: {query}')\n",
    "print('\\nHere are your closest matches:\\n')\n",
    "\n",
    "for i,k in enumerate(pred[0]):\n",
    "    #print(k)\n",
    "    print(f\"{i+1}: {posts[k['corpus_id']]}\")\n",
    "    print('\\n')\n"
   ]
  },
  {
   "cell_type": "code",
   "execution_count": null,
   "id": "ab8eadfb",
   "metadata": {},
   "outputs": [],
   "source": []
  },
  {
   "cell_type": "code",
   "execution_count": null,
   "id": "05ee7f51",
   "metadata": {},
   "outputs": [],
   "source": []
  }
 ],
 "metadata": {
  "kernelspec": {
   "display_name": "Python 3 (ipykernel)",
   "language": "python",
   "name": "python3"
  },
  "language_info": {
   "codemirror_mode": {
    "name": "ipython",
    "version": 3
   },
   "file_extension": ".py",
   "mimetype": "text/x-python",
   "name": "python",
   "nbconvert_exporter": "python",
   "pygments_lexer": "ipython3",
   "version": "3.11.3"
  },
  "toc": {
   "base_numbering": 1,
   "nav_menu": {},
   "number_sections": true,
   "sideBar": true,
   "skip_h1_title": false,
   "title_cell": "Table of Contents",
   "title_sidebar": "Contents",
   "toc_cell": false,
   "toc_position": {},
   "toc_section_display": true,
   "toc_window_display": false
  }
 },
 "nbformat": 4,
 "nbformat_minor": 5
}
