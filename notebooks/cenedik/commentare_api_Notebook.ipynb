{
 "cells": [
  {
   "attachments": {},
   "cell_type": "markdown",
   "metadata": {},
   "source": [
    "# 1 Api request for comments from Reddit with praw"
   ]
  },
  {
   "attachments": {},
   "cell_type": "markdown",
   "metadata": {},
   "source": [
    "## 1.1 imports"
   ]
  },
  {
   "cell_type": "code",
   "execution_count": 16,
   "metadata": {},
   "outputs": [],
   "source": [
    "import praw\n",
    "import pandas as pd"
   ]
  },
  {
   "attachments": {},
   "cell_type": "markdown",
   "metadata": {},
   "source": [
    "## 1.2 Authentification from the API"
   ]
  },
  {
   "cell_type": "code",
   "execution_count": 22,
   "metadata": {},
   "outputs": [],
   "source": [
    "reddit = praw.Reddit(\n",
    "    client_id=\"azcpew4IUjb24q9tL3r2qA\",\n",
    "    client_secret=\"_R-6HiTRzCgDeyGJ7luEhv0zBh2Tqg\",\n",
    "    user_agent=\"YANA_script (by u/prutonn)\",\n",
    ")"
   ]
  },
  {
   "attachments": {},
   "cell_type": "markdown",
   "metadata": {},
   "source": [
    "## 1.3 Request for comments"
   ]
  },
  {
   "cell_type": "code",
   "execution_count": 23,
   "metadata": {},
   "outputs": [
    {
     "data": {
      "text/plain": [
       "[]"
      ]
     },
     "execution_count": 23,
     "metadata": {},
     "output_type": "execute_result"
    }
   ],
   "source": [
    "post = reddit.submission(id='p19i4a')\n",
    "post.comments.replace_more(limit=None)"
   ]
  },
  {
   "attachments": {},
   "cell_type": "markdown",
   "metadata": {},
   "source": [
    "## 1.4 Tranform request into df"
   ]
  },
  {
   "cell_type": "code",
   "execution_count": 24,
   "metadata": {},
   "outputs": [],
   "source": [
    "comments = {}"
   ]
  },
  {
   "cell_type": "code",
   "execution_count": 31,
   "metadata": {},
   "outputs": [],
   "source": [
    "index = 0\n",
    "for comment in post.comments.list():\n",
    "    comments[index] = [\n",
    "        comment.id,\n",
    "        comment.author,\n",
    "        comment.body,\n",
    "        comment.ups,\n",
    "        comment.link_id\n",
    "        ]\n",
    "    index +=1"
   ]
  },
  {
   "cell_type": "code",
   "execution_count": 32,
   "metadata": {},
   "outputs": [],
   "source": [
    "df = pd.DataFrame.from_dict(comments,orient='index' ,columns=['id','author','body','ups','post_id'])"
   ]
  },
  {
   "cell_type": "code",
   "execution_count": 33,
   "metadata": {},
   "outputs": [
    {
     "data": {
      "text/html": [
       "<div>\n",
       "<style scoped>\n",
       "    .dataframe tbody tr th:only-of-type {\n",
       "        vertical-align: middle;\n",
       "    }\n",
       "\n",
       "    .dataframe tbody tr th {\n",
       "        vertical-align: top;\n",
       "    }\n",
       "\n",
       "    .dataframe thead th {\n",
       "        text-align: right;\n",
       "    }\n",
       "</style>\n",
       "<table border=\"1\" class=\"dataframe\">\n",
       "  <thead>\n",
       "    <tr style=\"text-align: right;\">\n",
       "      <th></th>\n",
       "      <th>id</th>\n",
       "      <th>author</th>\n",
       "      <th>body</th>\n",
       "      <th>ups</th>\n",
       "      <th>post_id</th>\n",
       "    </tr>\n",
       "  </thead>\n",
       "  <tbody>\n",
       "    <tr>\n",
       "      <th>0</th>\n",
       "      <td>h8c259t</td>\n",
       "      <td>_Not-A-Monkey-Slut_</td>\n",
       "      <td>Yes. I have some older clients who have a seri...</td>\n",
       "      <td>51</td>\n",
       "      <td>t3_p19i4a</td>\n",
       "    </tr>\n",
       "    <tr>\n",
       "      <th>1</th>\n",
       "      <td>h8cexku</td>\n",
       "      <td>alfredo094</td>\n",
       "      <td>Younger people are much more open to psychothe...</td>\n",
       "      <td>19</td>\n",
       "      <td>t3_p19i4a</td>\n",
       "    </tr>\n",
       "    <tr>\n",
       "      <th>2</th>\n",
       "      <td>h8cysws</td>\n",
       "      <td>Mr__Psy</td>\n",
       "      <td>I definitely see a difference in younger popul...</td>\n",
       "      <td>18</td>\n",
       "      <td>t3_p19i4a</td>\n",
       "    </tr>\n",
       "    <tr>\n",
       "      <th>3</th>\n",
       "      <td>h8crnw2</td>\n",
       "      <td>whineybubbles</td>\n",
       "      <td>I hope this indicates that our efforts to dest...</td>\n",
       "      <td>15</td>\n",
       "      <td>t3_p19i4a</td>\n",
       "    </tr>\n",
       "    <tr>\n",
       "      <th>4</th>\n",
       "      <td>h8cv0zt</td>\n",
       "      <td>Dan-68</td>\n",
       "      <td>Hhmmm. Where is my generation?</td>\n",
       "      <td>10</td>\n",
       "      <td>t3_p19i4a</td>\n",
       "    </tr>\n",
       "  </tbody>\n",
       "</table>\n",
       "</div>"
      ],
      "text/plain": [
       "        id               author  \\\n",
       "0  h8c259t  _Not-A-Monkey-Slut_   \n",
       "1  h8cexku           alfredo094   \n",
       "2  h8cysws              Mr__Psy   \n",
       "3  h8crnw2        whineybubbles   \n",
       "4  h8cv0zt               Dan-68   \n",
       "\n",
       "                                                body  ups    post_id  \n",
       "0  Yes. I have some older clients who have a seri...   51  t3_p19i4a  \n",
       "1  Younger people are much more open to psychothe...   19  t3_p19i4a  \n",
       "2  I definitely see a difference in younger popul...   18  t3_p19i4a  \n",
       "3  I hope this indicates that our efforts to dest...   15  t3_p19i4a  \n",
       "4                     Hhmmm. Where is my generation?   10  t3_p19i4a  "
      ]
     },
     "execution_count": 33,
     "metadata": {},
     "output_type": "execute_result"
    }
   ],
   "source": [
    "df.head()"
   ]
  },
  {
   "cell_type": "code",
   "execution_count": null,
   "metadata": {},
   "outputs": [],
   "source": []
  }
 ],
 "metadata": {
  "kernelspec": {
   "display_name": "yana-env",
   "language": "python",
   "name": "python3"
  },
  "language_info": {
   "codemirror_mode": {
    "name": "ipython",
    "version": 3
   },
   "file_extension": ".py",
   "mimetype": "text/x-python",
   "name": "python",
   "nbconvert_exporter": "python",
   "pygments_lexer": "ipython3",
   "version": "3.11.3"
  },
  "orig_nbformat": 4
 },
 "nbformat": 4,
 "nbformat_minor": 2
}
