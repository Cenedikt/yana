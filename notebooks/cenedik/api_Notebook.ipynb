{
 "cells": [
  {
   "cell_type": "code",
   "execution_count": 3,
   "metadata": {},
   "outputs": [],
   "source": [
    "import praw \n",
    "import datetime as dt            \n",
    "import pandas as pd"
   ]
  },
  {
   "cell_type": "code",
   "execution_count": 6,
   "metadata": {},
   "outputs": [
    {
     "name": "stdout",
     "output_type": "stream",
     "text": [
      "https://www.reddit.com/api/v1/authorize?client_id=azcpew4IUjb24q9tL3r2qA&duration=permanent&redirect_uri=http%3A%2F%2Flocalhost%3A8080&response_type=code&scope=identity&state=...\n"
     ]
    }
   ],
   "source": [
    "import praw\n",
    "reddit = praw.Reddit(\n",
    "    client_id=\"azcpew4IUjb24q9tL3r2qA\",\n",
    "    client_secret=\"_R-6HiTRzCgDeyGJ7luEhv0zBh2Tqg\",\n",
    "    redirect_uri=\"http://localhost:8080\",\n",
    "    user_agent=\"YANA_script (by u/prutonn)\",\n",
    ")\n",
    "print(reddit.auth.url(scopes=[\"identity\"], state=\"...\", duration=\"permanent\"))"
   ]
  },
  {
   "cell_type": "code",
   "execution_count": 7,
   "metadata": {},
   "outputs": [],
   "source": [
    "test_subreddit = reddit.subreddit(\"askatherapist\")\n",
    "test_subreddit\n",
    "\n",
    "top_askatherapist = test_subreddit.top(limit=10)"
   ]
  },
  {
   "cell_type": "code",
   "execution_count": 1,
   "metadata": {},
   "outputs": [],
   "source": [
    "test = {}\n",
    "#id\n",
    "#author\n",
    "#subredit\n",
    "#title\n",
    "#text\n",
    "#premalinks\n",
    "#upvotes\n"
   ]
  },
  {
   "cell_type": "code",
   "execution_count": 9,
   "metadata": {},
   "outputs": [],
   "source": [
    "for submission in top_askatherapist :\n",
    "    test[submission.id]= {\n",
    "        'author' : submission.author,\n",
    "        'text' : submission,\n",
    "        'subreddit' : test_subreddit,\n",
    "    }"
   ]
  },
  {
   "cell_type": "code",
   "execution_count": null,
   "metadata": {},
   "outputs": [],
   "source": []
  }
 ],
 "metadata": {
  "kernelspec": {
   "display_name": "yana-env",
   "language": "python",
   "name": "python3"
  },
  "language_info": {
   "codemirror_mode": {
    "name": "ipython",
    "version": 3
   },
   "file_extension": ".py",
   "mimetype": "text/x-python",
   "name": "python",
   "nbconvert_exporter": "python",
   "pygments_lexer": "ipython3",
   "version": "3.11.3"
  },
  "orig_nbformat": 4
 },
 "nbformat": 4,
 "nbformat_minor": 2
}
