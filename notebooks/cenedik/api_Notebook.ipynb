{
 "cells": [
  {
   "attachments": {},
   "cell_type": "markdown",
   "metadata": {},
   "source": [
    "# 1 Api request for post from Reddit with praw"
   ]
  },
  {
   "attachments": {},
   "cell_type": "markdown",
   "metadata": {},
   "source": [
    "## 1.1 imports"
   ]
  },
  {
   "cell_type": "code",
   "execution_count": 2,
   "metadata": {},
   "outputs": [],
   "source": [
    "import praw           \n",
    "import pandas as pd"
   ]
  },
  {
   "attachments": {},
   "cell_type": "markdown",
   "metadata": {},
   "source": [
    "## 1.2 Authentification from the API"
   ]
  },
  {
   "cell_type": "code",
   "execution_count": 3,
   "metadata": {},
   "outputs": [
    {
     "name": "stdout",
     "output_type": "stream",
     "text": [
      "https://www.reddit.com/api/v1/authorize?client_id=azcpew4IUjb24q9tL3r2qA&duration=permanent&redirect_uri=http%3A%2F%2Flocalhost%3A8080&response_type=code&scope=identity&state=...\n"
     ]
    }
   ],
   "source": [
    "reddit = praw.Reddit(\n",
    "    client_id=\"azcpew4IUjb24q9tL3r2qA\",\n",
    "    client_secret=\"_R-6HiTRzCgDeyGJ7luEhv0zBh2Tqg\",\n",
    "    redirect_uri=\"http://localhost:8080\",\n",
    "    user_agent=\"YANA_script (by u/prutonn)\",\n",
    ")\n",
    "print(reddit.auth.url(scopes=[\"identity\"], state=\"...\", duration=\"permanent\"))"
   ]
  },
  {
   "attachments": {},
   "cell_type": "markdown",
   "metadata": {},
   "source": [
    "## 1.3 create request\n",
    "from subbredit 'askatherapist'"
   ]
  },
  {
   "cell_type": "code",
   "execution_count": 4,
   "metadata": {},
   "outputs": [],
   "source": [
    "test_subreddit = reddit.subreddit(\"askatherapist\")\n",
    "test_subreddit\n",
    "\n",
    "top_askatherapist = test_subreddit.top(limit=10)"
   ]
  },
  {
   "attachments": {},
   "cell_type": "markdown",
   "metadata": {},
   "source": [
    "## 1.4 Trasfrom request into DF"
   ]
  },
  {
   "cell_type": "code",
   "execution_count": 5,
   "metadata": {},
   "outputs": [],
   "source": [
    "posts = {}\n",
    "\n"
   ]
  },
  {
   "cell_type": "code",
   "execution_count": 6,
   "metadata": {},
   "outputs": [],
   "source": [
    "index = 0\n",
    "for post in top_askatherapist :\n",
    "    posts[index]= [\n",
    "        post.id,\n",
    "        post.author,\n",
    "        post.title,\n",
    "        post.subreddit.display_name,\n",
    "        post.selftext,\n",
    "        post.ups,\n",
    "        post.permalink\n",
    "    ]\n",
    "    index +=1"
   ]
  },
  {
   "cell_type": "code",
   "execution_count": 7,
   "metadata": {},
   "outputs": [],
   "source": [
    "df = pd.DataFrame.from_dict(posts,orient='index' ,columns=['id','author','title','subreddit','selftext','ups','permalink'])"
   ]
  },
  {
   "cell_type": "code",
   "execution_count": 8,
   "metadata": {},
   "outputs": [
    {
     "data": {
      "text/html": [
       "<div>\n",
       "<style scoped>\n",
       "    .dataframe tbody tr th:only-of-type {\n",
       "        vertical-align: middle;\n",
       "    }\n",
       "\n",
       "    .dataframe tbody tr th {\n",
       "        vertical-align: top;\n",
       "    }\n",
       "\n",
       "    .dataframe thead th {\n",
       "        text-align: right;\n",
       "    }\n",
       "</style>\n",
       "<table border=\"1\" class=\"dataframe\">\n",
       "  <thead>\n",
       "    <tr style=\"text-align: right;\">\n",
       "      <th></th>\n",
       "      <th>id</th>\n",
       "      <th>author</th>\n",
       "      <th>title</th>\n",
       "      <th>subreddit</th>\n",
       "      <th>selftext</th>\n",
       "      <th>ups</th>\n",
       "      <th>permalink</th>\n",
       "    </tr>\n",
       "  </thead>\n",
       "  <tbody>\n",
       "    <tr>\n",
       "      <th>0</th>\n",
       "      <td>p19i4a</td>\n",
       "      <td>TheGiraffeEater</td>\n",
       "      <td>Is there a significant difference between clie...</td>\n",
       "      <td>askatherapist</td>\n",
       "      <td></td>\n",
       "      <td>281</td>\n",
       "      <td>/r/askatherapist/comments/p19i4a/is_there_a_si...</td>\n",
       "    </tr>\n",
       "    <tr>\n",
       "      <th>1</th>\n",
       "      <td>ngwwdt</td>\n",
       "      <td>TheGiraffeEater</td>\n",
       "      <td>Do you ever get clients that cause you a signi...</td>\n",
       "      <td>askatherapist</td>\n",
       "      <td></td>\n",
       "      <td>276</td>\n",
       "      <td>/r/askatherapist/comments/ngwwdt/do_you_ever_g...</td>\n",
       "    </tr>\n",
       "    <tr>\n",
       "      <th>2</th>\n",
       "      <td>nda3az</td>\n",
       "      <td>TheGiraffeEater</td>\n",
       "      <td>Is it a common misconception that you're a \"mi...</td>\n",
       "      <td>askatherapist</td>\n",
       "      <td></td>\n",
       "      <td>256</td>\n",
       "      <td>/r/askatherapist/comments/nda3az/is_it_a_commo...</td>\n",
       "    </tr>\n",
       "    <tr>\n",
       "      <th>3</th>\n",
       "      <td>428etr</td>\n",
       "      <td>Quindi</td>\n",
       "      <td>THIS SUB DOES NOT REPLACE SEEING A THERAPIST</td>\n",
       "      <td>askatherapist</td>\n",
       "      <td>Just to restate:\\n\\nTaking advice from anyone ...</td>\n",
       "      <td>233</td>\n",
       "      <td>/r/askatherapist/comments/428etr/this_sub_does...</td>\n",
       "    </tr>\n",
       "    <tr>\n",
       "      <th>4</th>\n",
       "      <td>mz5nwb</td>\n",
       "      <td>TheGiraffeEater</td>\n",
       "      <td>is this legit a therapist's internal monologue...</td>\n",
       "      <td>askatherapist</td>\n",
       "      <td></td>\n",
       "      <td>206</td>\n",
       "      <td>/r/askatherapist/comments/mz5nwb/is_this_legit...</td>\n",
       "    </tr>\n",
       "    <tr>\n",
       "      <th>5</th>\n",
       "      <td>cc5clo</td>\n",
       "      <td>kellig214</td>\n",
       "      <td>Therapy has truly changed my life. I love my t...</td>\n",
       "      <td>askatherapist</td>\n",
       "      <td></td>\n",
       "      <td>200</td>\n",
       "      <td>/r/askatherapist/comments/cc5clo/therapy_has_t...</td>\n",
       "    </tr>\n",
       "    <tr>\n",
       "      <th>6</th>\n",
       "      <td>nvlnyd</td>\n",
       "      <td>TheGiraffeEater</td>\n",
       "      <td>What qualities make you a \"good therapist?\"</td>\n",
       "      <td>askatherapist</td>\n",
       "      <td></td>\n",
       "      <td>187</td>\n",
       "      <td>/r/askatherapist/comments/nvlnyd/what_qualitie...</td>\n",
       "    </tr>\n",
       "    <tr>\n",
       "      <th>7</th>\n",
       "      <td>nbz15x</td>\n",
       "      <td>Electrical-Bake-1806</td>\n",
       "      <td>Who else thinks therapy should be a tax funded...</td>\n",
       "      <td>askatherapist</td>\n",
       "      <td>I don’t know that much about politics but the ...</td>\n",
       "      <td>188</td>\n",
       "      <td>/r/askatherapist/comments/nbz15x/who_else_thin...</td>\n",
       "    </tr>\n",
       "    <tr>\n",
       "      <th>8</th>\n",
       "      <td>na88p1</td>\n",
       "      <td>kellyrainbs</td>\n",
       "      <td>On a scale of 1-10 how bad is this lmao</td>\n",
       "      <td>askatherapist</td>\n",
       "      <td></td>\n",
       "      <td>182</td>\n",
       "      <td>/r/askatherapist/comments/na88p1/on_a_scale_of...</td>\n",
       "    </tr>\n",
       "    <tr>\n",
       "      <th>9</th>\n",
       "      <td>o2z02o</td>\n",
       "      <td>TheGiraffeEater</td>\n",
       "      <td>What is your opinion about psychedelic therapy...</td>\n",
       "      <td>askatherapist</td>\n",
       "      <td></td>\n",
       "      <td>162</td>\n",
       "      <td>/r/askatherapist/comments/o2z02o/what_is_your_...</td>\n",
       "    </tr>\n",
       "  </tbody>\n",
       "</table>\n",
       "</div>"
      ],
      "text/plain": [
       "       id                author  \\\n",
       "0  p19i4a       TheGiraffeEater   \n",
       "1  ngwwdt       TheGiraffeEater   \n",
       "2  nda3az       TheGiraffeEater   \n",
       "3  428etr                Quindi   \n",
       "4  mz5nwb       TheGiraffeEater   \n",
       "5  cc5clo             kellig214   \n",
       "6  nvlnyd       TheGiraffeEater   \n",
       "7  nbz15x  Electrical-Bake-1806   \n",
       "8  na88p1           kellyrainbs   \n",
       "9  o2z02o       TheGiraffeEater   \n",
       "\n",
       "                                               title      subreddit  \\\n",
       "0  Is there a significant difference between clie...  askatherapist   \n",
       "1  Do you ever get clients that cause you a signi...  askatherapist   \n",
       "2  Is it a common misconception that you're a \"mi...  askatherapist   \n",
       "3       THIS SUB DOES NOT REPLACE SEEING A THERAPIST  askatherapist   \n",
       "4  is this legit a therapist's internal monologue...  askatherapist   \n",
       "5  Therapy has truly changed my life. I love my t...  askatherapist   \n",
       "6        What qualities make you a \"good therapist?\"  askatherapist   \n",
       "7  Who else thinks therapy should be a tax funded...  askatherapist   \n",
       "8            On a scale of 1-10 how bad is this lmao  askatherapist   \n",
       "9  What is your opinion about psychedelic therapy...  askatherapist   \n",
       "\n",
       "                                            selftext  ups  \\\n",
       "0                                                     281   \n",
       "1                                                     276   \n",
       "2                                                     256   \n",
       "3  Just to restate:\\n\\nTaking advice from anyone ...  233   \n",
       "4                                                     206   \n",
       "5                                                     200   \n",
       "6                                                     187   \n",
       "7  I don’t know that much about politics but the ...  188   \n",
       "8                                                     182   \n",
       "9                                                     162   \n",
       "\n",
       "                                           permalink  \n",
       "0  /r/askatherapist/comments/p19i4a/is_there_a_si...  \n",
       "1  /r/askatherapist/comments/ngwwdt/do_you_ever_g...  \n",
       "2  /r/askatherapist/comments/nda3az/is_it_a_commo...  \n",
       "3  /r/askatherapist/comments/428etr/this_sub_does...  \n",
       "4  /r/askatherapist/comments/mz5nwb/is_this_legit...  \n",
       "5  /r/askatherapist/comments/cc5clo/therapy_has_t...  \n",
       "6  /r/askatherapist/comments/nvlnyd/what_qualitie...  \n",
       "7  /r/askatherapist/comments/nbz15x/who_else_thin...  \n",
       "8  /r/askatherapist/comments/na88p1/on_a_scale_of...  \n",
       "9  /r/askatherapist/comments/o2z02o/what_is_your_...  "
      ]
     },
     "execution_count": 8,
     "metadata": {},
     "output_type": "execute_result"
    }
   ],
   "source": [
    "df"
   ]
  },
  {
   "cell_type": "code",
   "execution_count": null,
   "metadata": {},
   "outputs": [],
   "source": []
  }
 ],
 "metadata": {
  "kernelspec": {
   "display_name": "yana-env",
   "language": "python",
   "name": "python3"
  },
  "language_info": {
   "codemirror_mode": {
    "name": "ipython",
    "version": 3
   },
   "file_extension": ".py",
   "mimetype": "text/x-python",
   "name": "python",
   "nbconvert_exporter": "python",
   "pygments_lexer": "ipython3",
   "version": "3.11.3"
  },
  "orig_nbformat": 4
 },
 "nbformat": 4,
 "nbformat_minor": 2
}
