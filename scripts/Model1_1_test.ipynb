{
 "cells": [
  {
   "cell_type": "code",
   "execution_count": 46,
   "metadata": {},
   "outputs": [
    {
     "name": "stdout",
     "output_type": "stream",
     "text": [
      "The autoreload extension is already loaded. To reload it, use:\n",
      "  %reload_ext autoreload\n"
     ]
    }
   ],
   "source": [
    "from models import Model1_1\n",
    "import pandas as pd\n",
    "%load_ext autoreload\n",
    "%autoreload 2"
   ]
  },
  {
   "cell_type": "code",
   "execution_count": 47,
   "metadata": {},
   "outputs": [
    {
     "data": {
      "text/plain": [
       "0       we understand that most people who reply immed...\n",
       "1       welcome to r depression s check in post a plac...\n",
       "2       anyone else instead of sleeping more when depr...\n",
       "3       i ve kind of stuffed around a lot in my life d...\n",
       "4       sleep is my greatest and most comforting escap...\n",
       "                              ...                        \n",
       "7726                                         is that snow\n",
       "7727                   moulin rouge mad me cry once again\n",
       "7728    trying to shout but can t find people on the list\n",
       "7729    ughh can t find my red sox hat got ta wear thi...\n",
       "7730    slept wonderfully finally tried swatching for ...\n",
       "Name: clean_text, Length: 7731, dtype: string"
      ]
     },
     "execution_count": 47,
     "metadata": {},
     "output_type": "execute_result"
    }
   ],
   "source": [
    "data = pd.read_csv('../yana/data/depression_dataset_reddit_cleaned.csv')\n",
    "posts = data['clean_text'].astype('string')\n",
    "posts\n"
   ]
  },
  {
   "cell_type": "code",
   "execution_count": 48,
   "metadata": {},
   "outputs": [
    {
     "data": {
      "application/vnd.jupyter.widget-view+json": {
       "model_id": "008bb67100844de5b9625f1876667306",
       "version_major": 2,
       "version_minor": 0
      },
      "text/plain": [
       "Batches:   0%|          | 0/242 [00:00<?, ?it/s]"
      ]
     },
     "metadata": {},
     "output_type": "display_data"
    },
    {
     "name": "stdout",
     "output_type": "stream",
     "text": [
      "Your input has been embedded successfully!\n",
      "Embedding saved as yana/yana/data/embedding.pt\n"
     ]
    },
    {
     "data": {
      "text/plain": [
       "tensor([[-0.0560, -0.0088,  0.0684,  ...,  0.0045, -0.1185, -0.0517],\n",
       "        [-0.0167, -0.0067, -0.0248,  ...,  0.0668,  0.0125,  0.0055],\n",
       "        [ 0.0283,  0.0244, -0.0135,  ..., -0.0075, -0.0551, -0.0100],\n",
       "        ...,\n",
       "        [-0.0885, -0.0944, -0.0231,  ..., -0.0491, -0.0314,  0.0526],\n",
       "        [-0.1021,  0.0540,  0.0344,  ..., -0.0032, -0.0157, -0.0173],\n",
       "        [-0.0226,  0.0094,  0.0114,  ..., -0.1071, -0.1296,  0.0458]])"
      ]
     },
     "execution_count": 48,
     "metadata": {},
     "output_type": "execute_result"
    }
   ],
   "source": [
    "model = Model1_1()\n",
    "query = \"My dog died and I'm looking for people that can help me with that\"\n",
    "model.embed(posts,save=True)"
   ]
  },
  {
   "cell_type": "code",
   "execution_count": 49,
   "metadata": {},
   "outputs": [
    {
     "data": {
      "application/vnd.jupyter.widget-view+json": {
       "model_id": "a8abb6bcd14b41f29e799cf817f4d962",
       "version_major": 2,
       "version_minor": 0
      },
      "text/plain": [
       "Batches:   0%|          | 0/1 [00:00<?, ?it/s]"
      ]
     },
     "metadata": {},
     "output_type": "display_data"
    },
    {
     "name": "stdout",
     "output_type": "stream",
     "text": [
      "Your input has been embedded successfully!\n",
      "Your query was: My dog died and I'm looking for people that can help me with that\n",
      "\n",
      "Here are your closest matches:\n",
      "\n",
      "1: my dog passed away in the night full on gutted\n",
      "\n",
      "\n",
      "2: the first dog that my family ever got recently started experiencing seizure we took her to the vet and we won t be able to find out what the problem is a it cost too much money she is suspected of having a brain tumor and her steroid medication seems to be working i just can t help but feel like there isn t much time left for her and i can t deal with just the thought of her dying all i know is that she ll be in a better place and that she will have lived an amazing and happy life but i m completely broken\n",
      "\n",
      "\n",
      "3: stephenkruiser i so sorry for your loss my brother dog sam is sick w cushing disease\n",
      "\n",
      "\n"
     ]
    },
    {
     "data": {
      "text/plain": [
       "['my dog passed away in the night full on gutted',\n",
       " 'the first dog that my family ever got recently started experiencing seizure we took her to the vet and we won t be able to find out what the problem is a it cost too much money she is suspected of having a brain tumor and her steroid medication seems to be working i just can t help but feel like there isn t much time left for her and i can t deal with just the thought of her dying all i know is that she ll be in a better place and that she will have lived an amazing and happy life but i m completely broken',\n",
       " 'stephenkruiser i so sorry for your loss my brother dog sam is sick w cushing disease']"
      ]
     },
     "execution_count": 49,
     "metadata": {},
     "output_type": "execute_result"
    }
   ],
   "source": [
    "model.search(query,results=3)"
   ]
  }
 ],
 "metadata": {
  "kernelspec": {
   "display_name": "yana-env",
   "language": "python",
   "name": "python3"
  },
  "language_info": {
   "codemirror_mode": {
    "name": "ipython",
    "version": 3
   },
   "file_extension": ".py",
   "mimetype": "text/x-python",
   "name": "python",
   "nbconvert_exporter": "python",
   "pygments_lexer": "ipython3",
   "version": "3.11.3"
  },
  "orig_nbformat": 4
 },
 "nbformat": 4,
 "nbformat_minor": 2
}
