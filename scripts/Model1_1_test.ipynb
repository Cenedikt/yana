{
 "cells": [
  {
   "cell_type": "code",
   "execution_count": 26,
   "metadata": {},
   "outputs": [
    {
     "name": "stdout",
     "output_type": "stream",
     "text": [
      "The autoreload extension is already loaded. To reload it, use:\n",
      "  %reload_ext autoreload\n"
     ]
    }
   ],
   "source": [
    "from models import Model1_1\n",
    "%load_ext autoreload\n",
    "%autoreload 2"
   ]
  },
  {
   "cell_type": "code",
   "execution_count": 25,
   "metadata": {},
   "outputs": [
    {
     "data": {
      "application/vnd.jupyter.widget-view+json": {
       "model_id": "0268a1b16d2246ee9fb8518e4bc2bc5e",
       "version_major": 2,
       "version_minor": 0
      },
      "text/plain": [
       "Batches:   0%|          | 0/1 [00:00<?, ?it/s]"
      ]
     },
     "metadata": {},
     "output_type": "display_data"
    },
    {
     "name": "stdout",
     "output_type": "stream",
     "text": [
      "Your input has been embedded successfully!\n"
     ]
    },
    {
     "ename": "RuntimeError",
     "evalue": "mat1 and mat2 shapes cannot be multiplied (1x768 and 769x7731)",
     "output_type": "error",
     "traceback": [
      "\u001b[0;31m---------------------------------------------------------------------------\u001b[0m",
      "\u001b[0;31mRuntimeError\u001b[0m                              Traceback (most recent call last)",
      "\u001b[1;32m/Users/vladnicolescu/code/Cenedikt/yana/scripts/Model1_1_test.ipynb Cell 2\u001b[0m in \u001b[0;36m3\n\u001b[1;32m      <a href='vscode-notebook-cell:/Users/vladnicolescu/code/Cenedikt/yana/scripts/Model1_1_test.ipynb#W1sZmlsZQ%3D%3D?line=0'>1</a>\u001b[0m model \u001b[39m=\u001b[39m Model1_1()\n\u001b[1;32m      <a href='vscode-notebook-cell:/Users/vladnicolescu/code/Cenedikt/yana/scripts/Model1_1_test.ipynb#W1sZmlsZQ%3D%3D?line=1'>2</a>\u001b[0m query \u001b[39m=\u001b[39m \u001b[39m\"\u001b[39m\u001b[39mMy dog died and I\u001b[39m\u001b[39m'\u001b[39m\u001b[39mm looking for people that can help me with that\u001b[39m\u001b[39m\"\u001b[39m\n\u001b[0;32m----> <a href='vscode-notebook-cell:/Users/vladnicolescu/code/Cenedikt/yana/scripts/Model1_1_test.ipynb#W1sZmlsZQ%3D%3D?line=2'>3</a>\u001b[0m model\u001b[39m.\u001b[39;49msearch(query\u001b[39m=\u001b[39;49mquery)\n",
      "File \u001b[0;32m~/code/Cenedikt/yana/scripts/models.py:41\u001b[0m, in \u001b[0;36mModel1_1.search\u001b[0;34m(self, query, corpus_embeddings, results)\u001b[0m\n\u001b[1;32m     38\u001b[0m         corpus_embeddings \u001b[39m=\u001b[39m torch\u001b[39m.\u001b[39mtensor(data\u001b[39m.\u001b[39mvalues)\n\u001b[1;32m     40\u001b[0m query_embeddings \u001b[39m=\u001b[39m Model1_1\u001b[39m.\u001b[39membed(\u001b[39mself\u001b[39m,query)\n\u001b[0;32m---> 41\u001b[0m pred \u001b[39m=\u001b[39m semantic_search(query_embeddings\u001b[39m=\u001b[39;49mquery_embeddings, corpus_embeddings\u001b[39m=\u001b[39;49mcorpus_embeddings,top_k\u001b[39m=\u001b[39;49mresults)\n\u001b[1;32m     43\u001b[0m \u001b[39mprint\u001b[39m(\u001b[39mf\u001b[39m\u001b[39m'\u001b[39m\u001b[39mYour query was: \u001b[39m\u001b[39m{\u001b[39;00mquery\u001b[39m}\u001b[39;00m\u001b[39m'\u001b[39m)\n\u001b[1;32m     44\u001b[0m \u001b[39mprint\u001b[39m(\u001b[39m'\u001b[39m\u001b[39m\\n\u001b[39;00m\u001b[39mHere are your closest matches:\u001b[39m\u001b[39m\\n\u001b[39;00m\u001b[39m'\u001b[39m)\n",
      "File \u001b[0;32m~/.pyenv/versions/3.11.3/envs/yana-env/lib/python3.11/site-packages/sentence_transformers/util.py:246\u001b[0m, in \u001b[0;36msemantic_search\u001b[0;34m(query_embeddings, corpus_embeddings, query_chunk_size, corpus_chunk_size, top_k, score_function)\u001b[0m\n\u001b[1;32m    242\u001b[0m \u001b[39mfor\u001b[39;00m query_start_idx \u001b[39min\u001b[39;00m \u001b[39mrange\u001b[39m(\u001b[39m0\u001b[39m, \u001b[39mlen\u001b[39m(query_embeddings), query_chunk_size):\n\u001b[1;32m    243\u001b[0m     \u001b[39m# Iterate over chunks of the corpus\u001b[39;00m\n\u001b[1;32m    244\u001b[0m     \u001b[39mfor\u001b[39;00m corpus_start_idx \u001b[39min\u001b[39;00m \u001b[39mrange\u001b[39m(\u001b[39m0\u001b[39m, \u001b[39mlen\u001b[39m(corpus_embeddings), corpus_chunk_size):\n\u001b[1;32m    245\u001b[0m         \u001b[39m# Compute cosine similarities\u001b[39;00m\n\u001b[0;32m--> 246\u001b[0m         cos_scores \u001b[39m=\u001b[39m score_function(query_embeddings[query_start_idx:query_start_idx\u001b[39m+\u001b[39;49mquery_chunk_size], corpus_embeddings[corpus_start_idx:corpus_start_idx\u001b[39m+\u001b[39;49mcorpus_chunk_size])\n\u001b[1;32m    248\u001b[0m         \u001b[39m# Get top-k scores\u001b[39;00m\n\u001b[1;32m    249\u001b[0m         cos_scores_top_k_values, cos_scores_top_k_idx \u001b[39m=\u001b[39m torch\u001b[39m.\u001b[39mtopk(cos_scores, \u001b[39mmin\u001b[39m(top_k, \u001b[39mlen\u001b[39m(cos_scores[\u001b[39m0\u001b[39m])), dim\u001b[39m=\u001b[39m\u001b[39m1\u001b[39m, largest\u001b[39m=\u001b[39m\u001b[39mTrue\u001b[39;00m, \u001b[39msorted\u001b[39m\u001b[39m=\u001b[39m\u001b[39mFalse\u001b[39;00m)\n",
      "File \u001b[0;32m~/.pyenv/versions/3.11.3/envs/yana-env/lib/python3.11/site-packages/sentence_transformers/util.py:49\u001b[0m, in \u001b[0;36mcos_sim\u001b[0;34m(a, b)\u001b[0m\n\u001b[1;32m     47\u001b[0m a_norm \u001b[39m=\u001b[39m torch\u001b[39m.\u001b[39mnn\u001b[39m.\u001b[39mfunctional\u001b[39m.\u001b[39mnormalize(a, p\u001b[39m=\u001b[39m\u001b[39m2\u001b[39m, dim\u001b[39m=\u001b[39m\u001b[39m1\u001b[39m)\n\u001b[1;32m     48\u001b[0m b_norm \u001b[39m=\u001b[39m torch\u001b[39m.\u001b[39mnn\u001b[39m.\u001b[39mfunctional\u001b[39m.\u001b[39mnormalize(b, p\u001b[39m=\u001b[39m\u001b[39m2\u001b[39m, dim\u001b[39m=\u001b[39m\u001b[39m1\u001b[39m)\n\u001b[0;32m---> 49\u001b[0m \u001b[39mreturn\u001b[39;00m torch\u001b[39m.\u001b[39;49mmm(a_norm, b_norm\u001b[39m.\u001b[39;49mtranspose(\u001b[39m0\u001b[39;49m, \u001b[39m1\u001b[39;49m))\n",
      "\u001b[0;31mRuntimeError\u001b[0m: mat1 and mat2 shapes cannot be multiplied (1x768 and 769x7731)"
     ]
    }
   ],
   "source": [
    "model = Model1_1()\n",
    "query = \"My dog died and I'm looking for people that can help me with that\"\n",
    "model.search(query=query)"
   ]
  }
 ],
 "metadata": {
  "kernelspec": {
   "display_name": "yana-env",
   "language": "python",
   "name": "python3"
  },
  "language_info": {
   "codemirror_mode": {
    "name": "ipython",
    "version": 3
   },
   "file_extension": ".py",
   "mimetype": "text/x-python",
   "name": "python",
   "nbconvert_exporter": "python",
   "pygments_lexer": "ipython3",
   "version": "3.11.3"
  },
  "orig_nbformat": 4
 },
 "nbformat": 4,
 "nbformat_minor": 2
}
