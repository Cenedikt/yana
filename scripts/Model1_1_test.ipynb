{
 "cells": [
  {
   "cell_type": "code",
   "execution_count": 20,
   "metadata": {},
   "outputs": [
    {
     "name": "stdout",
     "output_type": "stream",
     "text": [
      "The autoreload extension is already loaded. To reload it, use:\n",
      "  %reload_ext autoreload\n"
     ]
    }
   ],
   "source": [
    "from models import Model1_1\n",
    "\n",
    "%load_ext autoreload\n",
    "%autoreload 2"
   ]
  },
  {
   "cell_type": "code",
   "execution_count": 21,
   "metadata": {},
   "outputs": [
    {
     "ename": "AttributeError",
     "evalue": "'Model1_1' object has no attribute 'encode'",
     "output_type": "error",
     "traceback": [
      "\u001b[0;31m---------------------------------------------------------------------------\u001b[0m",
      "\u001b[0;31mAttributeError\u001b[0m                            Traceback (most recent call last)",
      "\u001b[1;32m/Users/vladnicolescu/code/Cenedikt/yana/scripts/Model1_1_test.ipynb Cell 2\u001b[0m in \u001b[0;36m3\n\u001b[1;32m      <a href='vscode-notebook-cell:/Users/vladnicolescu/code/Cenedikt/yana/scripts/Model1_1_test.ipynb#W1sZmlsZQ%3D%3D?line=0'>1</a>\u001b[0m model \u001b[39m=\u001b[39m Model1_1()\n\u001b[1;32m      <a href='vscode-notebook-cell:/Users/vladnicolescu/code/Cenedikt/yana/scripts/Model1_1_test.ipynb#W1sZmlsZQ%3D%3D?line=1'>2</a>\u001b[0m query \u001b[39m=\u001b[39m \u001b[39m\"\u001b[39m\u001b[39mMy dog died and I\u001b[39m\u001b[39m'\u001b[39m\u001b[39mm looking for people that can help me with that\u001b[39m\u001b[39m\"\u001b[39m\n\u001b[0;32m----> <a href='vscode-notebook-cell:/Users/vladnicolescu/code/Cenedikt/yana/scripts/Model1_1_test.ipynb#W1sZmlsZQ%3D%3D?line=2'>3</a>\u001b[0m model\u001b[39m.\u001b[39;49msearch(query\u001b[39m=\u001b[39;49mquery)\n",
      "File \u001b[0;32m~/code/Cenedikt/yana/scripts/models.py:39\u001b[0m, in \u001b[0;36mModel1_1.search\u001b[0;34m(self, query, corpus_embeddings, results)\u001b[0m\n\u001b[1;32m     36\u001b[0m         data \u001b[39m=\u001b[39m pd\u001b[39m.\u001b[39mread_csv(file)\n\u001b[1;32m     37\u001b[0m         corpus_embeddings \u001b[39m=\u001b[39m torch\u001b[39m.\u001b[39mtensor(data\u001b[39m.\u001b[39mvalues)\n\u001b[0;32m---> 39\u001b[0m query_embeddings \u001b[39m=\u001b[39m Model1_1\u001b[39m.\u001b[39;49membed(\u001b[39mself\u001b[39;49m,query)\n\u001b[1;32m     40\u001b[0m pred \u001b[39m=\u001b[39m semantic_search(query_embeddings\u001b[39m=\u001b[39mquery_embeddings, corpus_embeddings\u001b[39m=\u001b[39mcorpus_embeddings,top_k\u001b[39m=\u001b[39mresults)\n\u001b[1;32m     42\u001b[0m \u001b[39mprint\u001b[39m(\u001b[39mf\u001b[39m\u001b[39m'\u001b[39m\u001b[39mYour query was: \u001b[39m\u001b[39m{\u001b[39;00mquery\u001b[39m}\u001b[39;00m\u001b[39m'\u001b[39m)\n",
      "File \u001b[0;32m~/code/Cenedikt/yana/scripts/models.py:20\u001b[0m, in \u001b[0;36mModel1_1.embed\u001b[0;34m(self, data)\u001b[0m\n\u001b[1;32m     19\u001b[0m \u001b[39mdef\u001b[39;00m \u001b[39membed\u001b[39m(\u001b[39mself\u001b[39m,data:pd\u001b[39m.\u001b[39mDataFrame\u001b[39m|\u001b[39m\u001b[39mlist\u001b[39m\u001b[39m|\u001b[39m\u001b[39mstr\u001b[39m):\n\u001b[0;32m---> 20\u001b[0m     embedded \u001b[39m=\u001b[39m  \u001b[39mself\u001b[39;49m\u001b[39m.\u001b[39;49mencode(data,show_progress_bar\u001b[39m=\u001b[39m\u001b[39mTrue\u001b[39;00m,convert_to_tensor\u001b[39m=\u001b[39m\u001b[39mTrue\u001b[39;00m)\n\u001b[1;32m     21\u001b[0m     \u001b[39mprint\u001b[39m(\u001b[39m'\u001b[39m\u001b[39mYour input has been embedded successfully!\u001b[39m\u001b[39m'\u001b[39m)\n\u001b[1;32m     22\u001b[0m     \u001b[39mreturn\u001b[39;00m embedded\n",
      "\u001b[0;31mAttributeError\u001b[0m: 'Model1_1' object has no attribute 'encode'"
     ]
    }
   ],
   "source": [
    "model = Model1_1()\n",
    "query = \"My dog died and I'm looking for people that can help me with that\"\n",
    "model.search(query=query)"
   ]
  }
 ],
 "metadata": {
  "kernelspec": {
   "display_name": "yana-env",
   "language": "python",
   "name": "python3"
  },
  "language_info": {
   "codemirror_mode": {
    "name": "ipython",
    "version": 3
   },
   "file_extension": ".py",
   "mimetype": "text/x-python",
   "name": "python",
   "nbconvert_exporter": "python",
   "pygments_lexer": "ipython3",
   "version": "3.11.3"
  },
  "orig_nbformat": 4
 },
 "nbformat": 4,
 "nbformat_minor": 2
}
